{
 "cells": [
  {
   "cell_type": "markdown",
   "metadata": {},
   "source": [
    "# COVID 19 Mexican Analysis\n",
    "## Cesar Robles\n",
    "\n",
    "### Introduction\n",
    "Retrieving the information from the Mexican source system. All the information is public and anyone can download and interact with it.\n",
    "The *database* is in the following link: http://datosabiertos.salud.gob.mx/gobmx/salud/datos_abiertos/datos_abiertos_covid19.zip\n",
    "The principal *descriptors* are in the following link: http://datosabiertos.salud.gob.mx/gobmx/salud/datos_abiertos/diccionario_datos_covid19.zip\n",
    "\n",
    "Both files are needed to understand the information collected by the Mexican Health Ministry. The information was splitted to avoid problems with the size volume. In this sense, this action help us to download the information."
   ]
  },
  {
   "cell_type": "markdown",
   "metadata": {},
   "source": [
    "**Needed libraries:**\n",
    "\n",
    "The following lines can skip if you already have the packages."
   ]
  },
  {
   "cell_type": "code",
   "execution_count": 1,
   "metadata": {},
   "outputs": [
    {
     "name": "stdout",
     "output_type": "stream",
     "text": [
      "Requirement already satisfied: pandas in /Users/c.marcoa.roblesg./Documents/Projects/virtual_environment/lib/python3.7/site-packages (1.1.2)\n",
      "Requirement already satisfied: numpy in /Users/c.marcoa.roblesg./Documents/Projects/virtual_environment/lib/python3.7/site-packages (1.18.0)\n",
      "Requirement already satisfied: zipfile37 in /Users/c.marcoa.roblesg./Documents/Projects/virtual_environment/lib/python3.7/site-packages (0.1.3)\n",
      "Requirement already satisfied: xlrd in /Users/c.marcoa.roblesg./Documents/Projects/virtual_environment/lib/python3.7/site-packages (1.2.0)\n",
      "Requirement already satisfied: openpyxl in /Users/c.marcoa.roblesg./Documents/Projects/virtual_environment/lib/python3.7/site-packages (3.0.5)\n",
      "Requirement already satisfied: python-dateutil>=2.7.3 in /Users/c.marcoa.roblesg./Documents/Projects/virtual_environment/lib/python3.7/site-packages (from pandas) (2.8.1)\n",
      "Requirement already satisfied: pytz>=2017.2 in /Users/c.marcoa.roblesg./Documents/Projects/virtual_environment/lib/python3.7/site-packages (from pandas) (2020.1)\n",
      "Requirement already satisfied: jdcal in /Users/c.marcoa.roblesg./Documents/Projects/virtual_environment/lib/python3.7/site-packages (from openpyxl) (1.4.1)\n",
      "Requirement already satisfied: et-xmlfile in /Users/c.marcoa.roblesg./Documents/Projects/virtual_environment/lib/python3.7/site-packages (from openpyxl) (1.0.1)\n",
      "Requirement already satisfied: six>=1.5 in /Users/c.marcoa.roblesg./Documents/Projects/virtual_environment/lib/python3.7/site-packages (from python-dateutil>=2.7.3->pandas) (1.15.0)\n"
     ]
    }
   ],
   "source": [
    "!pip install pandas numpy zipfile37 xlrd openpyxl"
   ]
  },
  {
   "cell_type": "markdown",
   "metadata": {},
   "source": [
    "**Importing the libraries**"
   ]
  },
  {
   "cell_type": "code",
   "execution_count": 2,
   "metadata": {},
   "outputs": [],
   "source": [
    "import pandas as pd\n",
    "import zipfile\n",
    "import glob\n",
    "import os\n",
    "import re"
   ]
  },
  {
   "cell_type": "code",
   "execution_count": 3,
   "metadata": {},
   "outputs": [],
   "source": [
    "def checkFiles(fileName,files):\n",
    "    flag = 0\n",
    "    for file in files:\n",
    "        if not re.search(fileName,file) == None:\n",
    "            flag = 1\n",
    "        else:\n",
    "            flag = 0\n",
    "    return flag, fileName"
   ]
  },
  {
   "cell_type": "code",
   "execution_count": 4,
   "metadata": {},
   "outputs": [
    {
     "name": "stdout",
     "output_type": "stream",
     "text": [
      "--2020-10-12 00:07:58--  http://datosabiertos.salud.gob.mx/gobmx/salud/datos_abiertos/datos_abiertos_covid19.zip\n",
      "Resolving datosabiertos.salud.gob.mx (datosabiertos.salud.gob.mx)... 187.210.186.146\n",
      "Connecting to datosabiertos.salud.gob.mx (datosabiertos.salud.gob.mx)|187.210.186.146|:80... connected.\n",
      "HTTP request sent, awaiting response... 200 OK\n",
      "Length: 45021756 (43M) [application/x-zip-compressed]\n",
      "Saving to: ‘Databases/datos_abiertos_covid19.zip’\n",
      "\n",
      "datos_abiertos_covi 100%[===================>]  42.94M  4.18MB/s    in 10s     \n",
      "\n",
      "2020-10-12 00:08:08 (4.13 MB/s) - ‘Databases/datos_abiertos_covid19.zip’ saved [45021756/45021756]\n",
      "\n",
      "--2020-10-12 00:08:08--  http://datosabiertos.salud.gob.mx/gobmx/salud/datos_abiertos/diccionario_datos_covid19.zip\n",
      "Resolving datosabiertos.salud.gob.mx (datosabiertos.salud.gob.mx)... 187.210.186.146\n",
      "Connecting to datosabiertos.salud.gob.mx (datosabiertos.salud.gob.mx)|187.210.186.146|:80... connected.\n",
      "HTTP request sent, awaiting response... 200 OK\n",
      "Length: 146303 (143K) [application/x-zip-compressed]\n",
      "Saving to: ‘Databases/diccionario_datos_covid19.zip’\n",
      "\n",
      "diccionario_datos_c 100%[===================>] 142.87K  --.-KB/s    in 0.06s   \n",
      "\n",
      "2020-10-12 00:08:08 (2.29 MB/s) - ‘Databases/diccionario_datos_covid19.zip’ saved [146303/146303]\n",
      "\n"
     ]
    }
   ],
   "source": [
    "path = 'Databases'\n",
    "files = glob.glob(os.path.join(path,'*'))\n",
    "\n",
    "[flag,fileName] = checkFiles('datos_abiertos_covid19.zip',files)\n",
    "if flag == 1:\n",
    "    os.system('rm -r '+os.path.join(path,fileName))\n",
    "    !wget -P 'Databases' http://datosabiertos.salud.gob.mx/gobmx/salud/datos_abiertos/datos_abiertos_covid19.zip\n",
    "else:\n",
    "    !wget -P 'Databases' http://datosabiertos.salud.gob.mx/gobmx/salud/datos_abiertos/datos_abiertos_covid19.zip\n",
    "\n",
    "[flag,fileName] = checkFiles('diccionario_datos_covid19.zip',files)\n",
    "if flag == 1:\n",
    "    os.system('rm -r '+os.path.join(path,fileName))\n",
    "    !wget -P 'Databases' http://datosabiertos.salud.gob.mx/gobmx/salud/datos_abiertos/diccionario_datos_covid19.zip\n",
    "else:\n",
    "    !wget -P 'Databases' http://datosabiertos.salud.gob.mx/gobmx/salud/datos_abiertos/diccionario_datos_covid19.zip\n",
    "\n",
    "[flag,fileName] = checkFiles('datos_abiertos_covid19.csv',files)\n",
    "if flag == 1:\n",
    "    os.system('rm -r '+os.path.join(path,fileName))\n",
    "[flag,fileName] = checkFiles('diccionario_datos_covid19',files)\n",
    "if flag == 1:\n",
    "    os.system('rm -r '+os.path.join(path,fileName))"
   ]
  },
  {
   "cell_type": "markdown",
   "metadata": {},
   "source": [
    "**Extracting the information**"
   ]
  },
  {
   "cell_type": "code",
   "execution_count": 5,
   "metadata": {},
   "outputs": [],
   "source": [
    "import zipfile\n",
    "files = glob.glob(os.path.join(path,'*.zip'))\n",
    "for file in files:\n",
    "    if file == \"Databases/diccionario_datos_covid19.zip\":\n",
    "        with zipfile.ZipFile(file,\"r\") as zip_ref:\n",
    "            zip_ref.extractall(\"Databases/diccionario_datos_covid19/.\")\n",
    "    else:\n",
    "        with zipfile.ZipFile(file,\"r\") as zip_ref:\n",
    "            zip_ref.extractall(\"Databases/.\")"
   ]
  },
  {
   "cell_type": "code",
   "execution_count": 6,
   "metadata": {},
   "outputs": [
    {
     "data": {
      "text/html": [
       "<div>\n",
       "<style scoped>\n",
       "    .dataframe tbody tr th:only-of-type {\n",
       "        vertical-align: middle;\n",
       "    }\n",
       "\n",
       "    .dataframe tbody tr th {\n",
       "        vertical-align: top;\n",
       "    }\n",
       "\n",
       "    .dataframe thead th {\n",
       "        text-align: right;\n",
       "    }\n",
       "</style>\n",
       "<table border=\"1\" class=\"dataframe\">\n",
       "  <thead>\n",
       "    <tr style=\"text-align: right;\">\n",
       "      <th></th>\n",
       "      <th>FECHA_ACTUALIZACION</th>\n",
       "      <th>ID_REGISTRO</th>\n",
       "      <th>ORIGEN</th>\n",
       "      <th>SECTOR</th>\n",
       "      <th>ENTIDAD_UM</th>\n",
       "      <th>SEXO</th>\n",
       "      <th>ENTIDAD_NAC</th>\n",
       "      <th>ENTIDAD_RES</th>\n",
       "      <th>MUNICIPIO_RES</th>\n",
       "      <th>TIPO_PACIENTE</th>\n",
       "      <th>...</th>\n",
       "      <th>RENAL_CRONICA</th>\n",
       "      <th>TABAQUISMO</th>\n",
       "      <th>OTRO_CASO</th>\n",
       "      <th>TOMA_MUESTRA</th>\n",
       "      <th>RESULTADO_LAB</th>\n",
       "      <th>CLASIFICACION_FINAL</th>\n",
       "      <th>MIGRANTE</th>\n",
       "      <th>PAIS_NACIONALIDAD</th>\n",
       "      <th>PAIS_ORIGEN</th>\n",
       "      <th>UCI</th>\n",
       "    </tr>\n",
       "  </thead>\n",
       "  <tbody>\n",
       "    <tr>\n",
       "      <th>0</th>\n",
       "      <td>2020-10-11</td>\n",
       "      <td>071735</td>\n",
       "      <td>2</td>\n",
       "      <td>9</td>\n",
       "      <td>21</td>\n",
       "      <td>2</td>\n",
       "      <td>21</td>\n",
       "      <td>21</td>\n",
       "      <td>114</td>\n",
       "      <td>1</td>\n",
       "      <td>...</td>\n",
       "      <td>2</td>\n",
       "      <td>2</td>\n",
       "      <td>2</td>\n",
       "      <td>1</td>\n",
       "      <td>1</td>\n",
       "      <td>3</td>\n",
       "      <td>99</td>\n",
       "      <td>México</td>\n",
       "      <td>97</td>\n",
       "      <td>97</td>\n",
       "    </tr>\n",
       "    <tr>\n",
       "      <th>1</th>\n",
       "      <td>2020-10-11</td>\n",
       "      <td>1c4583</td>\n",
       "      <td>2</td>\n",
       "      <td>12</td>\n",
       "      <td>9</td>\n",
       "      <td>2</td>\n",
       "      <td>9</td>\n",
       "      <td>9</td>\n",
       "      <td>4</td>\n",
       "      <td>1</td>\n",
       "      <td>...</td>\n",
       "      <td>2</td>\n",
       "      <td>2</td>\n",
       "      <td>2</td>\n",
       "      <td>1</td>\n",
       "      <td>1</td>\n",
       "      <td>3</td>\n",
       "      <td>99</td>\n",
       "      <td>México</td>\n",
       "      <td>97</td>\n",
       "      <td>97</td>\n",
       "    </tr>\n",
       "    <tr>\n",
       "      <th>2</th>\n",
       "      <td>2020-10-11</td>\n",
       "      <td>0d55c9</td>\n",
       "      <td>2</td>\n",
       "      <td>12</td>\n",
       "      <td>9</td>\n",
       "      <td>1</td>\n",
       "      <td>9</td>\n",
       "      <td>9</td>\n",
       "      <td>16</td>\n",
       "      <td>1</td>\n",
       "      <td>...</td>\n",
       "      <td>2</td>\n",
       "      <td>2</td>\n",
       "      <td>2</td>\n",
       "      <td>1</td>\n",
       "      <td>1</td>\n",
       "      <td>3</td>\n",
       "      <td>99</td>\n",
       "      <td>México</td>\n",
       "      <td>97</td>\n",
       "      <td>97</td>\n",
       "    </tr>\n",
       "    <tr>\n",
       "      <th>3</th>\n",
       "      <td>2020-10-11</td>\n",
       "      <td>002371</td>\n",
       "      <td>1</td>\n",
       "      <td>4</td>\n",
       "      <td>3</td>\n",
       "      <td>2</td>\n",
       "      <td>3</td>\n",
       "      <td>3</td>\n",
       "      <td>8</td>\n",
       "      <td>1</td>\n",
       "      <td>...</td>\n",
       "      <td>2</td>\n",
       "      <td>2</td>\n",
       "      <td>99</td>\n",
       "      <td>1</td>\n",
       "      <td>1</td>\n",
       "      <td>3</td>\n",
       "      <td>99</td>\n",
       "      <td>México</td>\n",
       "      <td>97</td>\n",
       "      <td>97</td>\n",
       "    </tr>\n",
       "    <tr>\n",
       "      <th>4</th>\n",
       "      <td>2020-10-11</td>\n",
       "      <td>11fb00</td>\n",
       "      <td>1</td>\n",
       "      <td>12</td>\n",
       "      <td>9</td>\n",
       "      <td>2</td>\n",
       "      <td>9</td>\n",
       "      <td>9</td>\n",
       "      <td>15</td>\n",
       "      <td>1</td>\n",
       "      <td>...</td>\n",
       "      <td>2</td>\n",
       "      <td>2</td>\n",
       "      <td>1</td>\n",
       "      <td>1</td>\n",
       "      <td>1</td>\n",
       "      <td>3</td>\n",
       "      <td>99</td>\n",
       "      <td>México</td>\n",
       "      <td>97</td>\n",
       "      <td>97</td>\n",
       "    </tr>\n",
       "  </tbody>\n",
       "</table>\n",
       "<p>5 rows × 38 columns</p>\n",
       "</div>"
      ],
      "text/plain": [
       "  FECHA_ACTUALIZACION ID_REGISTRO  ORIGEN  SECTOR  ENTIDAD_UM  SEXO  \\\n",
       "0          2020-10-11      071735       2       9          21     2   \n",
       "1          2020-10-11      1c4583       2      12           9     2   \n",
       "2          2020-10-11      0d55c9       2      12           9     1   \n",
       "3          2020-10-11      002371       1       4           3     2   \n",
       "4          2020-10-11      11fb00       1      12           9     2   \n",
       "\n",
       "   ENTIDAD_NAC  ENTIDAD_RES  MUNICIPIO_RES  TIPO_PACIENTE  ... RENAL_CRONICA  \\\n",
       "0           21           21            114              1  ...             2   \n",
       "1            9            9              4              1  ...             2   \n",
       "2            9            9             16              1  ...             2   \n",
       "3            3            3              8              1  ...             2   \n",
       "4            9            9             15              1  ...             2   \n",
       "\n",
       "  TABAQUISMO OTRO_CASO  TOMA_MUESTRA  RESULTADO_LAB  CLASIFICACION_FINAL  \\\n",
       "0          2         2             1              1                    3   \n",
       "1          2         2             1              1                    3   \n",
       "2          2         2             1              1                    3   \n",
       "3          2        99             1              1                    3   \n",
       "4          2         1             1              1                    3   \n",
       "\n",
       "   MIGRANTE  PAIS_NACIONALIDAD  PAIS_ORIGEN  UCI  \n",
       "0        99             México           97   97  \n",
       "1        99             México           97   97  \n",
       "2        99             México           97   97  \n",
       "3        99             México           97   97  \n",
       "4        99             México           97   97  \n",
       "\n",
       "[5 rows x 38 columns]"
      ]
     },
     "execution_count": 6,
     "metadata": {},
     "output_type": "execute_result"
    }
   ],
   "source": [
    "files = glob.glob(os.path.join(path,'*.csv'))\n",
    "db = pd.read_csv(files[0],engine='python')\n",
    "db.head()"
   ]
  },
  {
   "cell_type": "code",
   "execution_count": 7,
   "metadata": {},
   "outputs": [
    {
     "name": "stdout",
     "output_type": "stream",
     "text": [
      "792920\n"
     ]
    },
    {
     "data": {
      "text/html": [
       "<div>\n",
       "<style scoped>\n",
       "    .dataframe tbody tr th:only-of-type {\n",
       "        vertical-align: middle;\n",
       "    }\n",
       "\n",
       "    .dataframe tbody tr th {\n",
       "        vertical-align: top;\n",
       "    }\n",
       "\n",
       "    .dataframe thead th {\n",
       "        text-align: right;\n",
       "    }\n",
       "</style>\n",
       "<table border=\"1\" class=\"dataframe\">\n",
       "  <thead>\n",
       "    <tr style=\"text-align: right;\">\n",
       "      <th></th>\n",
       "      <th>FECHA_ACTUALIZACION</th>\n",
       "      <th>ID_REGISTRO</th>\n",
       "      <th>ORIGEN</th>\n",
       "      <th>SECTOR</th>\n",
       "      <th>ENTIDAD_UM</th>\n",
       "      <th>SEXO</th>\n",
       "      <th>ENTIDAD_NAC</th>\n",
       "      <th>ENTIDAD_RES</th>\n",
       "      <th>MUNICIPIO_RES</th>\n",
       "      <th>TIPO_PACIENTE</th>\n",
       "      <th>...</th>\n",
       "      <th>RENAL_CRONICA</th>\n",
       "      <th>TABAQUISMO</th>\n",
       "      <th>OTRO_CASO</th>\n",
       "      <th>TOMA_MUESTRA</th>\n",
       "      <th>RESULTADO_LAB</th>\n",
       "      <th>CLASIFICACION_FINAL</th>\n",
       "      <th>MIGRANTE</th>\n",
       "      <th>PAIS_NACIONALIDAD</th>\n",
       "      <th>PAIS_ORIGEN</th>\n",
       "      <th>UCI</th>\n",
       "    </tr>\n",
       "  </thead>\n",
       "  <tbody>\n",
       "    <tr>\n",
       "      <th>0</th>\n",
       "      <td>2020-10-11</td>\n",
       "      <td>071735</td>\n",
       "      <td>2</td>\n",
       "      <td>9</td>\n",
       "      <td>21</td>\n",
       "      <td>2</td>\n",
       "      <td>21</td>\n",
       "      <td>21</td>\n",
       "      <td>114</td>\n",
       "      <td>1</td>\n",
       "      <td>...</td>\n",
       "      <td>2</td>\n",
       "      <td>2</td>\n",
       "      <td>2</td>\n",
       "      <td>1</td>\n",
       "      <td>1</td>\n",
       "      <td>3</td>\n",
       "      <td>99</td>\n",
       "      <td>México</td>\n",
       "      <td>97</td>\n",
       "      <td>97</td>\n",
       "    </tr>\n",
       "    <tr>\n",
       "      <th>1</th>\n",
       "      <td>2020-10-11</td>\n",
       "      <td>1c4583</td>\n",
       "      <td>2</td>\n",
       "      <td>12</td>\n",
       "      <td>9</td>\n",
       "      <td>2</td>\n",
       "      <td>9</td>\n",
       "      <td>9</td>\n",
       "      <td>4</td>\n",
       "      <td>1</td>\n",
       "      <td>...</td>\n",
       "      <td>2</td>\n",
       "      <td>2</td>\n",
       "      <td>2</td>\n",
       "      <td>1</td>\n",
       "      <td>1</td>\n",
       "      <td>3</td>\n",
       "      <td>99</td>\n",
       "      <td>México</td>\n",
       "      <td>97</td>\n",
       "      <td>97</td>\n",
       "    </tr>\n",
       "    <tr>\n",
       "      <th>2</th>\n",
       "      <td>2020-10-11</td>\n",
       "      <td>0d55c9</td>\n",
       "      <td>2</td>\n",
       "      <td>12</td>\n",
       "      <td>9</td>\n",
       "      <td>1</td>\n",
       "      <td>9</td>\n",
       "      <td>9</td>\n",
       "      <td>16</td>\n",
       "      <td>1</td>\n",
       "      <td>...</td>\n",
       "      <td>2</td>\n",
       "      <td>2</td>\n",
       "      <td>2</td>\n",
       "      <td>1</td>\n",
       "      <td>1</td>\n",
       "      <td>3</td>\n",
       "      <td>99</td>\n",
       "      <td>México</td>\n",
       "      <td>97</td>\n",
       "      <td>97</td>\n",
       "    </tr>\n",
       "    <tr>\n",
       "      <th>3</th>\n",
       "      <td>2020-10-11</td>\n",
       "      <td>002371</td>\n",
       "      <td>1</td>\n",
       "      <td>4</td>\n",
       "      <td>3</td>\n",
       "      <td>2</td>\n",
       "      <td>3</td>\n",
       "      <td>3</td>\n",
       "      <td>8</td>\n",
       "      <td>1</td>\n",
       "      <td>...</td>\n",
       "      <td>2</td>\n",
       "      <td>2</td>\n",
       "      <td>99</td>\n",
       "      <td>1</td>\n",
       "      <td>1</td>\n",
       "      <td>3</td>\n",
       "      <td>99</td>\n",
       "      <td>México</td>\n",
       "      <td>97</td>\n",
       "      <td>97</td>\n",
       "    </tr>\n",
       "    <tr>\n",
       "      <th>4</th>\n",
       "      <td>2020-10-11</td>\n",
       "      <td>11fb00</td>\n",
       "      <td>1</td>\n",
       "      <td>12</td>\n",
       "      <td>9</td>\n",
       "      <td>2</td>\n",
       "      <td>9</td>\n",
       "      <td>9</td>\n",
       "      <td>15</td>\n",
       "      <td>1</td>\n",
       "      <td>...</td>\n",
       "      <td>2</td>\n",
       "      <td>2</td>\n",
       "      <td>1</td>\n",
       "      <td>1</td>\n",
       "      <td>1</td>\n",
       "      <td>3</td>\n",
       "      <td>99</td>\n",
       "      <td>México</td>\n",
       "      <td>97</td>\n",
       "      <td>97</td>\n",
       "    </tr>\n",
       "  </tbody>\n",
       "</table>\n",
       "<p>5 rows × 38 columns</p>\n",
       "</div>"
      ],
      "text/plain": [
       "  FECHA_ACTUALIZACION ID_REGISTRO  ORIGEN  SECTOR  ENTIDAD_UM  SEXO  \\\n",
       "0          2020-10-11      071735       2       9          21     2   \n",
       "1          2020-10-11      1c4583       2      12           9     2   \n",
       "2          2020-10-11      0d55c9       2      12           9     1   \n",
       "3          2020-10-11      002371       1       4           3     2   \n",
       "4          2020-10-11      11fb00       1      12           9     2   \n",
       "\n",
       "   ENTIDAD_NAC  ENTIDAD_RES  MUNICIPIO_RES  TIPO_PACIENTE  ... RENAL_CRONICA  \\\n",
       "0           21           21            114              1  ...             2   \n",
       "1            9            9              4              1  ...             2   \n",
       "2            9            9             16              1  ...             2   \n",
       "3            3            3              8              1  ...             2   \n",
       "4            9            9             15              1  ...             2   \n",
       "\n",
       "  TABAQUISMO OTRO_CASO  TOMA_MUESTRA  RESULTADO_LAB  CLASIFICACION_FINAL  \\\n",
       "0          2         2             1              1                    3   \n",
       "1          2         2             1              1                    3   \n",
       "2          2         2             1              1                    3   \n",
       "3          2        99             1              1                    3   \n",
       "4          2         1             1              1                    3   \n",
       "\n",
       "   MIGRANTE  PAIS_NACIONALIDAD  PAIS_ORIGEN  UCI  \n",
       "0        99             México           97   97  \n",
       "1        99             México           97   97  \n",
       "2        99             México           97   97  \n",
       "3        99             México           97   97  \n",
       "4        99             México           97   97  \n",
       "\n",
       "[5 rows x 38 columns]"
      ]
     },
     "execution_count": 7,
     "metadata": {},
     "output_type": "execute_result"
    }
   ],
   "source": [
    "# Get positive COVID 19 infected people\n",
    "data = db.loc[(db['RESULTADO_LAB']==1)]\n",
    "print(len(data))\n",
    "data.head()"
   ]
  },
  {
   "cell_type": "code",
   "execution_count": 8,
   "metadata": {},
   "outputs": [
    {
     "name": "stdout",
     "output_type": "stream",
     "text": [
      "Databases/diccionario_datos_covid19/Catalogos_071020.xlsx\n"
     ]
    },
    {
     "data": {
      "text/plain": [
       "['Catálogo ORIGEN',\n",
       " 'Catálogo SECTOR',\n",
       " 'Catálogo SEXO',\n",
       " 'Catálogo TIPO_PACIENTE',\n",
       " 'Catálogo SI_NO',\n",
       " 'Catálogo NACIONALIDAD',\n",
       " 'Catálogo RESULTADO_LAB',\n",
       " 'Catálogo CLASIFICACION_FINAL',\n",
       " 'Catálogo de ENTIDADES',\n",
       " 'Catálogo MUNICIPIOS']"
      ]
     },
     "execution_count": 8,
     "metadata": {},
     "output_type": "execute_result"
    }
   ],
   "source": [
    "os.system('rm -r '+os.path.join(path,'*.zip'))\n",
    "files = glob.glob(os.path.join(path,'*/*'))\n",
    "for file in files:\n",
    "    if re.search('Catalogos',file) != None:\n",
    "        print(file)\n",
    "        break\n",
    "catalogues = pd.ExcelFile(file)\n",
    "catalogues.sheet_names"
   ]
  },
  {
   "cell_type": "code",
   "execution_count": 9,
   "metadata": {},
   "outputs": [
    {
     "data": {
      "text/plain": [
       "792920"
      ]
     },
     "execution_count": 9,
     "metadata": {},
     "output_type": "execute_result"
    }
   ],
   "source": [
    "origen = catalogues.parse('Catálogo ORIGEN')\n",
    "data = pd.merge(data,origen,left_on='ORIGEN',right_on='CLAVE')\n",
    "data = data.rename(columns={'DESCRIPCIÓN':'ORIGEN_DESC'})\n",
    "data = data.drop('CLAVE',axis=1)\n",
    "len(data)"
   ]
  },
  {
   "cell_type": "code",
   "execution_count": 10,
   "metadata": {},
   "outputs": [
    {
     "data": {
      "text/plain": [
       "792920"
      ]
     },
     "execution_count": 10,
     "metadata": {},
     "output_type": "execute_result"
    }
   ],
   "source": [
    "sector = catalogues.parse('Catálogo SECTOR')\n",
    "data = pd.merge(data,sector,left_on='SECTOR',right_on='CLAVE')\n",
    "data = data.rename(columns={'DESCRIPCIÓN':'SECTOR_DESC'})\n",
    "data = data.drop('CLAVE',axis=1)\n",
    "len(data)"
   ]
  },
  {
   "cell_type": "code",
   "execution_count": 11,
   "metadata": {},
   "outputs": [
    {
     "data": {
      "text/plain": [
       "792920"
      ]
     },
     "execution_count": 11,
     "metadata": {},
     "output_type": "execute_result"
    }
   ],
   "source": [
    "sexo = catalogues.parse('Catálogo SEXO')\n",
    "data = pd.merge(data,sexo,left_on='SEXO',right_on='CLAVE')\n",
    "data = data.rename(columns={'DESCRIPCIÓN':'SEXO_DESC'})\n",
    "data = data.drop('CLAVE',axis=1)\n",
    "len(data)"
   ]
  },
  {
   "cell_type": "code",
   "execution_count": 12,
   "metadata": {},
   "outputs": [
    {
     "data": {
      "text/plain": [
       "792920"
      ]
     },
     "execution_count": 12,
     "metadata": {},
     "output_type": "execute_result"
    }
   ],
   "source": [
    "tipoPaciente = catalogues.parse('Catálogo TIPO_PACIENTE')\n",
    "data = pd.merge(data,tipoPaciente,left_on='TIPO_PACIENTE',right_on='CLAVE')\n",
    "data = data.rename(columns={'DESCRIPCIÓN':'TIPO_PACIENTE_DESC'})\n",
    "data = data.drop('CLAVE',axis=1)\n",
    "len(data)"
   ]
  },
  {
   "cell_type": "code",
   "execution_count": 13,
   "metadata": {},
   "outputs": [
    {
     "data": {
      "text/plain": [
       "792920"
      ]
     },
     "execution_count": 13,
     "metadata": {},
     "output_type": "execute_result"
    }
   ],
   "source": [
    "nacionalidad = catalogues.parse('Catálogo NACIONALIDAD')\n",
    "data = pd.merge(data,nacionalidad,left_on='NACIONALIDAD',right_on='CLAVE')\n",
    "data = data.rename(columns={'DESCRIPCIÓN':'NACIONALIDAD_DESC'})\n",
    "data = data.drop('CLAVE',axis=1)\n",
    "len(data)"
   ]
  },
  {
   "cell_type": "code",
   "execution_count": 14,
   "metadata": {},
   "outputs": [
    {
     "data": {
      "text/plain": [
       "792920"
      ]
     },
     "execution_count": 14,
     "metadata": {},
     "output_type": "execute_result"
    }
   ],
   "source": [
    "resultadoLab = catalogues.parse('Catálogo RESULTADO_LAB',1)\n",
    "data = pd.merge(data,resultadoLab,left_on='RESULTADO_LAB',right_on='CLAVE')\n",
    "data = data.rename(columns={'DESCRIPCIÓN':'RESULTADO_LAB_DESC'})\n",
    "data = data.drop('CLAVE',axis=1)\n",
    "len(data)"
   ]
  },
  {
   "cell_type": "code",
   "execution_count": 15,
   "metadata": {},
   "outputs": [
    {
     "data": {
      "text/plain": [
       "792920"
      ]
     },
     "execution_count": 15,
     "metadata": {},
     "output_type": "execute_result"
    }
   ],
   "source": [
    "classificacion_final = catalogues.parse('Catálogo CLASIFICACION_FINAL',2)\n",
    "data = pd.merge(data,classificacion_final,left_on='CLASIFICACION_FINAL',right_on='CLAVE')\n",
    "data = data.rename(columns={'DESCRIPCIÓN':'CLAS_DESC'})\n",
    "data = data.drop('CLAVE',axis=1)\n",
    "len(data)"
   ]
  },
  {
   "cell_type": "code",
   "execution_count": 16,
   "metadata": {},
   "outputs": [
    {
     "data": {
      "text/plain": [
       "792920"
      ]
     },
     "execution_count": 16,
     "metadata": {},
     "output_type": "execute_result"
    }
   ],
   "source": [
    "entidades = catalogues.parse('Catálogo de ENTIDADES')\n",
    "data = pd.merge(data,entidades,left_on='ENTIDAD_NAC',right_on='CLAVE_ENTIDAD')\n",
    "data = data.rename(columns={'ENTIDAD_FEDERATIVA':'ENTIDAD_FEDERATIVA_NAC','ABREVIATURA':'ABREVIATURA_NAC'})\n",
    "data = data.drop('CLAVE_ENTIDAD',axis=1)\n",
    "len(data)"
   ]
  },
  {
   "cell_type": "code",
   "execution_count": 17,
   "metadata": {},
   "outputs": [
    {
     "data": {
      "text/plain": [
       "792920"
      ]
     },
     "execution_count": 17,
     "metadata": {},
     "output_type": "execute_result"
    }
   ],
   "source": [
    "entidades = catalogues.parse('Catálogo de ENTIDADES')\n",
    "data = pd.merge(data,entidades,left_on='ENTIDAD_RES',right_on='CLAVE_ENTIDAD')\n",
    "data = data.rename(columns={'ENTIDAD_FEDERATIVA':'ENTIDAD_FEDERATIVA_RES','ABREVIATURA':'ABREVIATURA_RES'})\n",
    "data = data.drop('CLAVE_ENTIDAD',axis=1)\n",
    "len(data)"
   ]
  },
  {
   "cell_type": "code",
   "execution_count": 18,
   "metadata": {},
   "outputs": [
    {
     "data": {
      "text/plain": [
       "792920"
      ]
     },
     "execution_count": 18,
     "metadata": {},
     "output_type": "execute_result"
    }
   ],
   "source": [
    "entidades = catalogues.parse('Catálogo de ENTIDADES')\n",
    "data = pd.merge(data,entidades,left_on='ENTIDAD_UM',right_on='CLAVE_ENTIDAD')\n",
    "data = data.rename(columns={'ENTIDAD_FEDERATIVA':'ENTIDAD_FEDERATIVA_UM','ABREVIATURA':'ABREVIATURA_UM'})\n",
    "data = data.drop('CLAVE_ENTIDAD',axis=1)\n",
    "len(data)"
   ]
  },
  {
   "cell_type": "code",
   "execution_count": 19,
   "metadata": {},
   "outputs": [
    {
     "data": {
      "text/plain": [
       "792920"
      ]
     },
     "execution_count": 19,
     "metadata": {},
     "output_type": "execute_result"
    }
   ],
   "source": [
    "si_no = catalogues.parse('Catálogo SI_NO')\n",
    "data = pd.merge(data,si_no,left_on='INTUBADO',right_on='CLAVE')\n",
    "data = data.rename(columns={'DESCRIPCIÓN':'INTUBADO_DESC'})\n",
    "data = data.drop(['CLAVE'],axis=1)\n",
    "len(data)"
   ]
  },
  {
   "cell_type": "code",
   "execution_count": 20,
   "metadata": {},
   "outputs": [
    {
     "data": {
      "text/plain": [
       "792920"
      ]
     },
     "execution_count": 20,
     "metadata": {},
     "output_type": "execute_result"
    }
   ],
   "source": [
    "si_no = catalogues.parse('Catálogo SI_NO')\n",
    "data = pd.merge(data,si_no,left_on='NEUMONIA',right_on='CLAVE')\n",
    "data = data.rename(columns={'DESCRIPCIÓN':'NEUMONIA_DESC'})\n",
    "data = data.drop(['CLAVE'],axis=1)\n",
    "len(data)"
   ]
  },
  {
   "cell_type": "code",
   "execution_count": 21,
   "metadata": {},
   "outputs": [
    {
     "data": {
      "text/plain": [
       "792920"
      ]
     },
     "execution_count": 21,
     "metadata": {},
     "output_type": "execute_result"
    }
   ],
   "source": [
    "si_no = catalogues.parse('Catálogo SI_NO')\n",
    "data = pd.merge(data,si_no,left_on='HABLA_LENGUA_INDIG',right_on='CLAVE')\n",
    "data = data.rename(columns={'DESCRIPCIÓN':'HABLA_LENGUA_INDIG_DESC'})\n",
    "data = data.drop(['CLAVE'],axis=1)\n",
    "len(data)"
   ]
  },
  {
   "cell_type": "code",
   "execution_count": 22,
   "metadata": {},
   "outputs": [
    {
     "data": {
      "text/plain": [
       "792920"
      ]
     },
     "execution_count": 22,
     "metadata": {},
     "output_type": "execute_result"
    }
   ],
   "source": [
    "si_no = catalogues.parse('Catálogo SI_NO')\n",
    "data = pd.merge(data,si_no,left_on='INDIGENA',right_on='CLAVE')\n",
    "data = data.rename(columns={'DESCRIPCIÓN':'INDIGENA_DESC'})\n",
    "data = data.drop(['CLAVE'],axis=1)\n",
    "len(data)"
   ]
  },
  {
   "cell_type": "code",
   "execution_count": 23,
   "metadata": {},
   "outputs": [
    {
     "data": {
      "text/plain": [
       "792920"
      ]
     },
     "execution_count": 23,
     "metadata": {},
     "output_type": "execute_result"
    }
   ],
   "source": [
    "si_no = catalogues.parse('Catálogo SI_NO')\n",
    "data = pd.merge(data,si_no,left_on='DIABETES',right_on='CLAVE')\n",
    "data = data.rename(columns={'DESCRIPCIÓN':'DIABETES_DESC'})\n",
    "data = data.drop(['CLAVE'],axis=1)\n",
    "len(data)"
   ]
  },
  {
   "cell_type": "code",
   "execution_count": 24,
   "metadata": {},
   "outputs": [
    {
     "data": {
      "text/plain": [
       "792920"
      ]
     },
     "execution_count": 24,
     "metadata": {},
     "output_type": "execute_result"
    }
   ],
   "source": [
    "si_no = catalogues.parse('Catálogo SI_NO')\n",
    "data = pd.merge(data,si_no,left_on='EPOC',right_on='CLAVE')\n",
    "data = data.rename(columns={'DESCRIPCIÓN':'EPOC_DESC'})\n",
    "data = data.drop(['CLAVE'],axis=1)\n",
    "len(data)"
   ]
  },
  {
   "cell_type": "code",
   "execution_count": 25,
   "metadata": {},
   "outputs": [
    {
     "data": {
      "text/plain": [
       "792920"
      ]
     },
     "execution_count": 25,
     "metadata": {},
     "output_type": "execute_result"
    }
   ],
   "source": [
    "si_no = catalogues.parse('Catálogo SI_NO')\n",
    "data = pd.merge(data,si_no,left_on='ASMA',right_on='CLAVE')\n",
    "data = data.rename(columns={'DESCRIPCIÓN':'ASMA_DESC'})\n",
    "data = data.drop(['CLAVE'],axis=1)\n",
    "len(data)"
   ]
  },
  {
   "cell_type": "code",
   "execution_count": 26,
   "metadata": {},
   "outputs": [
    {
     "data": {
      "text/plain": [
       "792920"
      ]
     },
     "execution_count": 26,
     "metadata": {},
     "output_type": "execute_result"
    }
   ],
   "source": [
    "si_no = catalogues.parse('Catálogo SI_NO')\n",
    "data = pd.merge(data,si_no,left_on='INMUSUPR',right_on='CLAVE')\n",
    "data = data.rename(columns={'DESCRIPCIÓN':'INMUSUPR_DESC'})\n",
    "data = data.drop(['CLAVE'],axis=1)\n",
    "len(data)"
   ]
  },
  {
   "cell_type": "code",
   "execution_count": 27,
   "metadata": {},
   "outputs": [
    {
     "data": {
      "text/plain": [
       "792920"
      ]
     },
     "execution_count": 27,
     "metadata": {},
     "output_type": "execute_result"
    }
   ],
   "source": [
    "si_no = catalogues.parse('Catálogo SI_NO')\n",
    "data = pd.merge(data,si_no,left_on='OTRA_COM',right_on='CLAVE')\n",
    "data = data.rename(columns={'DESCRIPCIÓN':'OTRA_COM_DESC'})\n",
    "data = data.drop(['CLAVE'],axis=1)\n",
    "len(data)"
   ]
  },
  {
   "cell_type": "code",
   "execution_count": 28,
   "metadata": {},
   "outputs": [
    {
     "data": {
      "text/plain": [
       "792920"
      ]
     },
     "execution_count": 28,
     "metadata": {},
     "output_type": "execute_result"
    }
   ],
   "source": [
    "si_no = catalogues.parse('Catálogo SI_NO')\n",
    "data = pd.merge(data,si_no,left_on='CARDIOVASCULAR',right_on='CLAVE')\n",
    "data = data.rename(columns={'DESCRIPCIÓN':'CARDIOVASCULAR_DESC'})\n",
    "data = data.drop(['CLAVE'],axis=1)\n",
    "len(data)"
   ]
  },
  {
   "cell_type": "code",
   "execution_count": 29,
   "metadata": {},
   "outputs": [
    {
     "data": {
      "text/plain": [
       "792920"
      ]
     },
     "execution_count": 29,
     "metadata": {},
     "output_type": "execute_result"
    }
   ],
   "source": [
    "si_no = catalogues.parse('Catálogo SI_NO')\n",
    "data = pd.merge(data,si_no,left_on='OBESIDAD',right_on='CLAVE')\n",
    "data = data.rename(columns={'DESCRIPCIÓN':'OBESIDAD_DESC'})\n",
    "data = data.drop(['CLAVE'],axis=1)\n",
    "len(data)"
   ]
  },
  {
   "cell_type": "code",
   "execution_count": 30,
   "metadata": {},
   "outputs": [
    {
     "data": {
      "text/plain": [
       "792920"
      ]
     },
     "execution_count": 30,
     "metadata": {},
     "output_type": "execute_result"
    }
   ],
   "source": [
    "si_no = catalogues.parse('Catálogo SI_NO')\n",
    "data = pd.merge(data,si_no,left_on='RENAL_CRONICA',right_on='CLAVE')\n",
    "data = data.rename(columns={'DESCRIPCIÓN':'RENAL_CRONICA_DESC'})\n",
    "data = data.drop(['CLAVE'],axis=1)\n",
    "len(data)"
   ]
  },
  {
   "cell_type": "code",
   "execution_count": 31,
   "metadata": {},
   "outputs": [
    {
     "data": {
      "text/plain": [
       "792920"
      ]
     },
     "execution_count": 31,
     "metadata": {},
     "output_type": "execute_result"
    }
   ],
   "source": [
    "si_no = catalogues.parse('Catálogo SI_NO')\n",
    "data = pd.merge(data,si_no,left_on='TABAQUISMO',right_on='CLAVE')\n",
    "data = data.rename(columns={'DESCRIPCIÓN':'TABAQUISMO_DESC'})\n",
    "data = data.drop(['CLAVE'],axis=1)\n",
    "len(data)"
   ]
  },
  {
   "cell_type": "code",
   "execution_count": 32,
   "metadata": {},
   "outputs": [
    {
     "data": {
      "text/plain": [
       "792920"
      ]
     },
     "execution_count": 32,
     "metadata": {},
     "output_type": "execute_result"
    }
   ],
   "source": [
    "si_no = catalogues.parse('Catálogo SI_NO')\n",
    "data = pd.merge(data,si_no,left_on='OTRO_CASO',right_on='CLAVE')\n",
    "data = data.rename(columns={'DESCRIPCIÓN':'OTRO_CASO_DESC'})\n",
    "data = data.drop(['CLAVE'],axis=1)\n",
    "len(data)"
   ]
  },
  {
   "cell_type": "code",
   "execution_count": 33,
   "metadata": {},
   "outputs": [
    {
     "data": {
      "text/plain": [
       "792920"
      ]
     },
     "execution_count": 33,
     "metadata": {},
     "output_type": "execute_result"
    }
   ],
   "source": [
    "si_no = catalogues.parse('Catálogo SI_NO')\n",
    "data = pd.merge(data,si_no,left_on='TOMA_MUESTRA',right_on='CLAVE')\n",
    "data = data.rename(columns={'DESCRIPCIÓN':'TOMA_MUESTRA_DESC'})\n",
    "data = data.drop(['CLAVE'],axis=1)\n",
    "len(data)"
   ]
  },
  {
   "cell_type": "code",
   "execution_count": 34,
   "metadata": {},
   "outputs": [
    {
     "data": {
      "text/plain": [
       "792920"
      ]
     },
     "execution_count": 34,
     "metadata": {},
     "output_type": "execute_result"
    }
   ],
   "source": [
    "si_no = catalogues.parse('Catálogo SI_NO')\n",
    "data = pd.merge(data,si_no,left_on='MIGRANTE',right_on='CLAVE')\n",
    "data = data.rename(columns={'DESCRIPCIÓN':'MIGRANTE_DESC'})\n",
    "data = data.drop(['CLAVE'],axis=1)\n",
    "len(data)"
   ]
  },
  {
   "cell_type": "code",
   "execution_count": 35,
   "metadata": {},
   "outputs": [
    {
     "data": {
      "text/plain": [
       "792920"
      ]
     },
     "execution_count": 35,
     "metadata": {},
     "output_type": "execute_result"
    }
   ],
   "source": [
    "si_no = catalogues.parse('Catálogo SI_NO')\n",
    "data = pd.merge(data,si_no,left_on='UCI',right_on='CLAVE')\n",
    "data = data.rename(columns={'DESCRIPCIÓN':'UCI_DESC'})\n",
    "data = data.drop(['CLAVE'],axis=1)\n",
    "len(data)"
   ]
  },
  {
   "cell_type": "code",
   "execution_count": 36,
   "metadata": {},
   "outputs": [
    {
     "data": {
      "text/plain": [
       "792920"
      ]
     },
     "execution_count": 36,
     "metadata": {},
     "output_type": "execute_result"
    }
   ],
   "source": [
    "si_no = catalogues.parse('Catálogo SI_NO')\n",
    "data = pd.merge(data,si_no,left_on='HIPERTENSION',right_on='CLAVE')\n",
    "data = data.rename(columns={'DESCRIPCIÓN':'HIPERTENSION_DESC'})\n",
    "data = data.drop(['CLAVE'],axis=1)\n",
    "len(data)"
   ]
  },
  {
   "cell_type": "code",
   "execution_count": 37,
   "metadata": {},
   "outputs": [
    {
     "data": {
      "text/plain": [
       "792915"
      ]
     },
     "execution_count": 37,
     "metadata": {},
     "output_type": "execute_result"
    }
   ],
   "source": [
    "municipios = catalogues.parse('Catálogo MUNICIPIOS')\n",
    "data = pd.merge(data,municipios,left_on=['MUNICIPIO_RES','ENTIDAD_RES'],right_on=['CLAVE_MUNICIPIO','CLAVE_ENTIDAD'])\n",
    "data = data.drop(['CLAVE_ENTIDAD','CLAVE_MUNICIPIO'],axis=1)\n",
    "data = data.rename(columns={'MUNICIPIO':'MUNICIPIO_RES_DESC'})\n",
    "len(data)"
   ]
  },
  {
   "cell_type": "code",
   "execution_count": 38,
   "metadata": {},
   "outputs": [
    {
     "data": {
      "text/html": [
       "<div>\n",
       "<style scoped>\n",
       "    .dataframe tbody tr th:only-of-type {\n",
       "        vertical-align: middle;\n",
       "    }\n",
       "\n",
       "    .dataframe tbody tr th {\n",
       "        vertical-align: top;\n",
       "    }\n",
       "\n",
       "    .dataframe thead th {\n",
       "        text-align: right;\n",
       "    }\n",
       "</style>\n",
       "<table border=\"1\" class=\"dataframe\">\n",
       "  <thead>\n",
       "    <tr style=\"text-align: right;\">\n",
       "      <th></th>\n",
       "      <th>FECHA_ACTUALIZACION</th>\n",
       "      <th>ID_REGISTRO</th>\n",
       "      <th>ORIGEN</th>\n",
       "      <th>SECTOR</th>\n",
       "      <th>ENTIDAD_UM</th>\n",
       "      <th>SEXO</th>\n",
       "      <th>ENTIDAD_NAC</th>\n",
       "      <th>ENTIDAD_RES</th>\n",
       "      <th>MUNICIPIO_RES</th>\n",
       "      <th>TIPO_PACIENTE</th>\n",
       "      <th>...</th>\n",
       "      <th>CARDIOVASCULAR_DESC</th>\n",
       "      <th>OBESIDAD_DESC</th>\n",
       "      <th>RENAL_CRONICA_DESC</th>\n",
       "      <th>TABAQUISMO_DESC</th>\n",
       "      <th>OTRO_CASO_DESC</th>\n",
       "      <th>TOMA_MUESTRA_DESC</th>\n",
       "      <th>MIGRANTE_DESC</th>\n",
       "      <th>UCI_DESC</th>\n",
       "      <th>HIPERTENSION_DESC</th>\n",
       "      <th>MUNICIPIO_RES_DESC</th>\n",
       "    </tr>\n",
       "  </thead>\n",
       "  <tbody>\n",
       "    <tr>\n",
       "      <th>0</th>\n",
       "      <td>2020-10-11</td>\n",
       "      <td>071735</td>\n",
       "      <td>2</td>\n",
       "      <td>9</td>\n",
       "      <td>21</td>\n",
       "      <td>2</td>\n",
       "      <td>21</td>\n",
       "      <td>21</td>\n",
       "      <td>114</td>\n",
       "      <td>1</td>\n",
       "      <td>...</td>\n",
       "      <td>SI</td>\n",
       "      <td>NO</td>\n",
       "      <td>NO</td>\n",
       "      <td>NO</td>\n",
       "      <td>NO</td>\n",
       "      <td>SI</td>\n",
       "      <td>NO ESPECIFICADO</td>\n",
       "      <td>NO APLICA</td>\n",
       "      <td>NO</td>\n",
       "      <td>PUEBLA</td>\n",
       "    </tr>\n",
       "    <tr>\n",
       "      <th>1</th>\n",
       "      <td>2020-10-11</td>\n",
       "      <td>14b103</td>\n",
       "      <td>2</td>\n",
       "      <td>12</td>\n",
       "      <td>21</td>\n",
       "      <td>2</td>\n",
       "      <td>21</td>\n",
       "      <td>21</td>\n",
       "      <td>114</td>\n",
       "      <td>1</td>\n",
       "      <td>...</td>\n",
       "      <td>SI</td>\n",
       "      <td>NO</td>\n",
       "      <td>NO</td>\n",
       "      <td>NO</td>\n",
       "      <td>NO</td>\n",
       "      <td>SI</td>\n",
       "      <td>NO ESPECIFICADO</td>\n",
       "      <td>NO APLICA</td>\n",
       "      <td>NO</td>\n",
       "      <td>PUEBLA</td>\n",
       "    </tr>\n",
       "    <tr>\n",
       "      <th>2</th>\n",
       "      <td>2020-10-11</td>\n",
       "      <td>0782d5</td>\n",
       "      <td>2</td>\n",
       "      <td>9</td>\n",
       "      <td>21</td>\n",
       "      <td>2</td>\n",
       "      <td>15</td>\n",
       "      <td>21</td>\n",
       "      <td>114</td>\n",
       "      <td>1</td>\n",
       "      <td>...</td>\n",
       "      <td>SI</td>\n",
       "      <td>NO</td>\n",
       "      <td>NO</td>\n",
       "      <td>NO</td>\n",
       "      <td>NO</td>\n",
       "      <td>SI</td>\n",
       "      <td>NO ESPECIFICADO</td>\n",
       "      <td>NO APLICA</td>\n",
       "      <td>NO</td>\n",
       "      <td>PUEBLA</td>\n",
       "    </tr>\n",
       "    <tr>\n",
       "      <th>3</th>\n",
       "      <td>2020-10-11</td>\n",
       "      <td>1d43c7</td>\n",
       "      <td>2</td>\n",
       "      <td>9</td>\n",
       "      <td>21</td>\n",
       "      <td>2</td>\n",
       "      <td>21</td>\n",
       "      <td>21</td>\n",
       "      <td>114</td>\n",
       "      <td>1</td>\n",
       "      <td>...</td>\n",
       "      <td>SI</td>\n",
       "      <td>NO</td>\n",
       "      <td>NO</td>\n",
       "      <td>NO</td>\n",
       "      <td>NO</td>\n",
       "      <td>SI</td>\n",
       "      <td>NO ESPECIFICADO</td>\n",
       "      <td>NO APLICA</td>\n",
       "      <td>NO</td>\n",
       "      <td>PUEBLA</td>\n",
       "    </tr>\n",
       "    <tr>\n",
       "      <th>4</th>\n",
       "      <td>2020-10-11</td>\n",
       "      <td>233031</td>\n",
       "      <td>2</td>\n",
       "      <td>4</td>\n",
       "      <td>21</td>\n",
       "      <td>2</td>\n",
       "      <td>21</td>\n",
       "      <td>21</td>\n",
       "      <td>114</td>\n",
       "      <td>1</td>\n",
       "      <td>...</td>\n",
       "      <td>SI</td>\n",
       "      <td>NO</td>\n",
       "      <td>NO</td>\n",
       "      <td>NO</td>\n",
       "      <td>NO</td>\n",
       "      <td>SI</td>\n",
       "      <td>NO ESPECIFICADO</td>\n",
       "      <td>NO APLICA</td>\n",
       "      <td>NO</td>\n",
       "      <td>PUEBLA</td>\n",
       "    </tr>\n",
       "  </tbody>\n",
       "</table>\n",
       "<p>5 rows × 71 columns</p>\n",
       "</div>"
      ],
      "text/plain": [
       "  FECHA_ACTUALIZACION ID_REGISTRO  ORIGEN  SECTOR  ENTIDAD_UM  SEXO  \\\n",
       "0          2020-10-11      071735       2       9          21     2   \n",
       "1          2020-10-11      14b103       2      12          21     2   \n",
       "2          2020-10-11      0782d5       2       9          21     2   \n",
       "3          2020-10-11      1d43c7       2       9          21     2   \n",
       "4          2020-10-11      233031       2       4          21     2   \n",
       "\n",
       "   ENTIDAD_NAC  ENTIDAD_RES  MUNICIPIO_RES  TIPO_PACIENTE  ...  \\\n",
       "0           21           21            114              1  ...   \n",
       "1           21           21            114              1  ...   \n",
       "2           15           21            114              1  ...   \n",
       "3           21           21            114              1  ...   \n",
       "4           21           21            114              1  ...   \n",
       "\n",
       "  CARDIOVASCULAR_DESC OBESIDAD_DESC RENAL_CRONICA_DESC  TABAQUISMO_DESC  \\\n",
       "0                 SI            NO                 NO               NO    \n",
       "1                 SI            NO                 NO               NO    \n",
       "2                 SI            NO                 NO               NO    \n",
       "3                 SI            NO                 NO               NO    \n",
       "4                 SI            NO                 NO               NO    \n",
       "\n",
       "   OTRO_CASO_DESC  TOMA_MUESTRA_DESC    MIGRANTE_DESC   UCI_DESC  \\\n",
       "0             NO                 SI   NO ESPECIFICADO  NO APLICA   \n",
       "1             NO                 SI   NO ESPECIFICADO  NO APLICA   \n",
       "2             NO                 SI   NO ESPECIFICADO  NO APLICA   \n",
       "3             NO                 SI   NO ESPECIFICADO  NO APLICA   \n",
       "4             NO                 SI   NO ESPECIFICADO  NO APLICA   \n",
       "\n",
       "   HIPERTENSION_DESC  MUNICIPIO_RES_DESC  \n",
       "0                NO               PUEBLA  \n",
       "1                NO               PUEBLA  \n",
       "2                NO               PUEBLA  \n",
       "3                NO               PUEBLA  \n",
       "4                NO               PUEBLA  \n",
       "\n",
       "[5 rows x 71 columns]"
      ]
     },
     "execution_count": 38,
     "metadata": {},
     "output_type": "execute_result"
    }
   ],
   "source": [
    "data.head()"
   ]
  },
  {
   "cell_type": "code",
   "execution_count": 39,
   "metadata": {},
   "outputs": [],
   "source": [
    "path = 'Files'\n",
    "os.system('rm -r Databases/*')\n",
    "data.to_csv(os.path.join(path,'mex_covid_daily.csv'),index=False,encoding='utf-8')\n",
    "#data.to_excel(os.path.join(path,'mex_covid_daily.xlsx'),'DB',index=False)"
   ]
  },
  {
   "cell_type": "code",
   "execution_count": 40,
   "metadata": {},
   "outputs": [
    {
     "data": {
      "text/plain": [
       "['ABREVIATURA_NAC',\n",
       " 'ABREVIATURA_RES',\n",
       " 'ABREVIATURA_UM',\n",
       " 'ASMA',\n",
       " 'ASMA_DESC',\n",
       " 'CARDIOVASCULAR',\n",
       " 'CARDIOVASCULAR_DESC',\n",
       " 'CLASIFICACION_FINAL',\n",
       " 'CLASIFICACIÓN',\n",
       " 'CLAS_DESC',\n",
       " 'DIABETES',\n",
       " 'DIABETES_DESC',\n",
       " 'EDAD',\n",
       " 'EMBARAZO',\n",
       " 'ENTIDAD_FEDERATIVA_NAC',\n",
       " 'ENTIDAD_FEDERATIVA_RES',\n",
       " 'ENTIDAD_FEDERATIVA_UM',\n",
       " 'ENTIDAD_NAC',\n",
       " 'ENTIDAD_RES',\n",
       " 'ENTIDAD_UM',\n",
       " 'EPOC',\n",
       " 'EPOC_DESC',\n",
       " 'FECHA_ACTUALIZACION',\n",
       " 'FECHA_DEF',\n",
       " 'FECHA_INGRESO',\n",
       " 'FECHA_SINTOMAS',\n",
       " 'HABLA_LENGUA_INDIG',\n",
       " 'HABLA_LENGUA_INDIG_DESC',\n",
       " 'HIPERTENSION',\n",
       " 'HIPERTENSION_DESC',\n",
       " 'ID_REGISTRO',\n",
       " 'INDIGENA',\n",
       " 'INDIGENA_DESC',\n",
       " 'INMUSUPR',\n",
       " 'INMUSUPR_DESC',\n",
       " 'INTUBADO',\n",
       " 'INTUBADO_DESC',\n",
       " 'MIGRANTE',\n",
       " 'MIGRANTE_DESC',\n",
       " 'MUNICIPIO_RES',\n",
       " 'MUNICIPIO_RES_DESC',\n",
       " 'NACIONALIDAD',\n",
       " 'NACIONALIDAD_DESC',\n",
       " 'NEUMONIA',\n",
       " 'NEUMONIA_DESC',\n",
       " 'OBESIDAD',\n",
       " 'OBESIDAD_DESC',\n",
       " 'ORIGEN',\n",
       " 'ORIGEN_DESC',\n",
       " 'OTRA_COM',\n",
       " 'OTRA_COM_DESC',\n",
       " 'OTRO_CASO',\n",
       " 'OTRO_CASO_DESC',\n",
       " 'PAIS_NACIONALIDAD',\n",
       " 'PAIS_ORIGEN',\n",
       " 'RENAL_CRONICA',\n",
       " 'RENAL_CRONICA_DESC',\n",
       " 'RESULTADO_LAB',\n",
       " 'RESULTADO_LAB_DESC',\n",
       " 'SECTOR',\n",
       " 'SECTOR_DESC',\n",
       " 'SEXO',\n",
       " 'SEXO_DESC',\n",
       " 'TABAQUISMO',\n",
       " 'TABAQUISMO_DESC',\n",
       " 'TIPO_PACIENTE',\n",
       " 'TIPO_PACIENTE_DESC',\n",
       " 'TOMA_MUESTRA',\n",
       " 'TOMA_MUESTRA_DESC',\n",
       " 'UCI',\n",
       " 'UCI_DESC']"
      ]
     },
     "execution_count": 40,
     "metadata": {},
     "output_type": "execute_result"
    }
   ],
   "source": [
    "columnas = data.columns.tolist()\n",
    "columnas.sort()\n",
    "columnas"
   ]
  },
  {
   "cell_type": "code",
   "execution_count": 59,
   "metadata": {},
   "outputs": [],
   "source": [
    "x=data.groupby(['FECHA_INGRESO'],as_index=False)['ID_REGISTRO'].count()"
   ]
  },
  {
   "cell_type": "code",
   "execution_count": 51,
   "metadata": {},
   "outputs": [
    {
     "data": {
      "text/html": [
       "<div>\n",
       "<style scoped>\n",
       "    .dataframe tbody tr th:only-of-type {\n",
       "        vertical-align: middle;\n",
       "    }\n",
       "\n",
       "    .dataframe tbody tr th {\n",
       "        vertical-align: top;\n",
       "    }\n",
       "\n",
       "    .dataframe thead th {\n",
       "        text-align: right;\n",
       "    }\n",
       "</style>\n",
       "<table border=\"1\" class=\"dataframe\">\n",
       "  <thead>\n",
       "    <tr style=\"text-align: right;\">\n",
       "      <th></th>\n",
       "      <th>FECHA_INGRESO</th>\n",
       "      <th>FECHA_SINTOMAS</th>\n",
       "      <th>ENTIDAD_FEDERATIVA_UM</th>\n",
       "      <th>FECHA_ACTUALIZACION</th>\n",
       "      <th>ID_REGISTRO</th>\n",
       "    </tr>\n",
       "  </thead>\n",
       "  <tbody>\n",
       "    <tr>\n",
       "      <th>0</th>\n",
       "      <td>2020-01-13</td>\n",
       "      <td>2020-01-13</td>\n",
       "      <td>NUEVO LEÓN</td>\n",
       "      <td>2020-10-11</td>\n",
       "      <td>1</td>\n",
       "    </tr>\n",
       "    <tr>\n",
       "      <th>1</th>\n",
       "      <td>2020-01-29</td>\n",
       "      <td>2020-01-29</td>\n",
       "      <td>SINALOA</td>\n",
       "      <td>2020-10-11</td>\n",
       "      <td>1</td>\n",
       "    </tr>\n",
       "    <tr>\n",
       "      <th>2</th>\n",
       "      <td>2020-02-24</td>\n",
       "      <td>2020-02-24</td>\n",
       "      <td>CHIHUAHUA</td>\n",
       "      <td>2020-10-11</td>\n",
       "      <td>1</td>\n",
       "    </tr>\n",
       "    <tr>\n",
       "      <th>3</th>\n",
       "      <td>2020-02-24</td>\n",
       "      <td>2020-02-24</td>\n",
       "      <td>CIUDAD DE MÉXICO</td>\n",
       "      <td>2020-10-11</td>\n",
       "      <td>1</td>\n",
       "    </tr>\n",
       "    <tr>\n",
       "      <th>4</th>\n",
       "      <td>2020-02-27</td>\n",
       "      <td>2020-02-22</td>\n",
       "      <td>CIUDAD DE MÉXICO</td>\n",
       "      <td>2020-10-11</td>\n",
       "      <td>1</td>\n",
       "    </tr>\n",
       "    <tr>\n",
       "      <th>...</th>\n",
       "      <td>...</td>\n",
       "      <td>...</td>\n",
       "      <td>...</td>\n",
       "      <td>...</td>\n",
       "      <td>...</td>\n",
       "    </tr>\n",
       "    <tr>\n",
       "      <th>70649</th>\n",
       "      <td>2020-10-10</td>\n",
       "      <td>2020-10-09</td>\n",
       "      <td>QUERÉTARO</td>\n",
       "      <td>2020-10-11</td>\n",
       "      <td>5</td>\n",
       "    </tr>\n",
       "    <tr>\n",
       "      <th>70650</th>\n",
       "      <td>2020-10-10</td>\n",
       "      <td>2020-10-09</td>\n",
       "      <td>TABASCO</td>\n",
       "      <td>2020-10-11</td>\n",
       "      <td>2</td>\n",
       "    </tr>\n",
       "    <tr>\n",
       "      <th>70651</th>\n",
       "      <td>2020-10-10</td>\n",
       "      <td>2020-10-10</td>\n",
       "      <td>NUEVO LEÓN</td>\n",
       "      <td>2020-10-11</td>\n",
       "      <td>5</td>\n",
       "    </tr>\n",
       "    <tr>\n",
       "      <th>70652</th>\n",
       "      <td>2020-10-10</td>\n",
       "      <td>2020-10-10</td>\n",
       "      <td>PUEBLA</td>\n",
       "      <td>2020-10-11</td>\n",
       "      <td>1</td>\n",
       "    </tr>\n",
       "    <tr>\n",
       "      <th>70653</th>\n",
       "      <td>2020-10-10</td>\n",
       "      <td>2020-10-10</td>\n",
       "      <td>TABASCO</td>\n",
       "      <td>2020-10-11</td>\n",
       "      <td>4</td>\n",
       "    </tr>\n",
       "  </tbody>\n",
       "</table>\n",
       "<p>70654 rows × 5 columns</p>\n",
       "</div>"
      ],
      "text/plain": [
       "      FECHA_INGRESO FECHA_SINTOMAS ENTIDAD_FEDERATIVA_UM FECHA_ACTUALIZACION  \\\n",
       "0        2020-01-13     2020-01-13            NUEVO LEÓN          2020-10-11   \n",
       "1        2020-01-29     2020-01-29               SINALOA          2020-10-11   \n",
       "2        2020-02-24     2020-02-24             CHIHUAHUA          2020-10-11   \n",
       "3        2020-02-24     2020-02-24      CIUDAD DE MÉXICO          2020-10-11   \n",
       "4        2020-02-27     2020-02-22      CIUDAD DE MÉXICO          2020-10-11   \n",
       "...             ...            ...                   ...                 ...   \n",
       "70649    2020-10-10     2020-10-09             QUERÉTARO          2020-10-11   \n",
       "70650    2020-10-10     2020-10-09               TABASCO          2020-10-11   \n",
       "70651    2020-10-10     2020-10-10            NUEVO LEÓN          2020-10-11   \n",
       "70652    2020-10-10     2020-10-10                PUEBLA          2020-10-11   \n",
       "70653    2020-10-10     2020-10-10               TABASCO          2020-10-11   \n",
       "\n",
       "       ID_REGISTRO  \n",
       "0                1  \n",
       "1                1  \n",
       "2                1  \n",
       "3                1  \n",
       "4                1  \n",
       "...            ...  \n",
       "70649            5  \n",
       "70650            2  \n",
       "70651            5  \n",
       "70652            1  \n",
       "70653            4  \n",
       "\n",
       "[70654 rows x 5 columns]"
      ]
     },
     "execution_count": 51,
     "metadata": {},
     "output_type": "execute_result"
    }
   ],
   "source": [
    "x"
   ]
  },
  {
   "cell_type": "code",
   "execution_count": 69,
   "metadata": {},
   "outputs": [
    {
     "data": {
      "text/html": [
       "<div>\n",
       "<style scoped>\n",
       "    .dataframe tbody tr th:only-of-type {\n",
       "        vertical-align: middle;\n",
       "    }\n",
       "\n",
       "    .dataframe tbody tr th {\n",
       "        vertical-align: top;\n",
       "    }\n",
       "\n",
       "    .dataframe thead th {\n",
       "        text-align: right;\n",
       "    }\n",
       "</style>\n",
       "<table border=\"1\" class=\"dataframe\">\n",
       "  <thead>\n",
       "    <tr style=\"text-align: right;\">\n",
       "      <th></th>\n",
       "      <th>FECHA_SINTOMAS</th>\n",
       "      <th>ID_REGISTRO</th>\n",
       "    </tr>\n",
       "  </thead>\n",
       "  <tbody>\n",
       "    <tr>\n",
       "      <th>0</th>\n",
       "      <td>2020-01-13</td>\n",
       "      <td>1</td>\n",
       "    </tr>\n",
       "    <tr>\n",
       "      <th>1</th>\n",
       "      <td>2020-01-29</td>\n",
       "      <td>1</td>\n",
       "    </tr>\n",
       "    <tr>\n",
       "      <th>2</th>\n",
       "      <td>2020-02-19</td>\n",
       "      <td>1</td>\n",
       "    </tr>\n",
       "    <tr>\n",
       "      <th>3</th>\n",
       "      <td>2020-02-21</td>\n",
       "      <td>1</td>\n",
       "    </tr>\n",
       "    <tr>\n",
       "      <th>4</th>\n",
       "      <td>2020-02-22</td>\n",
       "      <td>2</td>\n",
       "    </tr>\n",
       "    <tr>\n",
       "      <th>...</th>\n",
       "      <td>...</td>\n",
       "      <td>...</td>\n",
       "    </tr>\n",
       "    <tr>\n",
       "      <th>231</th>\n",
       "      <td>2020-10-06</td>\n",
       "      <td>1207</td>\n",
       "    </tr>\n",
       "    <tr>\n",
       "      <th>232</th>\n",
       "      <td>2020-10-07</td>\n",
       "      <td>690</td>\n",
       "    </tr>\n",
       "    <tr>\n",
       "      <th>233</th>\n",
       "      <td>2020-10-08</td>\n",
       "      <td>252</td>\n",
       "    </tr>\n",
       "    <tr>\n",
       "      <th>234</th>\n",
       "      <td>2020-10-09</td>\n",
       "      <td>75</td>\n",
       "    </tr>\n",
       "    <tr>\n",
       "      <th>235</th>\n",
       "      <td>2020-10-10</td>\n",
       "      <td>10</td>\n",
       "    </tr>\n",
       "  </tbody>\n",
       "</table>\n",
       "<p>236 rows × 2 columns</p>\n",
       "</div>"
      ],
      "text/plain": [
       "    FECHA_SINTOMAS  ID_REGISTRO\n",
       "0       2020-01-13            1\n",
       "1       2020-01-29            1\n",
       "2       2020-02-19            1\n",
       "3       2020-02-21            1\n",
       "4       2020-02-22            2\n",
       "..             ...          ...\n",
       "231     2020-10-06         1207\n",
       "232     2020-10-07          690\n",
       "233     2020-10-08          252\n",
       "234     2020-10-09           75\n",
       "235     2020-10-10           10\n",
       "\n",
       "[236 rows x 2 columns]"
      ]
     },
     "execution_count": 69,
     "metadata": {},
     "output_type": "execute_result"
    }
   ],
   "source": [
    "data.groupby(['FECHA_SINTOMAS'],as_index=False)['ID_REGISTRO'].count()"
   ]
  },
  {
   "cell_type": "code",
   "execution_count": 75,
   "metadata": {},
   "outputs": [
    {
     "data": {
      "text/plain": [
       "FECHA_ACTUALIZACION    object\n",
       "ID_REGISTRO            object\n",
       "ORIGEN                  int64\n",
       "SECTOR                  int64\n",
       "ENTIDAD_UM              int64\n",
       "                        ...  \n",
       "TOMA_MUESTRA_DESC      object\n",
       "MIGRANTE_DESC          object\n",
       "UCI_DESC               object\n",
       "HIPERTENSION_DESC      object\n",
       "MUNICIPIO_RES_DESC     object\n",
       "Length: 71, dtype: object"
      ]
     },
     "execution_count": 75,
     "metadata": {},
     "output_type": "execute_result"
    }
   ],
   "source": [
    "data.dtypes"
   ]
  },
  {
   "cell_type": "code",
   "execution_count": 78,
   "metadata": {},
   "outputs": [
    {
     "data": {
      "text/plain": [
       "0         2020-03-18\n",
       "1         2020-05-25\n",
       "2         2020-06-30\n",
       "3         2020-08-17\n",
       "4         2020-09-26\n",
       "             ...    \n",
       "792910    2020-05-06\n",
       "792911    2020-06-21\n",
       "792912    2020-09-15\n",
       "792913    2020-07-20\n",
       "792914    2020-04-28\n",
       "Name: FECHA_INGRESO, Length: 792915, dtype: object"
      ]
     },
     "execution_count": 78,
     "metadata": {},
     "output_type": "execute_result"
    }
   ],
   "source": [
    "data['FECHA_INGRESO']"
   ]
  },
  {
   "cell_type": "code",
   "execution_count": 83,
   "metadata": {},
   "outputs": [],
   "source": [
    "x=data.groupby('EDAD',as_index=False)['ID_REGISTRO'].count()"
   ]
  },
  {
   "cell_type": "code",
   "execution_count": 84,
   "metadata": {},
   "outputs": [
    {
     "data": {
      "text/plain": [
       "EDAD             118\n",
       "ID_REGISTRO    18338\n",
       "dtype: int64"
      ]
     },
     "execution_count": 84,
     "metadata": {},
     "output_type": "execute_result"
    }
   ],
   "source": [
    "x.max()"
   ]
  },
  {
   "cell_type": "code",
   "execution_count": 86,
   "metadata": {},
   "outputs": [
    {
     "data": {
      "text/plain": [
       "0"
      ]
     },
     "execution_count": 86,
     "metadata": {},
     "output_type": "execute_result"
    }
   ],
   "source": [
    "data['EDAD'].min()"
   ]
  },
  {
   "cell_type": "code",
   "execution_count": 91,
   "metadata": {},
   "outputs": [
    {
     "name": "stdout",
     "output_type": "stream",
     "text": [
      "Date: 2020-10-11\n",
      "Time: 00:00:00\n",
      "Date-time: 2020-10-11 00:00:00\n"
     ]
    },
    {
     "data": {
      "text/plain": [
       "2020"
      ]
     },
     "execution_count": 91,
     "metadata": {},
     "output_type": "execute_result"
    }
   ],
   "source": [
    "import datetime\n",
    "\n",
    "date_time_str = '2020-10-11'\n",
    "date_time_obj = datetime.datetime.strptime(date_time_str, '%Y-%m-%d')\n",
    "print('Date:', date_time_obj.date())\n",
    "print('Time:', date_time_obj.time())\n",
    "print('Date-time:', date_time_obj)\n",
    "date_time_obj.year"
   ]
  },
  {
   "cell_type": "code",
   "execution_count": 118,
   "metadata": {},
   "outputs": [],
   "source": [
    "data['FECHA_INGRESO'] = pd.to_datetime(data['FECHA_INGRESO'])"
   ]
  },
  {
   "cell_type": "code",
   "execution_count": 128,
   "metadata": {},
   "outputs": [],
   "source": [
    "x=data.loc[(data['FECHA_INGRESO'].dt.month==10)]"
   ]
  },
  {
   "cell_type": "code",
   "execution_count": 131,
   "metadata": {},
   "outputs": [
    {
     "data": {
      "text/html": [
       "<div>\n",
       "<style scoped>\n",
       "    .dataframe tbody tr th:only-of-type {\n",
       "        vertical-align: middle;\n",
       "    }\n",
       "\n",
       "    .dataframe tbody tr th {\n",
       "        vertical-align: top;\n",
       "    }\n",
       "\n",
       "    .dataframe thead th {\n",
       "        text-align: right;\n",
       "    }\n",
       "</style>\n",
       "<table border=\"1\" class=\"dataframe\">\n",
       "  <thead>\n",
       "    <tr style=\"text-align: right;\">\n",
       "      <th></th>\n",
       "      <th>FECHA_INGRESO</th>\n",
       "      <th>FECHA_DEF</th>\n",
       "      <th>ID_REGISTRO</th>\n",
       "    </tr>\n",
       "  </thead>\n",
       "  <tbody>\n",
       "    <tr>\n",
       "      <th>0</th>\n",
       "      <td>2020-10-01</td>\n",
       "      <td>2020-10-01</td>\n",
       "      <td>20</td>\n",
       "    </tr>\n",
       "    <tr>\n",
       "      <th>1</th>\n",
       "      <td>2020-10-01</td>\n",
       "      <td>2020-10-02</td>\n",
       "      <td>16</td>\n",
       "    </tr>\n",
       "    <tr>\n",
       "      <th>2</th>\n",
       "      <td>2020-10-01</td>\n",
       "      <td>2020-10-03</td>\n",
       "      <td>27</td>\n",
       "    </tr>\n",
       "    <tr>\n",
       "      <th>3</th>\n",
       "      <td>2020-10-01</td>\n",
       "      <td>2020-10-04</td>\n",
       "      <td>16</td>\n",
       "    </tr>\n",
       "    <tr>\n",
       "      <th>4</th>\n",
       "      <td>2020-10-01</td>\n",
       "      <td>2020-10-05</td>\n",
       "      <td>12</td>\n",
       "    </tr>\n",
       "    <tr>\n",
       "      <th>...</th>\n",
       "      <td>...</td>\n",
       "      <td>...</td>\n",
       "      <td>...</td>\n",
       "    </tr>\n",
       "    <tr>\n",
       "      <th>62</th>\n",
       "      <td>2020-10-09</td>\n",
       "      <td>2020-10-09</td>\n",
       "      <td>2</td>\n",
       "    </tr>\n",
       "    <tr>\n",
       "      <th>63</th>\n",
       "      <td>2020-10-09</td>\n",
       "      <td>2020-10-10</td>\n",
       "      <td>2</td>\n",
       "    </tr>\n",
       "    <tr>\n",
       "      <th>64</th>\n",
       "      <td>2020-10-09</td>\n",
       "      <td>9999-99-99</td>\n",
       "      <td>1191</td>\n",
       "    </tr>\n",
       "    <tr>\n",
       "      <th>65</th>\n",
       "      <td>2020-10-10</td>\n",
       "      <td>2020-10-10</td>\n",
       "      <td>1</td>\n",
       "    </tr>\n",
       "    <tr>\n",
       "      <th>66</th>\n",
       "      <td>2020-10-10</td>\n",
       "      <td>9999-99-99</td>\n",
       "      <td>115</td>\n",
       "    </tr>\n",
       "  </tbody>\n",
       "</table>\n",
       "<p>67 rows × 3 columns</p>\n",
       "</div>"
      ],
      "text/plain": [
       "   FECHA_INGRESO   FECHA_DEF  ID_REGISTRO\n",
       "0     2020-10-01  2020-10-01           20\n",
       "1     2020-10-01  2020-10-02           16\n",
       "2     2020-10-01  2020-10-03           27\n",
       "3     2020-10-01  2020-10-04           16\n",
       "4     2020-10-01  2020-10-05           12\n",
       "..           ...         ...          ...\n",
       "62    2020-10-09  2020-10-09            2\n",
       "63    2020-10-09  2020-10-10            2\n",
       "64    2020-10-09  9999-99-99         1191\n",
       "65    2020-10-10  2020-10-10            1\n",
       "66    2020-10-10  9999-99-99          115\n",
       "\n",
       "[67 rows x 3 columns]"
      ]
     },
     "execution_count": 131,
     "metadata": {},
     "output_type": "execute_result"
    }
   ],
   "source": []
  },
  {
   "cell_type": "code",
   "execution_count": null,
   "metadata": {},
   "outputs": [],
   "source": []
  }
 ],
 "metadata": {
  "kernelspec": {
   "display_name": "Python 3",
   "language": "python",
   "name": "python3"
  },
  "language_info": {
   "codemirror_mode": {
    "name": "ipython",
    "version": 3
   },
   "file_extension": ".py",
   "mimetype": "text/x-python",
   "name": "python",
   "nbconvert_exporter": "python",
   "pygments_lexer": "ipython3",
   "version": "3.7.7"
  }
 },
 "nbformat": 4,
 "nbformat_minor": 4
}
