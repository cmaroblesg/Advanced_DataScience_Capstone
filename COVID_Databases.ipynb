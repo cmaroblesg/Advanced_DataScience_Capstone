{
 "cells": [
  {
   "cell_type": "markdown",
   "metadata": {},
   "source": [
    "# COVID 19 Mexican Analysis\n",
    "## Cesar Robles\n",
    "\n",
    "### Introduction\n",
    "Retrieving the information from the Mexican source system. All the information is public and anyone can download and interact with it.\n",
    "The *database* is in the following link: http://datosabiertos.salud.gob.mx/gobmx/salud/datos_abiertos/datos_abiertos_covid19.zip\n",
    "The principal *descriptors* are in the following link: http://datosabiertos.salud.gob.mx/gobmx/salud/datos_abiertos/diccionario_datos_covid19.zip\n",
    "\n",
    "Both files are needed to understand the information collected by the Mexican Health Ministry. The information was splitted to avoid problems with the size volume. In this sense, this action help us to download the information."
   ]
  },
  {
   "cell_type": "markdown",
   "metadata": {},
   "source": [
    "**Needed libraries:**\n",
    "\n",
    "The following lines can skip if you already have the packages."
   ]
  },
  {
   "cell_type": "code",
   "execution_count": 1,
   "metadata": {},
   "outputs": [
    {
     "name": "stdout",
     "output_type": "stream",
     "text": [
      "Requirement already satisfied: pandas in /Users/c.marcoa.roblesg./Documents/Projects/virtual_environment/lib/python3.7/site-packages (1.1.2)\r\n",
      "Requirement already satisfied: numpy in /Users/c.marcoa.roblesg./Documents/Projects/virtual_environment/lib/python3.7/site-packages (1.18.0)\r\n",
      "Requirement already satisfied: zipfile37 in /Users/c.marcoa.roblesg./Documents/Projects/virtual_environment/lib/python3.7/site-packages (0.1.3)\r\n",
      "Requirement already satisfied: xlrd in /Users/c.marcoa.roblesg./Documents/Projects/virtual_environment/lib/python3.7/site-packages (1.2.0)\r\n",
      "Requirement already satisfied: python-dateutil>=2.7.3 in /Users/c.marcoa.roblesg./Documents/Projects/virtual_environment/lib/python3.7/site-packages (from pandas) (2.8.1)\r\n",
      "Requirement already satisfied: pytz>=2017.2 in /Users/c.marcoa.roblesg./Documents/Projects/virtual_environment/lib/python3.7/site-packages (from pandas) (2020.1)\r\n",
      "Requirement already satisfied: six>=1.5 in /Users/c.marcoa.roblesg./Documents/Projects/virtual_environment/lib/python3.7/site-packages (from python-dateutil>=2.7.3->pandas) (1.15.0)\r\n"
     ]
    }
   ],
   "source": [
    "!pip install pandas numpy zipfile37 xlrd"
   ]
  },
  {
   "cell_type": "markdown",
   "metadata": {},
   "source": [
    "**Importing the libraries**"
   ]
  },
  {
   "cell_type": "code",
   "execution_count": 2,
   "metadata": {},
   "outputs": [],
   "source": [
    "import pandas as pd\n",
    "import zipfile\n",
    "import glob\n",
    "import os\n",
    "import re"
   ]
  },
  {
   "cell_type": "code",
   "execution_count": 3,
   "metadata": {},
   "outputs": [],
   "source": [
    "def checkFiles(fileName,files):\n",
    "    flag = 0\n",
    "    for file in files:\n",
    "        if not re.search(fileName,file) == None:\n",
    "            flag = 1\n",
    "        else:\n",
    "            flag = 0\n",
    "    return flag, fileName"
   ]
  },
  {
   "cell_type": "code",
   "execution_count": 4,
   "metadata": {},
   "outputs": [
    {
     "name": "stdout",
     "output_type": "stream",
     "text": [
      "--2020-10-09 20:31:17--  http://datosabiertos.salud.gob.mx/gobmx/salud/datos_abiertos/datos_abiertos_covid19.zip\n",
      "Resolving datosabiertos.salud.gob.mx (datosabiertos.salud.gob.mx)... 187.210.186.146\n",
      "Connecting to datosabiertos.salud.gob.mx (datosabiertos.salud.gob.mx)|187.210.186.146|:80... connected.\n",
      "HTTP request sent, awaiting response... 200 OK\n",
      "Length: 44526900 (42M) [application/x-zip-compressed]\n",
      "Saving to: ‘Databases/datos_abiertos_covid19.zip’\n",
      "\n",
      "datos_abiertos_covi 100%[===================>]  42.46M  8.06MB/s    in 5.4s    \n",
      "\n",
      "2020-10-09 20:31:23 (7.90 MB/s) - ‘Databases/datos_abiertos_covid19.zip’ saved [44526900/44526900]\n",
      "\n",
      "--2020-10-09 20:31:23--  http://datosabiertos.salud.gob.mx/gobmx/salud/datos_abiertos/diccionario_datos_covid19.zip\n",
      "Resolving datosabiertos.salud.gob.mx (datosabiertos.salud.gob.mx)... 187.210.186.146\n",
      "Connecting to datosabiertos.salud.gob.mx (datosabiertos.salud.gob.mx)|187.210.186.146|:80... connected.\n",
      "HTTP request sent, awaiting response... 200 OK\n",
      "Length: 146303 (143K) [application/x-zip-compressed]\n",
      "Saving to: ‘Databases/diccionario_datos_covid19.zip’\n",
      "\n",
      "diccionario_datos_c 100%[===================>] 142.87K  --.-KB/s    in 0.06s   \n",
      "\n",
      "2020-10-09 20:31:23 (2.24 MB/s) - ‘Databases/diccionario_datos_covid19.zip’ saved [146303/146303]\n",
      "\n"
     ]
    }
   ],
   "source": [
    "path = 'Databases'\n",
    "files = glob.glob(os.path.join(path,'*'))\n",
    "\n",
    "[flag,fileName] = checkFiles('datos_abiertos_covid19.zip',files)\n",
    "if flag == 1:\n",
    "    os.system('rm -r '+os.path.join(path,fileName))\n",
    "    !wget -P 'Databases' http://datosabiertos.salud.gob.mx/gobmx/salud/datos_abiertos/datos_abiertos_covid19.zip\n",
    "else:\n",
    "    !wget -P 'Databases' http://datosabiertos.salud.gob.mx/gobmx/salud/datos_abiertos/datos_abiertos_covid19.zip\n",
    "\n",
    "[flag,fileName] = checkFiles('diccionario_datos_covid19.zip',files)\n",
    "if flag == 1:\n",
    "    os.system('rm -r '+os.path.join(path,fileName))\n",
    "    !wget -P 'Databases' http://datosabiertos.salud.gob.mx/gobmx/salud/datos_abiertos/diccionario_datos_covid19.zip\n",
    "else:\n",
    "    !wget -P 'Databases' http://datosabiertos.salud.gob.mx/gobmx/salud/datos_abiertos/diccionario_datos_covid19.zip\n",
    "\n",
    "[flag,fileName] = checkFiles('datos_abiertos_covid19.csv',files)\n",
    "if flag == 1:\n",
    "    os.system('rm -r '+os.path.join(path,fileName))\n",
    "[flag,fileName] = checkFiles('diccionario_datos_covid19',files)\n",
    "if flag == 1:\n",
    "    os.system('rm -r '+os.path.join(path,fileName))"
   ]
  },
  {
   "cell_type": "markdown",
   "metadata": {},
   "source": [
    "**Extracting the information**"
   ]
  },
  {
   "cell_type": "code",
   "execution_count": 5,
   "metadata": {},
   "outputs": [],
   "source": [
    "import zipfile\n",
    "files = glob.glob(os.path.join(path,'*.zip'))\n",
    "for file in files:\n",
    "    if file == \"Databases/diccionario_datos_covid19.zip\":\n",
    "        with zipfile.ZipFile(file,\"r\") as zip_ref:\n",
    "            zip_ref.extractall(\"Databases/diccionario_datos_covid19/.\")\n",
    "    else:\n",
    "        with zipfile.ZipFile(file,\"r\") as zip_ref:\n",
    "            zip_ref.extractall(\"Databases/.\")"
   ]
  },
  {
   "cell_type": "code",
   "execution_count": 6,
   "metadata": {},
   "outputs": [
    {
     "data": {
      "text/html": [
       "<div>\n",
       "<style scoped>\n",
       "    .dataframe tbody tr th:only-of-type {\n",
       "        vertical-align: middle;\n",
       "    }\n",
       "\n",
       "    .dataframe tbody tr th {\n",
       "        vertical-align: top;\n",
       "    }\n",
       "\n",
       "    .dataframe thead th {\n",
       "        text-align: right;\n",
       "    }\n",
       "</style>\n",
       "<table border=\"1\" class=\"dataframe\">\n",
       "  <thead>\n",
       "    <tr style=\"text-align: right;\">\n",
       "      <th></th>\n",
       "      <th>FECHA_ACTUALIZACION</th>\n",
       "      <th>ID_REGISTRO</th>\n",
       "      <th>ORIGEN</th>\n",
       "      <th>SECTOR</th>\n",
       "      <th>ENTIDAD_UM</th>\n",
       "      <th>SEXO</th>\n",
       "      <th>ENTIDAD_NAC</th>\n",
       "      <th>ENTIDAD_RES</th>\n",
       "      <th>MUNICIPIO_RES</th>\n",
       "      <th>TIPO_PACIENTE</th>\n",
       "      <th>...</th>\n",
       "      <th>RENAL_CRONICA</th>\n",
       "      <th>TABAQUISMO</th>\n",
       "      <th>OTRO_CASO</th>\n",
       "      <th>TOMA_MUESTRA</th>\n",
       "      <th>RESULTADO_LAB</th>\n",
       "      <th>CLASIFICACION_FINAL</th>\n",
       "      <th>MIGRANTE</th>\n",
       "      <th>PAIS_NACIONALIDAD</th>\n",
       "      <th>PAIS_ORIGEN</th>\n",
       "      <th>UCI</th>\n",
       "    </tr>\n",
       "  </thead>\n",
       "  <tbody>\n",
       "    <tr>\n",
       "      <th>0</th>\n",
       "      <td>2020-10-08</td>\n",
       "      <td>0679ec</td>\n",
       "      <td>2</td>\n",
       "      <td>12</td>\n",
       "      <td>21</td>\n",
       "      <td>1</td>\n",
       "      <td>21</td>\n",
       "      <td>21</td>\n",
       "      <td>114</td>\n",
       "      <td>2</td>\n",
       "      <td>...</td>\n",
       "      <td>2</td>\n",
       "      <td>2</td>\n",
       "      <td>1</td>\n",
       "      <td>1</td>\n",
       "      <td>1</td>\n",
       "      <td>3</td>\n",
       "      <td>99</td>\n",
       "      <td>México</td>\n",
       "      <td>97</td>\n",
       "      <td>2</td>\n",
       "    </tr>\n",
       "    <tr>\n",
       "      <th>1</th>\n",
       "      <td>2020-10-08</td>\n",
       "      <td>1d59b1</td>\n",
       "      <td>2</td>\n",
       "      <td>9</td>\n",
       "      <td>30</td>\n",
       "      <td>1</td>\n",
       "      <td>30</td>\n",
       "      <td>30</td>\n",
       "      <td>28</td>\n",
       "      <td>1</td>\n",
       "      <td>...</td>\n",
       "      <td>2</td>\n",
       "      <td>2</td>\n",
       "      <td>2</td>\n",
       "      <td>1</td>\n",
       "      <td>1</td>\n",
       "      <td>3</td>\n",
       "      <td>99</td>\n",
       "      <td>México</td>\n",
       "      <td>97</td>\n",
       "      <td>97</td>\n",
       "    </tr>\n",
       "    <tr>\n",
       "      <th>2</th>\n",
       "      <td>2020-10-08</td>\n",
       "      <td>0aa1ae</td>\n",
       "      <td>2</td>\n",
       "      <td>12</td>\n",
       "      <td>16</td>\n",
       "      <td>2</td>\n",
       "      <td>16</td>\n",
       "      <td>16</td>\n",
       "      <td>53</td>\n",
       "      <td>1</td>\n",
       "      <td>...</td>\n",
       "      <td>2</td>\n",
       "      <td>1</td>\n",
       "      <td>1</td>\n",
       "      <td>1</td>\n",
       "      <td>1</td>\n",
       "      <td>3</td>\n",
       "      <td>99</td>\n",
       "      <td>México</td>\n",
       "      <td>97</td>\n",
       "      <td>97</td>\n",
       "    </tr>\n",
       "    <tr>\n",
       "      <th>3</th>\n",
       "      <td>2020-10-08</td>\n",
       "      <td>0d4204</td>\n",
       "      <td>1</td>\n",
       "      <td>12</td>\n",
       "      <td>23</td>\n",
       "      <td>2</td>\n",
       "      <td>23</td>\n",
       "      <td>23</td>\n",
       "      <td>5</td>\n",
       "      <td>1</td>\n",
       "      <td>...</td>\n",
       "      <td>2</td>\n",
       "      <td>1</td>\n",
       "      <td>1</td>\n",
       "      <td>1</td>\n",
       "      <td>1</td>\n",
       "      <td>3</td>\n",
       "      <td>99</td>\n",
       "      <td>México</td>\n",
       "      <td>97</td>\n",
       "      <td>97</td>\n",
       "    </tr>\n",
       "    <tr>\n",
       "      <th>4</th>\n",
       "      <td>2020-10-08</td>\n",
       "      <td>18ff5d</td>\n",
       "      <td>2</td>\n",
       "      <td>12</td>\n",
       "      <td>24</td>\n",
       "      <td>1</td>\n",
       "      <td>24</td>\n",
       "      <td>24</td>\n",
       "      <td>28</td>\n",
       "      <td>1</td>\n",
       "      <td>...</td>\n",
       "      <td>2</td>\n",
       "      <td>2</td>\n",
       "      <td>1</td>\n",
       "      <td>1</td>\n",
       "      <td>1</td>\n",
       "      <td>3</td>\n",
       "      <td>99</td>\n",
       "      <td>México</td>\n",
       "      <td>97</td>\n",
       "      <td>97</td>\n",
       "    </tr>\n",
       "  </tbody>\n",
       "</table>\n",
       "<p>5 rows × 38 columns</p>\n",
       "</div>"
      ],
      "text/plain": [
       "  FECHA_ACTUALIZACION ID_REGISTRO  ORIGEN  SECTOR  ENTIDAD_UM  SEXO  \\\n",
       "0          2020-10-08      0679ec       2      12          21     1   \n",
       "1          2020-10-08      1d59b1       2       9          30     1   \n",
       "2          2020-10-08      0aa1ae       2      12          16     2   \n",
       "3          2020-10-08      0d4204       1      12          23     2   \n",
       "4          2020-10-08      18ff5d       2      12          24     1   \n",
       "\n",
       "   ENTIDAD_NAC  ENTIDAD_RES  MUNICIPIO_RES  TIPO_PACIENTE  ... RENAL_CRONICA  \\\n",
       "0           21           21            114              2  ...             2   \n",
       "1           30           30             28              1  ...             2   \n",
       "2           16           16             53              1  ...             2   \n",
       "3           23           23              5              1  ...             2   \n",
       "4           24           24             28              1  ...             2   \n",
       "\n",
       "  TABAQUISMO OTRO_CASO  TOMA_MUESTRA  RESULTADO_LAB  CLASIFICACION_FINAL  \\\n",
       "0          2         1             1              1                    3   \n",
       "1          2         2             1              1                    3   \n",
       "2          1         1             1              1                    3   \n",
       "3          1         1             1              1                    3   \n",
       "4          2         1             1              1                    3   \n",
       "\n",
       "   MIGRANTE  PAIS_NACIONALIDAD  PAIS_ORIGEN  UCI  \n",
       "0        99             México           97    2  \n",
       "1        99             México           97   97  \n",
       "2        99             México           97   97  \n",
       "3        99             México           97   97  \n",
       "4        99             México           97   97  \n",
       "\n",
       "[5 rows x 38 columns]"
      ]
     },
     "execution_count": 6,
     "metadata": {},
     "output_type": "execute_result"
    }
   ],
   "source": [
    "files = glob.glob(os.path.join(path,'*.csv'))\n",
    "db = pd.read_csv(files[0],engine='python')\n",
    "db.head()"
   ]
  },
  {
   "cell_type": "code",
   "execution_count": 7,
   "metadata": {},
   "outputs": [
    {
     "name": "stdout",
     "output_type": "stream",
     "text": [
      "779127\n"
     ]
    },
    {
     "data": {
      "text/html": [
       "<div>\n",
       "<style scoped>\n",
       "    .dataframe tbody tr th:only-of-type {\n",
       "        vertical-align: middle;\n",
       "    }\n",
       "\n",
       "    .dataframe tbody tr th {\n",
       "        vertical-align: top;\n",
       "    }\n",
       "\n",
       "    .dataframe thead th {\n",
       "        text-align: right;\n",
       "    }\n",
       "</style>\n",
       "<table border=\"1\" class=\"dataframe\">\n",
       "  <thead>\n",
       "    <tr style=\"text-align: right;\">\n",
       "      <th></th>\n",
       "      <th>FECHA_ACTUALIZACION</th>\n",
       "      <th>ID_REGISTRO</th>\n",
       "      <th>ORIGEN</th>\n",
       "      <th>SECTOR</th>\n",
       "      <th>ENTIDAD_UM</th>\n",
       "      <th>SEXO</th>\n",
       "      <th>ENTIDAD_NAC</th>\n",
       "      <th>ENTIDAD_RES</th>\n",
       "      <th>MUNICIPIO_RES</th>\n",
       "      <th>TIPO_PACIENTE</th>\n",
       "      <th>...</th>\n",
       "      <th>RENAL_CRONICA</th>\n",
       "      <th>TABAQUISMO</th>\n",
       "      <th>OTRO_CASO</th>\n",
       "      <th>TOMA_MUESTRA</th>\n",
       "      <th>RESULTADO_LAB</th>\n",
       "      <th>CLASIFICACION_FINAL</th>\n",
       "      <th>MIGRANTE</th>\n",
       "      <th>PAIS_NACIONALIDAD</th>\n",
       "      <th>PAIS_ORIGEN</th>\n",
       "      <th>UCI</th>\n",
       "    </tr>\n",
       "  </thead>\n",
       "  <tbody>\n",
       "    <tr>\n",
       "      <th>0</th>\n",
       "      <td>2020-10-08</td>\n",
       "      <td>0679ec</td>\n",
       "      <td>2</td>\n",
       "      <td>12</td>\n",
       "      <td>21</td>\n",
       "      <td>1</td>\n",
       "      <td>21</td>\n",
       "      <td>21</td>\n",
       "      <td>114</td>\n",
       "      <td>2</td>\n",
       "      <td>...</td>\n",
       "      <td>2</td>\n",
       "      <td>2</td>\n",
       "      <td>1</td>\n",
       "      <td>1</td>\n",
       "      <td>1</td>\n",
       "      <td>3</td>\n",
       "      <td>99</td>\n",
       "      <td>México</td>\n",
       "      <td>97</td>\n",
       "      <td>2</td>\n",
       "    </tr>\n",
       "    <tr>\n",
       "      <th>1</th>\n",
       "      <td>2020-10-08</td>\n",
       "      <td>1d59b1</td>\n",
       "      <td>2</td>\n",
       "      <td>9</td>\n",
       "      <td>30</td>\n",
       "      <td>1</td>\n",
       "      <td>30</td>\n",
       "      <td>30</td>\n",
       "      <td>28</td>\n",
       "      <td>1</td>\n",
       "      <td>...</td>\n",
       "      <td>2</td>\n",
       "      <td>2</td>\n",
       "      <td>2</td>\n",
       "      <td>1</td>\n",
       "      <td>1</td>\n",
       "      <td>3</td>\n",
       "      <td>99</td>\n",
       "      <td>México</td>\n",
       "      <td>97</td>\n",
       "      <td>97</td>\n",
       "    </tr>\n",
       "    <tr>\n",
       "      <th>2</th>\n",
       "      <td>2020-10-08</td>\n",
       "      <td>0aa1ae</td>\n",
       "      <td>2</td>\n",
       "      <td>12</td>\n",
       "      <td>16</td>\n",
       "      <td>2</td>\n",
       "      <td>16</td>\n",
       "      <td>16</td>\n",
       "      <td>53</td>\n",
       "      <td>1</td>\n",
       "      <td>...</td>\n",
       "      <td>2</td>\n",
       "      <td>1</td>\n",
       "      <td>1</td>\n",
       "      <td>1</td>\n",
       "      <td>1</td>\n",
       "      <td>3</td>\n",
       "      <td>99</td>\n",
       "      <td>México</td>\n",
       "      <td>97</td>\n",
       "      <td>97</td>\n",
       "    </tr>\n",
       "    <tr>\n",
       "      <th>3</th>\n",
       "      <td>2020-10-08</td>\n",
       "      <td>0d4204</td>\n",
       "      <td>1</td>\n",
       "      <td>12</td>\n",
       "      <td>23</td>\n",
       "      <td>2</td>\n",
       "      <td>23</td>\n",
       "      <td>23</td>\n",
       "      <td>5</td>\n",
       "      <td>1</td>\n",
       "      <td>...</td>\n",
       "      <td>2</td>\n",
       "      <td>1</td>\n",
       "      <td>1</td>\n",
       "      <td>1</td>\n",
       "      <td>1</td>\n",
       "      <td>3</td>\n",
       "      <td>99</td>\n",
       "      <td>México</td>\n",
       "      <td>97</td>\n",
       "      <td>97</td>\n",
       "    </tr>\n",
       "    <tr>\n",
       "      <th>4</th>\n",
       "      <td>2020-10-08</td>\n",
       "      <td>18ff5d</td>\n",
       "      <td>2</td>\n",
       "      <td>12</td>\n",
       "      <td>24</td>\n",
       "      <td>1</td>\n",
       "      <td>24</td>\n",
       "      <td>24</td>\n",
       "      <td>28</td>\n",
       "      <td>1</td>\n",
       "      <td>...</td>\n",
       "      <td>2</td>\n",
       "      <td>2</td>\n",
       "      <td>1</td>\n",
       "      <td>1</td>\n",
       "      <td>1</td>\n",
       "      <td>3</td>\n",
       "      <td>99</td>\n",
       "      <td>México</td>\n",
       "      <td>97</td>\n",
       "      <td>97</td>\n",
       "    </tr>\n",
       "  </tbody>\n",
       "</table>\n",
       "<p>5 rows × 38 columns</p>\n",
       "</div>"
      ],
      "text/plain": [
       "  FECHA_ACTUALIZACION ID_REGISTRO  ORIGEN  SECTOR  ENTIDAD_UM  SEXO  \\\n",
       "0          2020-10-08      0679ec       2      12          21     1   \n",
       "1          2020-10-08      1d59b1       2       9          30     1   \n",
       "2          2020-10-08      0aa1ae       2      12          16     2   \n",
       "3          2020-10-08      0d4204       1      12          23     2   \n",
       "4          2020-10-08      18ff5d       2      12          24     1   \n",
       "\n",
       "   ENTIDAD_NAC  ENTIDAD_RES  MUNICIPIO_RES  TIPO_PACIENTE  ... RENAL_CRONICA  \\\n",
       "0           21           21            114              2  ...             2   \n",
       "1           30           30             28              1  ...             2   \n",
       "2           16           16             53              1  ...             2   \n",
       "3           23           23              5              1  ...             2   \n",
       "4           24           24             28              1  ...             2   \n",
       "\n",
       "  TABAQUISMO OTRO_CASO  TOMA_MUESTRA  RESULTADO_LAB  CLASIFICACION_FINAL  \\\n",
       "0          2         1             1              1                    3   \n",
       "1          2         2             1              1                    3   \n",
       "2          1         1             1              1                    3   \n",
       "3          1         1             1              1                    3   \n",
       "4          2         1             1              1                    3   \n",
       "\n",
       "   MIGRANTE  PAIS_NACIONALIDAD  PAIS_ORIGEN  UCI  \n",
       "0        99             México           97    2  \n",
       "1        99             México           97   97  \n",
       "2        99             México           97   97  \n",
       "3        99             México           97   97  \n",
       "4        99             México           97   97  \n",
       "\n",
       "[5 rows x 38 columns]"
      ]
     },
     "execution_count": 7,
     "metadata": {},
     "output_type": "execute_result"
    }
   ],
   "source": [
    "# Get positive COVID 19 infected people\n",
    "data = db.loc[(db['RESULTADO_LAB']==1)]\n",
    "print(len(data))\n",
    "data.head()"
   ]
  },
  {
   "cell_type": "code",
   "execution_count": 8,
   "metadata": {},
   "outputs": [
    {
     "name": "stdout",
     "output_type": "stream",
     "text": [
      "Databases/diccionario_datos_covid19/Catalogos_071020.xlsx\n"
     ]
    },
    {
     "data": {
      "text/plain": [
       "['Catálogo ORIGEN',\n",
       " 'Catálogo SECTOR',\n",
       " 'Catálogo SEXO',\n",
       " 'Catálogo TIPO_PACIENTE',\n",
       " 'Catálogo SI_NO',\n",
       " 'Catálogo NACIONALIDAD',\n",
       " 'Catálogo RESULTADO_LAB',\n",
       " 'Catálogo CLASIFICACION_FINAL',\n",
       " 'Catálogo de ENTIDADES',\n",
       " 'Catálogo MUNICIPIOS']"
      ]
     },
     "execution_count": 8,
     "metadata": {},
     "output_type": "execute_result"
    }
   ],
   "source": [
    "os.system('rm -r '+os.path.join(path,'*.zip'))\n",
    "files = glob.glob(os.path.join(path,'*/*'))\n",
    "for file in files:\n",
    "    if re.search('Catalogos',file) != None:\n",
    "        print(file)\n",
    "        break\n",
    "catalogues = pd.ExcelFile(file)\n",
    "catalogues.sheet_names"
   ]
  },
  {
   "cell_type": "code",
   "execution_count": 9,
   "metadata": {},
   "outputs": [
    {
     "data": {
      "text/plain": [
       "779127"
      ]
     },
     "execution_count": 9,
     "metadata": {},
     "output_type": "execute_result"
    }
   ],
   "source": [
    "origen = catalogues.parse('Catálogo ORIGEN')\n",
    "data = pd.merge(data,origen,left_on='ORIGEN',right_on='CLAVE')\n",
    "data = data.rename(columns={'DESCRIPCIÓN':'ORIGEN_DESC'})\n",
    "data = data.drop('CLAVE',axis=1)\n",
    "len(data)"
   ]
  },
  {
   "cell_type": "code",
   "execution_count": 10,
   "metadata": {},
   "outputs": [
    {
     "data": {
      "text/plain": [
       "779127"
      ]
     },
     "execution_count": 10,
     "metadata": {},
     "output_type": "execute_result"
    }
   ],
   "source": [
    "sector = catalogues.parse('Catálogo SECTOR')\n",
    "data = pd.merge(data,sector,left_on='SECTOR',right_on='CLAVE')\n",
    "data = data.rename(columns={'DESCRIPCIÓN':'SECTOR_DESC'})\n",
    "data = data.drop('CLAVE',axis=1)\n",
    "len(data)"
   ]
  },
  {
   "cell_type": "code",
   "execution_count": 11,
   "metadata": {},
   "outputs": [
    {
     "data": {
      "text/plain": [
       "779127"
      ]
     },
     "execution_count": 11,
     "metadata": {},
     "output_type": "execute_result"
    }
   ],
   "source": [
    "sexo = catalogues.parse('Catálogo SEXO')\n",
    "data = pd.merge(data,sexo,left_on='SEXO',right_on='CLAVE')\n",
    "data = data.rename(columns={'DESCRIPCIÓN':'SEXO_DESC'})\n",
    "data = data.drop('CLAVE',axis=1)\n",
    "len(data)"
   ]
  },
  {
   "cell_type": "code",
   "execution_count": 12,
   "metadata": {},
   "outputs": [
    {
     "data": {
      "text/plain": [
       "779127"
      ]
     },
     "execution_count": 12,
     "metadata": {},
     "output_type": "execute_result"
    }
   ],
   "source": [
    "tipoPaciente = catalogues.parse('Catálogo TIPO_PACIENTE')\n",
    "data = pd.merge(data,tipoPaciente,left_on='TIPO_PACIENTE',right_on='CLAVE')\n",
    "data = data.rename(columns={'DESCRIPCIÓN':'TIPO_PACIENTE_DESC'})\n",
    "data = data.drop('CLAVE',axis=1)\n",
    "len(data)"
   ]
  },
  {
   "cell_type": "code",
   "execution_count": 13,
   "metadata": {},
   "outputs": [
    {
     "data": {
      "text/plain": [
       "779127"
      ]
     },
     "execution_count": 13,
     "metadata": {},
     "output_type": "execute_result"
    }
   ],
   "source": [
    "nacionalidad = catalogues.parse('Catálogo NACIONALIDAD')\n",
    "data = pd.merge(data,nacionalidad,left_on='NACIONALIDAD',right_on='CLAVE')\n",
    "data = data.rename(columns={'DESCRIPCIÓN':'NACIONALIDAD_DESC'})\n",
    "data = data.drop('CLAVE',axis=1)\n",
    "len(data)"
   ]
  },
  {
   "cell_type": "code",
   "execution_count": 14,
   "metadata": {},
   "outputs": [
    {
     "data": {
      "text/plain": [
       "779127"
      ]
     },
     "execution_count": 14,
     "metadata": {},
     "output_type": "execute_result"
    }
   ],
   "source": [
    "resultadoLab = catalogues.parse('Catálogo RESULTADO_LAB',1)\n",
    "data = pd.merge(data,resultadoLab,left_on='RESULTADO_LAB',right_on='CLAVE')\n",
    "data = data.rename(columns={'DESCRIPCIÓN':'RESULTADO_LAB_DESC'})\n",
    "data = data.drop('CLAVE',axis=1)\n",
    "len(data)"
   ]
  },
  {
   "cell_type": "code",
   "execution_count": 15,
   "metadata": {},
   "outputs": [
    {
     "data": {
      "text/plain": [
       "779127"
      ]
     },
     "execution_count": 15,
     "metadata": {},
     "output_type": "execute_result"
    }
   ],
   "source": [
    "classificacion_final = catalogues.parse('Catálogo CLASIFICACION_FINAL',2)\n",
    "data = pd.merge(data,classificacion_final,left_on='CLASIFICACION_FINAL',right_on='CLAVE')\n",
    "data = data.rename(columns={'DESCRIPCIÓN':'CLAS_DESC'})\n",
    "data = data.drop('CLAVE',axis=1)\n",
    "len(data)"
   ]
  },
  {
   "cell_type": "code",
   "execution_count": 16,
   "metadata": {},
   "outputs": [
    {
     "data": {
      "text/plain": [
       "779127"
      ]
     },
     "execution_count": 16,
     "metadata": {},
     "output_type": "execute_result"
    }
   ],
   "source": [
    "entidades = catalogues.parse('Catálogo de ENTIDADES')\n",
    "data = pd.merge(data,entidades,left_on='ENTIDAD_NAC',right_on='CLAVE_ENTIDAD')\n",
    "data = data.rename(columns={'ENTIDAD_FEDERATIVA':'ENTIDAD_FEDERATIVA_NAC','ABREVIATURA':'ABREVIATURA_NAC'})\n",
    "data = data.drop('CLAVE_ENTIDAD',axis=1)\n",
    "len(data)"
   ]
  },
  {
   "cell_type": "code",
   "execution_count": 17,
   "metadata": {},
   "outputs": [
    {
     "data": {
      "text/plain": [
       "779127"
      ]
     },
     "execution_count": 17,
     "metadata": {},
     "output_type": "execute_result"
    }
   ],
   "source": [
    "entidades = catalogues.parse('Catálogo de ENTIDADES')\n",
    "data = pd.merge(data,entidades,left_on='ENTIDAD_RES',right_on='CLAVE_ENTIDAD')\n",
    "data = data.rename(columns={'ENTIDAD_FEDERATIVA':'ENTIDAD_FEDERATIVA_RES','ABREVIATURA':'ABREVIATURA_RES'})\n",
    "data = data.drop('CLAVE_ENTIDAD',axis=1)\n",
    "len(data)"
   ]
  },
  {
   "cell_type": "code",
   "execution_count": 18,
   "metadata": {},
   "outputs": [
    {
     "data": {
      "text/plain": [
       "779127"
      ]
     },
     "execution_count": 18,
     "metadata": {},
     "output_type": "execute_result"
    }
   ],
   "source": [
    "entidades = catalogues.parse('Catálogo de ENTIDADES')\n",
    "data = pd.merge(data,entidades,left_on='ENTIDAD_UM',right_on='CLAVE_ENTIDAD')\n",
    "data = data.rename(columns={'ENTIDAD_FEDERATIVA':'ENTIDAD_FEDERATIVA_UM','ABREVIATURA':'ABREVIATURA_UM'})\n",
    "data = data.drop('CLAVE_ENTIDAD',axis=1)\n",
    "len(data)"
   ]
  },
  {
   "cell_type": "code",
   "execution_count": 19,
   "metadata": {},
   "outputs": [
    {
     "data": {
      "text/plain": [
       "779127"
      ]
     },
     "execution_count": 19,
     "metadata": {},
     "output_type": "execute_result"
    }
   ],
   "source": [
    "si_no = catalogues.parse('Catálogo SI_NO')\n",
    "data = pd.merge(data,si_no,left_on='INTUBADO',right_on='CLAVE')\n",
    "data = data.rename(columns={'DESCRIPCIÓN':'INTUBADO_DESC'})\n",
    "data = data.drop(['CLAVE'],axis=1)\n",
    "len(data)"
   ]
  },
  {
   "cell_type": "code",
   "execution_count": 20,
   "metadata": {},
   "outputs": [
    {
     "data": {
      "text/plain": [
       "779127"
      ]
     },
     "execution_count": 20,
     "metadata": {},
     "output_type": "execute_result"
    }
   ],
   "source": [
    "si_no = catalogues.parse('Catálogo SI_NO')\n",
    "data = pd.merge(data,si_no,left_on='NEUMONIA',right_on='CLAVE')\n",
    "data = data.rename(columns={'DESCRIPCIÓN':'NEUMONIA_DESC'})\n",
    "data = data.drop(['CLAVE'],axis=1)\n",
    "len(data)"
   ]
  },
  {
   "cell_type": "code",
   "execution_count": 21,
   "metadata": {},
   "outputs": [
    {
     "data": {
      "text/plain": [
       "779127"
      ]
     },
     "execution_count": 21,
     "metadata": {},
     "output_type": "execute_result"
    }
   ],
   "source": [
    "si_no = catalogues.parse('Catálogo SI_NO')\n",
    "data = pd.merge(data,si_no,left_on='NEUMONIA',right_on='CLAVE')\n",
    "data = data.rename(columns={'DESCRIPCIÓN':'NEUMONIA_DESC'})\n",
    "data = data.drop(['CLAVE'],axis=1)\n",
    "len(data)"
   ]
  },
  {
   "cell_type": "code",
   "execution_count": 22,
   "metadata": {},
   "outputs": [
    {
     "data": {
      "text/plain": [
       "779127"
      ]
     },
     "execution_count": 22,
     "metadata": {},
     "output_type": "execute_result"
    }
   ],
   "source": [
    "si_no = catalogues.parse('Catálogo SI_NO')\n",
    "data = pd.merge(data,si_no,left_on='HABLA_LENGUA_INDIG',right_on='CLAVE')\n",
    "data = data.rename(columns={'DESCRIPCIÓN':'HABLA_LENGUA_INDIG_DESC'})\n",
    "data = data.drop(['CLAVE'],axis=1)\n",
    "len(data)"
   ]
  },
  {
   "cell_type": "code",
   "execution_count": 23,
   "metadata": {},
   "outputs": [
    {
     "data": {
      "text/plain": [
       "779127"
      ]
     },
     "execution_count": 23,
     "metadata": {},
     "output_type": "execute_result"
    }
   ],
   "source": [
    "si_no = catalogues.parse('Catálogo SI_NO')\n",
    "data = pd.merge(data,si_no,left_on='INDIGENA',right_on='CLAVE')\n",
    "data = data.rename(columns={'DESCRIPCIÓN':'INDIGENA_DESC'})\n",
    "data = data.drop(['CLAVE'],axis=1)\n",
    "len(data)"
   ]
  },
  {
   "cell_type": "code",
   "execution_count": 24,
   "metadata": {},
   "outputs": [
    {
     "data": {
      "text/plain": [
       "779127"
      ]
     },
     "execution_count": 24,
     "metadata": {},
     "output_type": "execute_result"
    }
   ],
   "source": [
    "si_no = catalogues.parse('Catálogo SI_NO')\n",
    "data = pd.merge(data,si_no,left_on='DIABETES',right_on='CLAVE')\n",
    "data = data.rename(columns={'DESCRIPCIÓN':'DIABETES_DESC'})\n",
    "data = data.drop(['CLAVE'],axis=1)\n",
    "len(data)"
   ]
  },
  {
   "cell_type": "code",
   "execution_count": 25,
   "metadata": {},
   "outputs": [
    {
     "data": {
      "text/plain": [
       "779127"
      ]
     },
     "execution_count": 25,
     "metadata": {},
     "output_type": "execute_result"
    }
   ],
   "source": [
    "si_no = catalogues.parse('Catálogo SI_NO')\n",
    "data = pd.merge(data,si_no,left_on='EPOC',right_on='CLAVE')\n",
    "data = data.rename(columns={'DESCRIPCIÓN':'EPOC_DESC'})\n",
    "data = data.drop(['CLAVE'],axis=1)\n",
    "len(data)"
   ]
  },
  {
   "cell_type": "code",
   "execution_count": 26,
   "metadata": {},
   "outputs": [
    {
     "data": {
      "text/plain": [
       "779127"
      ]
     },
     "execution_count": 26,
     "metadata": {},
     "output_type": "execute_result"
    }
   ],
   "source": [
    "si_no = catalogues.parse('Catálogo SI_NO')\n",
    "data = pd.merge(data,si_no,left_on='ASMA',right_on='CLAVE')\n",
    "data = data.rename(columns={'DESCRIPCIÓN':'ASMA_DESC'})\n",
    "data = data.drop(['CLAVE'],axis=1)\n",
    "len(data)"
   ]
  },
  {
   "cell_type": "code",
   "execution_count": 27,
   "metadata": {},
   "outputs": [
    {
     "data": {
      "text/plain": [
       "779127"
      ]
     },
     "execution_count": 27,
     "metadata": {},
     "output_type": "execute_result"
    }
   ],
   "source": [
    "si_no = catalogues.parse('Catálogo SI_NO')\n",
    "data = pd.merge(data,si_no,left_on='INMUSUPR',right_on='CLAVE')\n",
    "data = data.rename(columns={'DESCRIPCIÓN':'INMUSUPR_DESC'})\n",
    "data = data.drop(['CLAVE'],axis=1)\n",
    "len(data)"
   ]
  },
  {
   "cell_type": "code",
   "execution_count": 30,
   "metadata": {},
   "outputs": [
    {
     "data": {
      "text/plain": [
       "779127"
      ]
     },
     "execution_count": 30,
     "metadata": {},
     "output_type": "execute_result"
    }
   ],
   "source": [
    "si_no = catalogues.parse('Catálogo SI_NO')\n",
    "data = pd.merge(data,si_no,left_on='OTRA_COM',right_on='CLAVE')\n",
    "data = data.rename(columns={'DESCRIPCIÓN':'OTRA_COM_DESC'})\n",
    "data = data.drop(['CLAVE'],axis=1)\n",
    "len(data)"
   ]
  },
  {
   "cell_type": "code",
   "execution_count": 31,
   "metadata": {},
   "outputs": [
    {
     "data": {
      "text/plain": [
       "779127"
      ]
     },
     "execution_count": 31,
     "metadata": {},
     "output_type": "execute_result"
    }
   ],
   "source": [
    "si_no = catalogues.parse('Catálogo SI_NO')\n",
    "data = pd.merge(data,si_no,left_on='CARDIOVASCULAR',right_on='CLAVE')\n",
    "data = data.rename(columns={'DESCRIPCIÓN':'CARDIOVASCULAR_DESC'})\n",
    "data = data.drop(['CLAVE'],axis=1)\n",
    "len(data)"
   ]
  },
  {
   "cell_type": "code",
   "execution_count": 32,
   "metadata": {},
   "outputs": [
    {
     "data": {
      "text/plain": [
       "779127"
      ]
     },
     "execution_count": 32,
     "metadata": {},
     "output_type": "execute_result"
    }
   ],
   "source": [
    "si_no = catalogues.parse('Catálogo SI_NO')\n",
    "data = pd.merge(data,si_no,left_on='OBESIDAD',right_on='CLAVE')\n",
    "data = data.rename(columns={'DESCRIPCIÓN':'OBESIDAD_DESC'})\n",
    "data = data.drop(['CLAVE'],axis=1)\n",
    "len(data)"
   ]
  },
  {
   "cell_type": "code",
   "execution_count": 33,
   "metadata": {},
   "outputs": [
    {
     "data": {
      "text/plain": [
       "779127"
      ]
     },
     "execution_count": 33,
     "metadata": {},
     "output_type": "execute_result"
    }
   ],
   "source": [
    "si_no = catalogues.parse('Catálogo SI_NO')\n",
    "data = pd.merge(data,si_no,left_on='RENAL_CRONICA',right_on='CLAVE')\n",
    "data = data.rename(columns={'DESCRIPCIÓN':'RENAL_CRONICA_DESC'})\n",
    "data = data.drop(['CLAVE'],axis=1)\n",
    "len(data)"
   ]
  },
  {
   "cell_type": "code",
   "execution_count": 34,
   "metadata": {},
   "outputs": [
    {
     "data": {
      "text/plain": [
       "779127"
      ]
     },
     "execution_count": 34,
     "metadata": {},
     "output_type": "execute_result"
    }
   ],
   "source": [
    "si_no = catalogues.parse('Catálogo SI_NO')\n",
    "data = pd.merge(data,si_no,left_on='TABAQUISMO',right_on='CLAVE')\n",
    "data = data.rename(columns={'DESCRIPCIÓN':'TABAQUISMO_DESC'})\n",
    "data = data.drop(['CLAVE'],axis=1)\n",
    "len(data)"
   ]
  },
  {
   "cell_type": "code",
   "execution_count": 35,
   "metadata": {},
   "outputs": [
    {
     "data": {
      "text/plain": [
       "779127"
      ]
     },
     "execution_count": 35,
     "metadata": {},
     "output_type": "execute_result"
    }
   ],
   "source": [
    "si_no = catalogues.parse('Catálogo SI_NO')\n",
    "data = pd.merge(data,si_no,left_on='OTRO_CASO',right_on='CLAVE')\n",
    "data = data.rename(columns={'DESCRIPCIÓN':'OTRO_CASO_DESC'})\n",
    "data = data.drop(['CLAVE'],axis=1)\n",
    "len(data)"
   ]
  },
  {
   "cell_type": "code",
   "execution_count": 36,
   "metadata": {},
   "outputs": [
    {
     "data": {
      "text/plain": [
       "779127"
      ]
     },
     "execution_count": 36,
     "metadata": {},
     "output_type": "execute_result"
    }
   ],
   "source": [
    "si_no = catalogues.parse('Catálogo SI_NO')\n",
    "data = pd.merge(data,si_no,left_on='TOMA_MUESTRA',right_on='CLAVE')\n",
    "data = data.rename(columns={'DESCRIPCIÓN':'TOMA_MUESTRA_DESC'})\n",
    "data = data.drop(['CLAVE'],axis=1)\n",
    "len(data)"
   ]
  },
  {
   "cell_type": "code",
   "execution_count": 37,
   "metadata": {},
   "outputs": [
    {
     "data": {
      "text/plain": [
       "779127"
      ]
     },
     "execution_count": 37,
     "metadata": {},
     "output_type": "execute_result"
    }
   ],
   "source": [
    "si_no = catalogues.parse('Catálogo SI_NO')\n",
    "data = pd.merge(data,si_no,left_on='MIGRANTE',right_on='CLAVE')\n",
    "data = data.rename(columns={'DESCRIPCIÓN':'MIGRANTE_DESC'})\n",
    "data = data.drop(['CLAVE'],axis=1)\n",
    "len(data)"
   ]
  },
  {
   "cell_type": "code",
   "execution_count": 38,
   "metadata": {},
   "outputs": [
    {
     "data": {
      "text/plain": [
       "779127"
      ]
     },
     "execution_count": 38,
     "metadata": {},
     "output_type": "execute_result"
    }
   ],
   "source": [
    "si_no = catalogues.parse('Catálogo SI_NO')\n",
    "data = pd.merge(data,si_no,left_on='UCI',right_on='CLAVE')\n",
    "data = data.rename(columns={'DESCRIPCIÓN':'UCI_DESC'})\n",
    "data = data.drop(['CLAVE'],axis=1)\n",
    "len(data)"
   ]
  },
  {
   "cell_type": "code",
   "execution_count": 39,
   "metadata": {},
   "outputs": [
    {
     "data": {
      "text/plain": [
       "779127"
      ]
     },
     "execution_count": 39,
     "metadata": {},
     "output_type": "execute_result"
    }
   ],
   "source": [
    "si_no = catalogues.parse('Catálogo SI_NO')\n",
    "data = pd.merge(data,si_no,left_on='HIPERTENSION',right_on='CLAVE')\n",
    "data = data.rename(columns={'DESCRIPCIÓN':'HIPERTENSION_DESC'})\n",
    "data = data.drop(['CLAVE'],axis=1)\n",
    "len(data)"
   ]
  },
  {
   "cell_type": "code",
   "execution_count": 40,
   "metadata": {},
   "outputs": [
    {
     "data": {
      "text/plain": [
       "779122"
      ]
     },
     "execution_count": 40,
     "metadata": {},
     "output_type": "execute_result"
    }
   ],
   "source": [
    "municipios = catalogues.parse('Catálogo MUNICIPIOS')\n",
    "data = pd.merge(data,municipios,left_on=['MUNICIPIO_RES','ENTIDAD_RES'],right_on=['CLAVE_MUNICIPIO','CLAVE_ENTIDAD'])\n",
    "data = data.drop(['CLAVE_ENTIDAD','CLAVE_MUNICIPIO'],axis=1)\n",
    "data = data.rename(columns={'MUNICIPIO':'MUNICIPIO_RES_DESC'})\n",
    "len(data)"
   ]
  },
  {
   "cell_type": "code",
   "execution_count": 41,
   "metadata": {},
   "outputs": [
    {
     "data": {
      "text/html": [
       "<div>\n",
       "<style scoped>\n",
       "    .dataframe tbody tr th:only-of-type {\n",
       "        vertical-align: middle;\n",
       "    }\n",
       "\n",
       "    .dataframe tbody tr th {\n",
       "        vertical-align: top;\n",
       "    }\n",
       "\n",
       "    .dataframe thead th {\n",
       "        text-align: right;\n",
       "    }\n",
       "</style>\n",
       "<table border=\"1\" class=\"dataframe\">\n",
       "  <thead>\n",
       "    <tr style=\"text-align: right;\">\n",
       "      <th></th>\n",
       "      <th>FECHA_ACTUALIZACION</th>\n",
       "      <th>ID_REGISTRO</th>\n",
       "      <th>ORIGEN</th>\n",
       "      <th>SECTOR</th>\n",
       "      <th>ENTIDAD_UM</th>\n",
       "      <th>SEXO</th>\n",
       "      <th>ENTIDAD_NAC</th>\n",
       "      <th>ENTIDAD_RES</th>\n",
       "      <th>MUNICIPIO_RES</th>\n",
       "      <th>TIPO_PACIENTE</th>\n",
       "      <th>...</th>\n",
       "      <th>CARDIOVASCULAR_DESC</th>\n",
       "      <th>OBESIDAD_DESC</th>\n",
       "      <th>RENAL_CRONICA_DESC</th>\n",
       "      <th>TABAQUISMO_DESC</th>\n",
       "      <th>OTRO_CASO_DESC</th>\n",
       "      <th>TOMA_MUESTRA_DESC</th>\n",
       "      <th>MIGRANTE_DESC</th>\n",
       "      <th>UCI_DESC</th>\n",
       "      <th>HIPERTENSION_DESC</th>\n",
       "      <th>MUNICIPIO_RES_DESC</th>\n",
       "    </tr>\n",
       "  </thead>\n",
       "  <tbody>\n",
       "    <tr>\n",
       "      <th>0</th>\n",
       "      <td>2020-10-08</td>\n",
       "      <td>0679ec</td>\n",
       "      <td>2</td>\n",
       "      <td>12</td>\n",
       "      <td>21</td>\n",
       "      <td>1</td>\n",
       "      <td>21</td>\n",
       "      <td>21</td>\n",
       "      <td>114</td>\n",
       "      <td>2</td>\n",
       "      <td>...</td>\n",
       "      <td>NO</td>\n",
       "      <td>NO</td>\n",
       "      <td>NO</td>\n",
       "      <td>NO</td>\n",
       "      <td>SI</td>\n",
       "      <td>SI</td>\n",
       "      <td>NO ESPECIFICADO</td>\n",
       "      <td>NO</td>\n",
       "      <td>NO</td>\n",
       "      <td>PUEBLA</td>\n",
       "    </tr>\n",
       "    <tr>\n",
       "      <th>1</th>\n",
       "      <td>2020-10-08</td>\n",
       "      <td>0e5343</td>\n",
       "      <td>2</td>\n",
       "      <td>12</td>\n",
       "      <td>21</td>\n",
       "      <td>1</td>\n",
       "      <td>21</td>\n",
       "      <td>21</td>\n",
       "      <td>114</td>\n",
       "      <td>2</td>\n",
       "      <td>...</td>\n",
       "      <td>NO</td>\n",
       "      <td>NO</td>\n",
       "      <td>NO</td>\n",
       "      <td>NO</td>\n",
       "      <td>SI</td>\n",
       "      <td>SI</td>\n",
       "      <td>NO ESPECIFICADO</td>\n",
       "      <td>NO</td>\n",
       "      <td>NO</td>\n",
       "      <td>PUEBLA</td>\n",
       "    </tr>\n",
       "    <tr>\n",
       "      <th>2</th>\n",
       "      <td>2020-10-08</td>\n",
       "      <td>0dfa55</td>\n",
       "      <td>2</td>\n",
       "      <td>12</td>\n",
       "      <td>21</td>\n",
       "      <td>1</td>\n",
       "      <td>21</td>\n",
       "      <td>21</td>\n",
       "      <td>114</td>\n",
       "      <td>2</td>\n",
       "      <td>...</td>\n",
       "      <td>NO</td>\n",
       "      <td>NO</td>\n",
       "      <td>NO</td>\n",
       "      <td>NO</td>\n",
       "      <td>SI</td>\n",
       "      <td>SI</td>\n",
       "      <td>NO ESPECIFICADO</td>\n",
       "      <td>NO</td>\n",
       "      <td>NO</td>\n",
       "      <td>PUEBLA</td>\n",
       "    </tr>\n",
       "    <tr>\n",
       "      <th>3</th>\n",
       "      <td>2020-10-08</td>\n",
       "      <td>1706d0</td>\n",
       "      <td>2</td>\n",
       "      <td>12</td>\n",
       "      <td>21</td>\n",
       "      <td>1</td>\n",
       "      <td>21</td>\n",
       "      <td>21</td>\n",
       "      <td>114</td>\n",
       "      <td>2</td>\n",
       "      <td>...</td>\n",
       "      <td>NO</td>\n",
       "      <td>NO</td>\n",
       "      <td>NO</td>\n",
       "      <td>NO</td>\n",
       "      <td>SI</td>\n",
       "      <td>SI</td>\n",
       "      <td>NO ESPECIFICADO</td>\n",
       "      <td>NO</td>\n",
       "      <td>NO</td>\n",
       "      <td>PUEBLA</td>\n",
       "    </tr>\n",
       "    <tr>\n",
       "      <th>4</th>\n",
       "      <td>2020-10-08</td>\n",
       "      <td>06b0b0</td>\n",
       "      <td>2</td>\n",
       "      <td>12</td>\n",
       "      <td>21</td>\n",
       "      <td>1</td>\n",
       "      <td>21</td>\n",
       "      <td>21</td>\n",
       "      <td>114</td>\n",
       "      <td>2</td>\n",
       "      <td>...</td>\n",
       "      <td>NO</td>\n",
       "      <td>NO</td>\n",
       "      <td>NO</td>\n",
       "      <td>NO</td>\n",
       "      <td>SI</td>\n",
       "      <td>SI</td>\n",
       "      <td>NO ESPECIFICADO</td>\n",
       "      <td>NO</td>\n",
       "      <td>NO</td>\n",
       "      <td>PUEBLA</td>\n",
       "    </tr>\n",
       "  </tbody>\n",
       "</table>\n",
       "<p>5 rows × 72 columns</p>\n",
       "</div>"
      ],
      "text/plain": [
       "  FECHA_ACTUALIZACION ID_REGISTRO  ORIGEN  SECTOR  ENTIDAD_UM  SEXO  \\\n",
       "0          2020-10-08      0679ec       2      12          21     1   \n",
       "1          2020-10-08      0e5343       2      12          21     1   \n",
       "2          2020-10-08      0dfa55       2      12          21     1   \n",
       "3          2020-10-08      1706d0       2      12          21     1   \n",
       "4          2020-10-08      06b0b0       2      12          21     1   \n",
       "\n",
       "   ENTIDAD_NAC  ENTIDAD_RES  MUNICIPIO_RES  TIPO_PACIENTE  ...  \\\n",
       "0           21           21            114              2  ...   \n",
       "1           21           21            114              2  ...   \n",
       "2           21           21            114              2  ...   \n",
       "3           21           21            114              2  ...   \n",
       "4           21           21            114              2  ...   \n",
       "\n",
       "  CARDIOVASCULAR_DESC OBESIDAD_DESC RENAL_CRONICA_DESC  TABAQUISMO_DESC  \\\n",
       "0                 NO            NO                 NO               NO    \n",
       "1                 NO            NO                 NO               NO    \n",
       "2                 NO            NO                 NO               NO    \n",
       "3                 NO            NO                 NO               NO    \n",
       "4                 NO            NO                 NO               NO    \n",
       "\n",
       "   OTRO_CASO_DESC  TOMA_MUESTRA_DESC    MIGRANTE_DESC  UCI_DESC  \\\n",
       "0             SI                 SI   NO ESPECIFICADO       NO    \n",
       "1             SI                 SI   NO ESPECIFICADO       NO    \n",
       "2             SI                 SI   NO ESPECIFICADO       NO    \n",
       "3             SI                 SI   NO ESPECIFICADO       NO    \n",
       "4             SI                 SI   NO ESPECIFICADO       NO    \n",
       "\n",
       "   HIPERTENSION_DESC  MUNICIPIO_RES_DESC  \n",
       "0                NO               PUEBLA  \n",
       "1                NO               PUEBLA  \n",
       "2                NO               PUEBLA  \n",
       "3                NO               PUEBLA  \n",
       "4                NO               PUEBLA  \n",
       "\n",
       "[5 rows x 72 columns]"
      ]
     },
     "execution_count": 41,
     "metadata": {},
     "output_type": "execute_result"
    }
   ],
   "source": [
    "data.head()"
   ]
  },
  {
   "cell_type": "code",
   "execution_count": 44,
   "metadata": {},
   "outputs": [],
   "source": [
    "path = 'Files'\n",
    "os.system('rm -r Databases/*')\n",
    "data.to_csv(os.path.join(path,'mex_covid_daily.csv'),index=False,encoding='utf-8')"
   ]
  }
 ],
 "metadata": {
  "kernelspec": {
   "display_name": "Python 3",
   "language": "python",
   "name": "python3"
  },
  "language_info": {
   "codemirror_mode": {
    "name": "ipython",
    "version": 3
   },
   "file_extension": ".py",
   "mimetype": "text/x-python",
   "name": "python",
   "nbconvert_exporter": "python",
   "pygments_lexer": "ipython3",
   "version": "3.7.7"
  }
 },
 "nbformat": 4,
 "nbformat_minor": 4
}
