{
 "cells": [
  {
   "cell_type": "markdown",
   "metadata": {},
   "source": [
    "# COVID 19 Mexican Analysis\n",
    "## Cesar Robles\n",
    "\n",
    "### Introduction\n",
    "Retrieving the information from the Mexican source system. All the information is public and anyone can download and interact with it.\n",
    "The *database* is in the following link: http://datosabiertos.salud.gob.mx/gobmx/salud/datos_abiertos/datos_abiertos_covid19.zip\n",
    "The principal *descriptors* are in the following link: http://datosabiertos.salud.gob.mx/gobmx/salud/datos_abiertos/diccionario_datos_covid19.zip\n",
    "\n",
    "Both files are needed to understand the information collected by the Mexican Health Ministry. The information was splitted to avoid problems with the size volume. In this sense, this action help us to download the information."
   ]
  },
  {
   "cell_type": "markdown",
   "metadata": {},
   "source": [
    "**Needed libraries:**\n",
    "\n",
    "The following lines can skip if you already have the packages."
   ]
  },
  {
   "cell_type": "code",
   "execution_count": 1,
   "metadata": {},
   "outputs": [
    {
     "name": "stdout",
     "output_type": "stream",
     "text": [
      "Requirement already up-to-date: pip in /Library/Frameworks/Python.framework/Versions/3.8/lib/python3.8/site-packages (20.2.4)\n",
      "Requirement already satisfied: pandas in /Library/Frameworks/Python.framework/Versions/3.8/lib/python3.8/site-packages (1.1.4)\n",
      "Requirement already satisfied: numpy in /Library/Frameworks/Python.framework/Versions/3.8/lib/python3.8/site-packages (1.19.3)\n",
      "Requirement already satisfied: zipfile37 in /Library/Frameworks/Python.framework/Versions/3.8/lib/python3.8/site-packages (0.1.3)\n",
      "Requirement already satisfied: xlrd in /Library/Frameworks/Python.framework/Versions/3.8/lib/python3.8/site-packages (1.2.0)\n",
      "Requirement already satisfied: openpyxl in /Library/Frameworks/Python.framework/Versions/3.8/lib/python3.8/site-packages (3.0.5)\n",
      "Requirement already satisfied: python-dateutil>=2.7.3 in /Library/Frameworks/Python.framework/Versions/3.8/lib/python3.8/site-packages (from pandas) (2.8.1)\n",
      "Requirement already satisfied: pytz>=2017.2 in /Library/Frameworks/Python.framework/Versions/3.8/lib/python3.8/site-packages (from pandas) (2020.1)\n",
      "Requirement already satisfied: jdcal in /Library/Frameworks/Python.framework/Versions/3.8/lib/python3.8/site-packages (from openpyxl) (1.4.1)\n",
      "Requirement already satisfied: et-xmlfile in /Library/Frameworks/Python.framework/Versions/3.8/lib/python3.8/site-packages (from openpyxl) (1.0.1)\n",
      "Requirement already satisfied: six>=1.5 in /Library/Frameworks/Python.framework/Versions/3.8/lib/python3.8/site-packages (from python-dateutil>=2.7.3->pandas) (1.15.0)\n"
     ]
    }
   ],
   "source": [
    "!pip install --upgrade pip\n",
    "!pip install pandas numpy zipfile37 xlrd openpyxl"
   ]
  },
  {
   "cell_type": "markdown",
   "metadata": {},
   "source": [
    "**Importing the libraries**"
   ]
  },
  {
   "cell_type": "code",
   "execution_count": 2,
   "metadata": {},
   "outputs": [],
   "source": [
    "import pandas as pd\n",
    "import zipfile\n",
    "import glob\n",
    "import os\n",
    "import re"
   ]
  },
  {
   "cell_type": "markdown",
   "metadata": {},
   "source": [
    "**Fucntion to check the files in the system**\n",
    "\n",
    "This function verify the data in the folder"
   ]
  },
  {
   "cell_type": "code",
   "execution_count": 3,
   "metadata": {},
   "outputs": [],
   "source": [
    "def checkFiles(fileName,files):\n",
    "    flag = 0\n",
    "    for file in files:\n",
    "        if not re.search(fileName,file) == None:\n",
    "            flag = 1\n",
    "        else:\n",
    "            flag = 0\n",
    "    return flag, fileName"
   ]
  },
  {
   "cell_type": "markdown",
   "metadata": {},
   "source": [
    "**If the Database doens't exist, then it download from the source**\n",
    "\n",
    "This part of the code check the newest data by day. The mexican databases are updated daily. However, these databases are no accurate on weekends, being better to download and analyse the contet from monday to friday."
   ]
  },
  {
   "cell_type": "code",
   "execution_count": 4,
   "metadata": {},
   "outputs": [
    {
     "name": "stdout",
     "output_type": "stream",
     "text": [
      "--2020-10-31 18:59:42--  http://datosabiertos.salud.gob.mx/gobmx/salud/datos_abiertos/datos_abiertos_covid19.zip\n",
      "Resolving datosabiertos.salud.gob.mx (datosabiertos.salud.gob.mx)... 187.210.186.146\n",
      "Connecting to datosabiertos.salud.gob.mx (datosabiertos.salud.gob.mx)|187.210.186.146|:80... connected.\n",
      "HTTP request sent, awaiting response... 200 OK\n",
      "Length: 50985917 (49M) [application/x-zip-compressed]\n",
      "Saving to: ‘../Databases/datos_abiertos_covid19.zip’\n",
      "\n",
      "datos_abiertos_covi 100%[===================>]  48.62M  8.90MB/s    in 5.6s    \n",
      "\n",
      "2020-10-31 18:59:48 (8.62 MB/s) - ‘../Databases/datos_abiertos_covid19.zip’ saved [50985917/50985917]\n",
      "\n",
      "--2020-10-31 18:59:48--  http://datosabiertos.salud.gob.mx/gobmx/salud/datos_abiertos/diccionario_datos_covid19.zip\n",
      "Resolving datosabiertos.salud.gob.mx (datosabiertos.salud.gob.mx)... 187.210.186.146\n",
      "Connecting to datosabiertos.salud.gob.mx (datosabiertos.salud.gob.mx)|187.210.186.146|:80... connected.\n",
      "HTTP request sent, awaiting response... 200 OK\n",
      "Length: 146303 (143K) [application/x-zip-compressed]\n",
      "Saving to: ‘../Databases/diccionario_datos_covid19.zip’\n",
      "\n",
      "diccionario_datos_c 100%[===================>] 142.87K  --.-KB/s    in 0.08s   \n",
      "\n",
      "2020-10-31 18:59:48 (1.71 MB/s) - ‘../Databases/diccionario_datos_covid19.zip’ saved [146303/146303]\n",
      "\n"
     ]
    }
   ],
   "source": [
    "path = '../Databases'\n",
    "files = glob.glob(os.path.join(path,'*'))\n",
    "\n",
    "[flag,fileName] = checkFiles('datos_abiertos_covid19.zip',files)\n",
    "if flag == 1:\n",
    "    os.system('rm -r '+os.path.join(path,fileName))\n",
    "    !wget -P '../Databases' http://datosabiertos.salud.gob.mx/gobmx/salud/datos_abiertos/datos_abiertos_covid19.zip\n",
    "else:\n",
    "    !wget -P '../Databases' http://datosabiertos.salud.gob.mx/gobmx/salud/datos_abiertos/datos_abiertos_covid19.zip\n",
    "\n",
    "[flag,fileName] = checkFiles('diccionario_datos_covid19.zip',files)\n",
    "if flag == 1:\n",
    "    os.system('rm -r '+os.path.join(path,fileName))\n",
    "    !wget -P '../Databases' http://datosabiertos.salud.gob.mx/gobmx/salud/datos_abiertos/diccionario_datos_covid19.zip\n",
    "else:\n",
    "    !wget -P '../Databases' http://datosabiertos.salud.gob.mx/gobmx/salud/datos_abiertos/diccionario_datos_covid19.zip\n",
    "\n",
    "[flag,fileName] = checkFiles('datos_abiertos_covid19.csv',files)\n",
    "if flag == 1:\n",
    "    os.system('rm -r '+os.path.join(path,fileName))\n",
    "[flag,fileName] = checkFiles('diccionario_datos_covid19',files)\n",
    "if flag == 1:\n",
    "    os.system('rm -r '+os.path.join(path,fileName))"
   ]
  },
  {
   "cell_type": "markdown",
   "metadata": {},
   "source": [
    "**Extracting the information**\n",
    "\n",
    "This part of the code check all the compress files in zip format, and uncompress to check the data. This part includes the catalogues as well as the latest databases."
   ]
  },
  {
   "cell_type": "code",
   "execution_count": 5,
   "metadata": {},
   "outputs": [],
   "source": [
    "import zipfile\n",
    "files = glob.glob(os.path.join(path,'*.zip'))\n",
    "for file in files:\n",
    "    if file == \"../Databases/diccionario_datos_covid19.zip\":\n",
    "        with zipfile.ZipFile(file,\"r\") as zip_ref:\n",
    "            zip_ref.extractall(\"../Databases/diccionario_datos_covid19/.\")\n",
    "    else:\n",
    "        with zipfile.ZipFile(file,\"r\") as zip_ref:\n",
    "            zip_ref.extractall(\"../Databases/.\")"
   ]
  },
  {
   "cell_type": "code",
   "execution_count": 6,
   "metadata": {},
   "outputs": [
    {
     "data": {
      "text/plain": [
       "['../Databases/datos_abiertos_covid19.zip',\n",
       " '../Databases/201030COVID19MEXICO.csv',\n",
       " '../Databases/diccionario_datos_covid19',\n",
       " '../Databases/diccionario_datos_covid19.zip']"
      ]
     },
     "execution_count": 6,
     "metadata": {},
     "output_type": "execute_result"
    }
   ],
   "source": [
    "glob.glob(os.path.join(path,'*'))"
   ]
  },
  {
   "cell_type": "markdown",
   "metadata": {},
   "source": [
    "**This part reads the database in csv format to dataframes**"
   ]
  },
  {
   "cell_type": "code",
   "execution_count": 7,
   "metadata": {},
   "outputs": [
    {
     "data": {
      "text/html": [
       "<div>\n",
       "<style scoped>\n",
       "    .dataframe tbody tr th:only-of-type {\n",
       "        vertical-align: middle;\n",
       "    }\n",
       "\n",
       "    .dataframe tbody tr th {\n",
       "        vertical-align: top;\n",
       "    }\n",
       "\n",
       "    .dataframe thead th {\n",
       "        text-align: right;\n",
       "    }\n",
       "</style>\n",
       "<table border=\"1\" class=\"dataframe\">\n",
       "  <thead>\n",
       "    <tr style=\"text-align: right;\">\n",
       "      <th></th>\n",
       "      <th>FECHA_ACTUALIZACION</th>\n",
       "      <th>ID_REGISTRO</th>\n",
       "      <th>ORIGEN</th>\n",
       "      <th>SECTOR</th>\n",
       "      <th>ENTIDAD_UM</th>\n",
       "      <th>SEXO</th>\n",
       "      <th>ENTIDAD_NAC</th>\n",
       "      <th>ENTIDAD_RES</th>\n",
       "      <th>MUNICIPIO_RES</th>\n",
       "      <th>TIPO_PACIENTE</th>\n",
       "      <th>...</th>\n",
       "      <th>RENAL_CRONICA</th>\n",
       "      <th>TABAQUISMO</th>\n",
       "      <th>OTRO_CASO</th>\n",
       "      <th>TOMA_MUESTRA</th>\n",
       "      <th>RESULTADO_LAB</th>\n",
       "      <th>CLASIFICACION_FINAL</th>\n",
       "      <th>MIGRANTE</th>\n",
       "      <th>PAIS_NACIONALIDAD</th>\n",
       "      <th>PAIS_ORIGEN</th>\n",
       "      <th>UCI</th>\n",
       "    </tr>\n",
       "  </thead>\n",
       "  <tbody>\n",
       "    <tr>\n",
       "      <th>0</th>\n",
       "      <td>2020-10-30</td>\n",
       "      <td>13adfc</td>\n",
       "      <td>1</td>\n",
       "      <td>4</td>\n",
       "      <td>30</td>\n",
       "      <td>1</td>\n",
       "      <td>15</td>\n",
       "      <td>30</td>\n",
       "      <td>131</td>\n",
       "      <td>2</td>\n",
       "      <td>...</td>\n",
       "      <td>2</td>\n",
       "      <td>2</td>\n",
       "      <td>99</td>\n",
       "      <td>1</td>\n",
       "      <td>1</td>\n",
       "      <td>3</td>\n",
       "      <td>99</td>\n",
       "      <td>México</td>\n",
       "      <td>97</td>\n",
       "      <td>2</td>\n",
       "    </tr>\n",
       "    <tr>\n",
       "      <th>1</th>\n",
       "      <td>2020-10-30</td>\n",
       "      <td>099892</td>\n",
       "      <td>1</td>\n",
       "      <td>4</td>\n",
       "      <td>8</td>\n",
       "      <td>2</td>\n",
       "      <td>8</td>\n",
       "      <td>8</td>\n",
       "      <td>37</td>\n",
       "      <td>2</td>\n",
       "      <td>...</td>\n",
       "      <td>2</td>\n",
       "      <td>2</td>\n",
       "      <td>99</td>\n",
       "      <td>1</td>\n",
       "      <td>1</td>\n",
       "      <td>3</td>\n",
       "      <td>99</td>\n",
       "      <td>México</td>\n",
       "      <td>97</td>\n",
       "      <td>2</td>\n",
       "    </tr>\n",
       "    <tr>\n",
       "      <th>2</th>\n",
       "      <td>2020-10-30</td>\n",
       "      <td>174e8d</td>\n",
       "      <td>1</td>\n",
       "      <td>12</td>\n",
       "      <td>9</td>\n",
       "      <td>2</td>\n",
       "      <td>9</td>\n",
       "      <td>9</td>\n",
       "      <td>13</td>\n",
       "      <td>1</td>\n",
       "      <td>...</td>\n",
       "      <td>2</td>\n",
       "      <td>2</td>\n",
       "      <td>2</td>\n",
       "      <td>1</td>\n",
       "      <td>1</td>\n",
       "      <td>3</td>\n",
       "      <td>99</td>\n",
       "      <td>México</td>\n",
       "      <td>97</td>\n",
       "      <td>97</td>\n",
       "    </tr>\n",
       "    <tr>\n",
       "      <th>3</th>\n",
       "      <td>2020-10-30</td>\n",
       "      <td>196fa6</td>\n",
       "      <td>1</td>\n",
       "      <td>12</td>\n",
       "      <td>9</td>\n",
       "      <td>2</td>\n",
       "      <td>9</td>\n",
       "      <td>9</td>\n",
       "      <td>12</td>\n",
       "      <td>1</td>\n",
       "      <td>...</td>\n",
       "      <td>2</td>\n",
       "      <td>2</td>\n",
       "      <td>1</td>\n",
       "      <td>1</td>\n",
       "      <td>1</td>\n",
       "      <td>3</td>\n",
       "      <td>99</td>\n",
       "      <td>México</td>\n",
       "      <td>97</td>\n",
       "      <td>97</td>\n",
       "    </tr>\n",
       "    <tr>\n",
       "      <th>4</th>\n",
       "      <td>2020-10-30</td>\n",
       "      <td>070708</td>\n",
       "      <td>2</td>\n",
       "      <td>12</td>\n",
       "      <td>9</td>\n",
       "      <td>2</td>\n",
       "      <td>9</td>\n",
       "      <td>9</td>\n",
       "      <td>16</td>\n",
       "      <td>1</td>\n",
       "      <td>...</td>\n",
       "      <td>2</td>\n",
       "      <td>2</td>\n",
       "      <td>1</td>\n",
       "      <td>1</td>\n",
       "      <td>1</td>\n",
       "      <td>3</td>\n",
       "      <td>99</td>\n",
       "      <td>México</td>\n",
       "      <td>97</td>\n",
       "      <td>97</td>\n",
       "    </tr>\n",
       "  </tbody>\n",
       "</table>\n",
       "<p>5 rows × 38 columns</p>\n",
       "</div>"
      ],
      "text/plain": [
       "  FECHA_ACTUALIZACION ID_REGISTRO  ORIGEN  SECTOR  ENTIDAD_UM  SEXO  \\\n",
       "0          2020-10-30      13adfc       1       4          30     1   \n",
       "1          2020-10-30      099892       1       4           8     2   \n",
       "2          2020-10-30      174e8d       1      12           9     2   \n",
       "3          2020-10-30      196fa6       1      12           9     2   \n",
       "4          2020-10-30      070708       2      12           9     2   \n",
       "\n",
       "   ENTIDAD_NAC  ENTIDAD_RES  MUNICIPIO_RES  TIPO_PACIENTE  ... RENAL_CRONICA  \\\n",
       "0           15           30            131              2  ...             2   \n",
       "1            8            8             37              2  ...             2   \n",
       "2            9            9             13              1  ...             2   \n",
       "3            9            9             12              1  ...             2   \n",
       "4            9            9             16              1  ...             2   \n",
       "\n",
       "  TABAQUISMO OTRO_CASO  TOMA_MUESTRA  RESULTADO_LAB  CLASIFICACION_FINAL  \\\n",
       "0          2        99             1              1                    3   \n",
       "1          2        99             1              1                    3   \n",
       "2          2         2             1              1                    3   \n",
       "3          2         1             1              1                    3   \n",
       "4          2         1             1              1                    3   \n",
       "\n",
       "   MIGRANTE  PAIS_NACIONALIDAD  PAIS_ORIGEN  UCI  \n",
       "0        99             México           97    2  \n",
       "1        99             México           97    2  \n",
       "2        99             México           97   97  \n",
       "3        99             México           97   97  \n",
       "4        99             México           97   97  \n",
       "\n",
       "[5 rows x 38 columns]"
      ]
     },
     "execution_count": 7,
     "metadata": {},
     "output_type": "execute_result"
    }
   ],
   "source": [
    "files = glob.glob(os.path.join(path,'*.csv'))\n",
    "db = pd.read_csv(files[0],engine='python')\n",
    "db.head()"
   ]
  },
  {
   "cell_type": "markdown",
   "metadata": {},
   "source": [
    "## Transforming the data\n",
    "\n",
    "The database are very large and it increases daily. However, the confirm cases are used for this analysis. In this database, the confirm cases also have other relations such as smoking, pneumonia, COPD, asthma, hyperthension, diabetes, among other complications.\n",
    "\n",
    "In this case, we are going to extract only the confirma cases by means of a laboratory analysis."
   ]
  },
  {
   "cell_type": "code",
   "execution_count": 8,
   "metadata": {},
   "outputs": [
    {
     "name": "stdout",
     "output_type": "stream",
     "text": [
      "891550\n"
     ]
    },
    {
     "data": {
      "text/html": [
       "<div>\n",
       "<style scoped>\n",
       "    .dataframe tbody tr th:only-of-type {\n",
       "        vertical-align: middle;\n",
       "    }\n",
       "\n",
       "    .dataframe tbody tr th {\n",
       "        vertical-align: top;\n",
       "    }\n",
       "\n",
       "    .dataframe thead th {\n",
       "        text-align: right;\n",
       "    }\n",
       "</style>\n",
       "<table border=\"1\" class=\"dataframe\">\n",
       "  <thead>\n",
       "    <tr style=\"text-align: right;\">\n",
       "      <th></th>\n",
       "      <th>FECHA_ACTUALIZACION</th>\n",
       "      <th>ID_REGISTRO</th>\n",
       "      <th>ORIGEN</th>\n",
       "      <th>SECTOR</th>\n",
       "      <th>ENTIDAD_UM</th>\n",
       "      <th>SEXO</th>\n",
       "      <th>ENTIDAD_NAC</th>\n",
       "      <th>ENTIDAD_RES</th>\n",
       "      <th>MUNICIPIO_RES</th>\n",
       "      <th>TIPO_PACIENTE</th>\n",
       "      <th>...</th>\n",
       "      <th>RENAL_CRONICA</th>\n",
       "      <th>TABAQUISMO</th>\n",
       "      <th>OTRO_CASO</th>\n",
       "      <th>TOMA_MUESTRA</th>\n",
       "      <th>RESULTADO_LAB</th>\n",
       "      <th>CLASIFICACION_FINAL</th>\n",
       "      <th>MIGRANTE</th>\n",
       "      <th>PAIS_NACIONALIDAD</th>\n",
       "      <th>PAIS_ORIGEN</th>\n",
       "      <th>UCI</th>\n",
       "    </tr>\n",
       "  </thead>\n",
       "  <tbody>\n",
       "    <tr>\n",
       "      <th>0</th>\n",
       "      <td>2020-10-30</td>\n",
       "      <td>13adfc</td>\n",
       "      <td>1</td>\n",
       "      <td>4</td>\n",
       "      <td>30</td>\n",
       "      <td>1</td>\n",
       "      <td>15</td>\n",
       "      <td>30</td>\n",
       "      <td>131</td>\n",
       "      <td>2</td>\n",
       "      <td>...</td>\n",
       "      <td>2</td>\n",
       "      <td>2</td>\n",
       "      <td>99</td>\n",
       "      <td>1</td>\n",
       "      <td>1</td>\n",
       "      <td>3</td>\n",
       "      <td>99</td>\n",
       "      <td>México</td>\n",
       "      <td>97</td>\n",
       "      <td>2</td>\n",
       "    </tr>\n",
       "    <tr>\n",
       "      <th>1</th>\n",
       "      <td>2020-10-30</td>\n",
       "      <td>099892</td>\n",
       "      <td>1</td>\n",
       "      <td>4</td>\n",
       "      <td>8</td>\n",
       "      <td>2</td>\n",
       "      <td>8</td>\n",
       "      <td>8</td>\n",
       "      <td>37</td>\n",
       "      <td>2</td>\n",
       "      <td>...</td>\n",
       "      <td>2</td>\n",
       "      <td>2</td>\n",
       "      <td>99</td>\n",
       "      <td>1</td>\n",
       "      <td>1</td>\n",
       "      <td>3</td>\n",
       "      <td>99</td>\n",
       "      <td>México</td>\n",
       "      <td>97</td>\n",
       "      <td>2</td>\n",
       "    </tr>\n",
       "    <tr>\n",
       "      <th>2</th>\n",
       "      <td>2020-10-30</td>\n",
       "      <td>174e8d</td>\n",
       "      <td>1</td>\n",
       "      <td>12</td>\n",
       "      <td>9</td>\n",
       "      <td>2</td>\n",
       "      <td>9</td>\n",
       "      <td>9</td>\n",
       "      <td>13</td>\n",
       "      <td>1</td>\n",
       "      <td>...</td>\n",
       "      <td>2</td>\n",
       "      <td>2</td>\n",
       "      <td>2</td>\n",
       "      <td>1</td>\n",
       "      <td>1</td>\n",
       "      <td>3</td>\n",
       "      <td>99</td>\n",
       "      <td>México</td>\n",
       "      <td>97</td>\n",
       "      <td>97</td>\n",
       "    </tr>\n",
       "    <tr>\n",
       "      <th>3</th>\n",
       "      <td>2020-10-30</td>\n",
       "      <td>196fa6</td>\n",
       "      <td>1</td>\n",
       "      <td>12</td>\n",
       "      <td>9</td>\n",
       "      <td>2</td>\n",
       "      <td>9</td>\n",
       "      <td>9</td>\n",
       "      <td>12</td>\n",
       "      <td>1</td>\n",
       "      <td>...</td>\n",
       "      <td>2</td>\n",
       "      <td>2</td>\n",
       "      <td>1</td>\n",
       "      <td>1</td>\n",
       "      <td>1</td>\n",
       "      <td>3</td>\n",
       "      <td>99</td>\n",
       "      <td>México</td>\n",
       "      <td>97</td>\n",
       "      <td>97</td>\n",
       "    </tr>\n",
       "    <tr>\n",
       "      <th>4</th>\n",
       "      <td>2020-10-30</td>\n",
       "      <td>070708</td>\n",
       "      <td>2</td>\n",
       "      <td>12</td>\n",
       "      <td>9</td>\n",
       "      <td>2</td>\n",
       "      <td>9</td>\n",
       "      <td>9</td>\n",
       "      <td>16</td>\n",
       "      <td>1</td>\n",
       "      <td>...</td>\n",
       "      <td>2</td>\n",
       "      <td>2</td>\n",
       "      <td>1</td>\n",
       "      <td>1</td>\n",
       "      <td>1</td>\n",
       "      <td>3</td>\n",
       "      <td>99</td>\n",
       "      <td>México</td>\n",
       "      <td>97</td>\n",
       "      <td>97</td>\n",
       "    </tr>\n",
       "  </tbody>\n",
       "</table>\n",
       "<p>5 rows × 38 columns</p>\n",
       "</div>"
      ],
      "text/plain": [
       "  FECHA_ACTUALIZACION ID_REGISTRO  ORIGEN  SECTOR  ENTIDAD_UM  SEXO  \\\n",
       "0          2020-10-30      13adfc       1       4          30     1   \n",
       "1          2020-10-30      099892       1       4           8     2   \n",
       "2          2020-10-30      174e8d       1      12           9     2   \n",
       "3          2020-10-30      196fa6       1      12           9     2   \n",
       "4          2020-10-30      070708       2      12           9     2   \n",
       "\n",
       "   ENTIDAD_NAC  ENTIDAD_RES  MUNICIPIO_RES  TIPO_PACIENTE  ... RENAL_CRONICA  \\\n",
       "0           15           30            131              2  ...             2   \n",
       "1            8            8             37              2  ...             2   \n",
       "2            9            9             13              1  ...             2   \n",
       "3            9            9             12              1  ...             2   \n",
       "4            9            9             16              1  ...             2   \n",
       "\n",
       "  TABAQUISMO OTRO_CASO  TOMA_MUESTRA  RESULTADO_LAB  CLASIFICACION_FINAL  \\\n",
       "0          2        99             1              1                    3   \n",
       "1          2        99             1              1                    3   \n",
       "2          2         2             1              1                    3   \n",
       "3          2         1             1              1                    3   \n",
       "4          2         1             1              1                    3   \n",
       "\n",
       "   MIGRANTE  PAIS_NACIONALIDAD  PAIS_ORIGEN  UCI  \n",
       "0        99             México           97    2  \n",
       "1        99             México           97    2  \n",
       "2        99             México           97   97  \n",
       "3        99             México           97   97  \n",
       "4        99             México           97   97  \n",
       "\n",
       "[5 rows x 38 columns]"
      ]
     },
     "execution_count": 8,
     "metadata": {},
     "output_type": "execute_result"
    }
   ],
   "source": [
    "# Get positive COVID 19 infected people\n",
    "data = db.loc[(db['RESULTADO_LAB']==1)]\n",
    "print(len(data))\n",
    "data.head()"
   ]
  },
  {
   "cell_type": "markdown",
   "metadata": {},
   "source": [
    "**Let us extract the catalogue information to integrate it in the database, this will help to easy understand the parameters**"
   ]
  },
  {
   "cell_type": "code",
   "execution_count": 9,
   "metadata": {},
   "outputs": [
    {
     "name": "stdout",
     "output_type": "stream",
     "text": [
      "../Databases\n",
      "../Databases/diccionario_datos_covid19/Catalogos_071020.xlsx\n"
     ]
    },
    {
     "data": {
      "text/plain": [
       "['Catálogo ORIGEN',\n",
       " 'Catálogo SECTOR',\n",
       " 'Catálogo SEXO',\n",
       " 'Catálogo TIPO_PACIENTE',\n",
       " 'Catálogo SI_NO',\n",
       " 'Catálogo NACIONALIDAD',\n",
       " 'Catálogo RESULTADO_LAB',\n",
       " 'Catálogo CLASIFICACION_FINAL',\n",
       " 'Catálogo de ENTIDADES',\n",
       " 'Catálogo MUNICIPIOS']"
      ]
     },
     "execution_count": 9,
     "metadata": {},
     "output_type": "execute_result"
    }
   ],
   "source": [
    "print(path)\n",
    "os.system('rm -r '+os.path.join(path,'*.zip'))\n",
    "files = glob.glob(os.path.join(path,'*/*'))\n",
    "for file in files:\n",
    "    if re.search('Catalogos',file) != None:\n",
    "        print(file)\n",
    "        break\n",
    "catalogues = pd.ExcelFile(file)\n",
    "catalogues.sheet_names"
   ]
  },
  {
   "cell_type": "markdown",
   "metadata": {},
   "source": [
    "**In this part, the catalogue is open and merge to the database**\n",
    "\n",
    "**ORIGIN Catalogue**\n",
    "\n",
    "It describes the origin description.\n",
    "\n",
    "|Code|Descriptio|\n",
    "|----|----------|\n",
    "| 1  | USMER    |\n",
    "| 2  | Out of USMER |\n",
    "| 99 | Not specify |\n",
    "\n",
    "Sentinel surveillance is carried out through the system of respiratory disease monitoring units (USMER). The USMER includes medical units of the first, second or third level of care, and third level units also participate as USMERs, which due to their characteristics contribute to expanding the epidemiological information panorama, including those with a specialty in pulmonology, infectology or pediatrics.\n"
   ]
  },
  {
   "cell_type": "code",
   "execution_count": 10,
   "metadata": {},
   "outputs": [
    {
     "data": {
      "text/plain": [
       "891550"
      ]
     },
     "execution_count": 10,
     "metadata": {},
     "output_type": "execute_result"
    }
   ],
   "source": [
    "origen = catalogues.parse('Catálogo ORIGEN')\n",
    "data = pd.merge(data,origen,left_on='ORIGEN',right_on='CLAVE')\n",
    "data = data.rename(columns={'DESCRIPCIÓN':'ORIGEN_DESC'})\n",
    "data = data.drop('CLAVE',axis=1)\n",
    "len(data)"
   ]
  },
  {
   "cell_type": "markdown",
   "metadata": {},
   "source": [
    "**SECTOR CATALOGUE**\n",
    "\n",
    "Identify the type of institution of the National Health System that provided the care.\n",
    "\n",
    "| Code | Description |\n",
    "|------|-------------|\n",
    "| 1\t| CRUZ ROJA|\n",
    "|2\t| DIF |\n",
    "|3\t| ESTATAL |\n",
    "|4\t| IMSS |\n",
    "|5\t| IMSS-BIENESTAR |\n",
    "|6\t| ISSSTE |\n",
    "|7\t| MUNICIPAL|\n",
    "|8\t| PEMEX|\n",
    "|9\t| PRIVADA|\n",
    "|10\t| SEDENA|\n",
    "|11\t| SEMAR|\n",
    "|12\t| SSA|\n",
    "|13\t| UNIVERSITARIO|\n",
    "|99\t| NO ESPECIFICADO |"
   ]
  },
  {
   "cell_type": "code",
   "execution_count": 11,
   "metadata": {},
   "outputs": [
    {
     "data": {
      "text/plain": [
       "891550"
      ]
     },
     "execution_count": 11,
     "metadata": {},
     "output_type": "execute_result"
    }
   ],
   "source": [
    "sector = catalogues.parse('Catálogo SECTOR')\n",
    "data = pd.merge(data,sector,left_on='SECTOR',right_on='CLAVE')\n",
    "data = data.rename(columns={'DESCRIPCIÓN':'SECTOR_DESC'})\n",
    "data = data.drop('CLAVE',axis=1)\n",
    "len(data)"
   ]
  },
  {
   "cell_type": "markdown",
   "metadata": {},
   "source": [
    "**GENDER**\n",
    "\n",
    "| CODE |\tDESCRIPTION|\n",
    "|-|-|\n",
    "|1|\tMUJER|\n",
    "|2|\tHOMBRE|\n",
    "|99|\tNO ESPECIFICADO|"
   ]
  },
  {
   "cell_type": "code",
   "execution_count": 12,
   "metadata": {},
   "outputs": [
    {
     "data": {
      "text/plain": [
       "891550"
      ]
     },
     "execution_count": 12,
     "metadata": {},
     "output_type": "execute_result"
    }
   ],
   "source": [
    "sexo = catalogues.parse('Catálogo SEXO')\n",
    "data = pd.merge(data,sexo,left_on='SEXO',right_on='CLAVE')\n",
    "data = data.rename(columns={'DESCRIPCIÓN':'SEXO_DESC'})\n",
    "data = data.drop('CLAVE',axis=1)\n",
    "len(data)"
   ]
  },
  {
   "cell_type": "markdown",
   "metadata": {},
   "source": [
    "**Type of Patient**\n",
    "\n",
    "Classify a patient by its status, if it is set to a hospital or it is not necesary to stay there.\n",
    "\n",
    "|CODE\t| DESCRIPTION|\n",
    "|-|-|\n",
    "|1|\tAMBULATORIO|\n",
    "|2|\tHOSPITALIZADO|\n",
    "|99|\tNO ESPECIFICADO|"
   ]
  },
  {
   "cell_type": "code",
   "execution_count": 13,
   "metadata": {},
   "outputs": [
    {
     "data": {
      "text/plain": [
       "891550"
      ]
     },
     "execution_count": 13,
     "metadata": {},
     "output_type": "execute_result"
    }
   ],
   "source": [
    "tipoPaciente = catalogues.parse('Catálogo TIPO_PACIENTE')\n",
    "data = pd.merge(data,tipoPaciente,left_on='TIPO_PACIENTE',right_on='CLAVE')\n",
    "data = data.rename(columns={'DESCRIPCIÓN':'TIPO_PACIENTE_DESC'})\n",
    "data = data.drop('CLAVE',axis=1)\n",
    "len(data)"
   ]
  },
  {
   "cell_type": "markdown",
   "metadata": {},
   "source": [
    "**Nationality**\n",
    "\n",
    "Classify the patient by its nationality\n",
    "\n",
    "|CODE|\tDESCRIPTION|\n",
    "|-|-|\n",
    "|1\t|MEXICANA|\n",
    "|2\t|EXTRANJERA|\n",
    "|99\t|NO ESPECIFICADO|"
   ]
  },
  {
   "cell_type": "code",
   "execution_count": 14,
   "metadata": {},
   "outputs": [
    {
     "data": {
      "text/plain": [
       "891550"
      ]
     },
     "execution_count": 14,
     "metadata": {},
     "output_type": "execute_result"
    }
   ],
   "source": [
    "nacionalidad = catalogues.parse('Catálogo NACIONALIDAD')\n",
    "data = pd.merge(data,nacionalidad,left_on='NACIONALIDAD',right_on='CLAVE')\n",
    "data = data.rename(columns={'DESCRIPCIÓN':'NACIONALIDAD_DESC'})\n",
    "data = data.drop('CLAVE',axis=1)\n",
    "len(data)"
   ]
  },
  {
   "cell_type": "markdown",
   "metadata": {},
   "source": [
    "**Medical Analysis**\n",
    "\n",
    "This is the most important classification, because it identifies the personn as infected or healthy.\n",
    "\n",
    "|CODE|\tDESCRIPTION|\n",
    "|-|-|\n",
    "|1|\tPOSITIVO A SARS-COV-2|\n",
    "|2|\tNO POSITIVO A SARS-COV-2|\n",
    "|3|\tRESULTADO PENDIENTE|\n",
    "|4|\tRESULTADO NO ADECUADO |\n",
    "|97|\tNO APLICA (CASO SIN MUESTRA)|"
   ]
  },
  {
   "cell_type": "code",
   "execution_count": 15,
   "metadata": {},
   "outputs": [
    {
     "data": {
      "text/plain": [
       "891550"
      ]
     },
     "execution_count": 15,
     "metadata": {},
     "output_type": "execute_result"
    }
   ],
   "source": [
    "resultadoLab = catalogues.parse('Catálogo RESULTADO_LAB',1)\n",
    "data = pd.merge(data,resultadoLab,left_on='RESULTADO_LAB',right_on='CLAVE')\n",
    "data = data.rename(columns={'DESCRIPCIÓN':'RESULTADO_LAB_DESC'})\n",
    "data = data.drop('CLAVE',axis=1)\n",
    "len(data)"
   ]
  },
  {
   "cell_type": "markdown",
   "metadata": {},
   "source": [
    "**Final Classification**\n",
    "\n",
    "It checks and compare the status with the medical appointment.\n",
    "\n",
    "|CODE|\tCLASIFICATION|\tDESCRIPTION|\n",
    "|-|-|-|\n",
    "|1|\tCASO DE COVID-19 CONFIRMADO POR ASOCIACIÓN CLÍNICA EPIDEMIOLÓGICA|\t\"Confirmado por asociación aplica cuando el caso informó ser contacto de un positivo a COVID-19 (y este se encuentra registrado en el SISVER) y: Al caso no se le tomo muestra o la muestra resultó no válida. \"|\n",
    "|2|\tCASO DE COVID-19 CONFIRMADO POR COMITÉ DE  DICTAMINACIÓN|\t\"Confirmado por dictaminación solo aplica para defunciones bajo las siguientes condiciones: Al caso no se le tomo muestra o sí se tomó muestra, pero la muestra resultó no válida. \"|\n",
    "|3|\tCASO DE SARS-COV-2  CONFIRMADO POR LABORATORIO|\t\"Confirmado por laboratorio aplica cuando: El caso tiene muestra y resultó positiva  a SARS-CoV-2, sin importar si el caso tienen asociación clínica epidemiológica.\"|\n",
    "|4\t|INVÁLIDO POR LABORATORIO|\tInválido aplica cuando el caso no tienen asociación clínico epidemiológica, ni dictaminación a COVID-19. Se le tomó muestra y esta resultó no válida. |\n",
    "|5\t|NO REALIZADO POR LABORATORIO\t|No realizado aplica cuando el caso no tienen asociación clínico epidemiológica, ni dictaminación a COVID-19 y se le tomó muestra y esta no se procesó.|\n",
    "|6\t|CASO SOSPECHOSO|\t\"Sospechoso aplica cuando: El caso no tienen asociación clínico epidemiológica, ni dictaminación a COVID-19 y no se le tomó muestra, o se le tomó muestra y está pendiente de resultado, sin importar otra condición.\"|\n",
    "|7\t|NEGATIVO A SARS-COV-2 POR LABORATORIO|\t\"Negativo aplica cuando el caso:Se le tomo muestra y esta resultó: negativa a SARS-COV-2 o positiva a cualquier otro virus respiratorio (Influenza, VSR, Bocavirus, otros) sin importar que este caso tenga asociación clínico epidemiológica o dictaminación a COVID-19.\"|"
   ]
  },
  {
   "cell_type": "code",
   "execution_count": 16,
   "metadata": {},
   "outputs": [
    {
     "data": {
      "text/plain": [
       "891550"
      ]
     },
     "execution_count": 16,
     "metadata": {},
     "output_type": "execute_result"
    }
   ],
   "source": [
    "classificacion_final = catalogues.parse('Catálogo CLASIFICACION_FINAL',2)\n",
    "data = pd.merge(data,classificacion_final,left_on='CLASIFICACION_FINAL',right_on='CLAVE')\n",
    "data = data.rename(columns={'DESCRIPCIÓN':'CLAS_DESC'})\n",
    "data = data.drop('CLAVE',axis=1)\n",
    "len(data)"
   ]
  },
  {
   "attachments": {
    "image.png": {
     "image/png": "[encoded data removed]"
    }
   },
   "cell_type": "markdown",
   "metadata": {},
   "source": [
    "**Entities Catalogue**\n",
    "\n",
    "All the states that present someone infected.\n",
    "\n",
    "![image.png](attachment:image.png)"
   ]
  },
  {
   "cell_type": "code",
   "execution_count": 17,
   "metadata": {},
   "outputs": [
    {
     "data": {
      "text/plain": [
       "891550"
      ]
     },
     "execution_count": 17,
     "metadata": {},
     "output_type": "execute_result"
    }
   ],
   "source": [
    "entidades = catalogues.parse('Catálogo de ENTIDADES')\n",
    "data = pd.merge(data,entidades,left_on='ENTIDAD_NAC',right_on='CLAVE_ENTIDAD')\n",
    "data = data.rename(columns={'ENTIDAD_FEDERATIVA':'ENTIDAD_FEDERATIVA_NAC','ABREVIATURA':'ABREVIATURA_NAC'})\n",
    "data = data.drop('CLAVE_ENTIDAD',axis=1)\n",
    "len(data)"
   ]
  },
  {
   "cell_type": "code",
   "execution_count": 18,
   "metadata": {},
   "outputs": [
    {
     "data": {
      "text/plain": [
       "891550"
      ]
     },
     "execution_count": 18,
     "metadata": {},
     "output_type": "execute_result"
    }
   ],
   "source": [
    "entidades = catalogues.parse('Catálogo de ENTIDADES')\n",
    "data = pd.merge(data,entidades,left_on='ENTIDAD_RES',right_on='CLAVE_ENTIDAD')\n",
    "data = data.rename(columns={'ENTIDAD_FEDERATIVA':'ENTIDAD_FEDERATIVA_RES','ABREVIATURA':'ABREVIATURA_RES'})\n",
    "data = data.drop('CLAVE_ENTIDAD',axis=1)\n",
    "len(data)"
   ]
  },
  {
   "cell_type": "code",
   "execution_count": 19,
   "metadata": {},
   "outputs": [
    {
     "data": {
      "text/plain": [
       "891550"
      ]
     },
     "execution_count": 19,
     "metadata": {},
     "output_type": "execute_result"
    }
   ],
   "source": [
    "entidades = catalogues.parse('Catálogo de ENTIDADES')\n",
    "data = pd.merge(data,entidades,left_on='ENTIDAD_UM',right_on='CLAVE_ENTIDAD')\n",
    "data = data.rename(columns={'ENTIDAD_FEDERATIVA':'ENTIDAD_FEDERATIVA_UM','ABREVIATURA':'ABREVIATURA_UM'})\n",
    "data = data.drop('CLAVE_ENTIDAD',axis=1)\n",
    "len(data)"
   ]
  },
  {
   "attachments": {
    "image.png": {
     "image/png": "[encoded data removed]"
    }
   },
   "cell_type": "markdown",
   "metadata": {},
   "source": [
    "**Yes or no catalogue**\n",
    "\n",
    "Depending on the column it shows a result.\n",
    "\n",
    "![image.png](attachment:image.png)"
   ]
  },
  {
   "cell_type": "code",
   "execution_count": 20,
   "metadata": {},
   "outputs": [
    {
     "data": {
      "text/plain": [
       "891550"
      ]
     },
     "execution_count": 20,
     "metadata": {},
     "output_type": "execute_result"
    }
   ],
   "source": [
    "si_no = catalogues.parse('Catálogo SI_NO')\n",
    "data = pd.merge(data,si_no,left_on='INTUBADO',right_on='CLAVE')\n",
    "data = data.rename(columns={'DESCRIPCIÓN':'INTUBADO_DESC'})\n",
    "data = data.drop(['CLAVE'],axis=1)\n",
    "len(data)"
   ]
  },
  {
   "cell_type": "code",
   "execution_count": 21,
   "metadata": {},
   "outputs": [
    {
     "data": {
      "text/plain": [
       "891550"
      ]
     },
     "execution_count": 21,
     "metadata": {},
     "output_type": "execute_result"
    }
   ],
   "source": [
    "si_no = catalogues.parse('Catálogo SI_NO')\n",
    "data = pd.merge(data,si_no,left_on='NEUMONIA',right_on='CLAVE')\n",
    "data = data.rename(columns={'DESCRIPCIÓN':'NEUMONIA_DESC'})\n",
    "data = data.drop(['CLAVE'],axis=1)\n",
    "len(data)"
   ]
  },
  {
   "cell_type": "code",
   "execution_count": 22,
   "metadata": {},
   "outputs": [
    {
     "data": {
      "text/plain": [
       "891550"
      ]
     },
     "execution_count": 22,
     "metadata": {},
     "output_type": "execute_result"
    }
   ],
   "source": [
    "si_no = catalogues.parse('Catálogo SI_NO')\n",
    "data = pd.merge(data,si_no,left_on='HABLA_LENGUA_INDIG',right_on='CLAVE')\n",
    "data = data.rename(columns={'DESCRIPCIÓN':'HABLA_LENGUA_INDIG_DESC'})\n",
    "data = data.drop(['CLAVE'],axis=1)\n",
    "len(data)"
   ]
  },
  {
   "cell_type": "code",
   "execution_count": 23,
   "metadata": {},
   "outputs": [
    {
     "data": {
      "text/plain": [
       "891550"
      ]
     },
     "execution_count": 23,
     "metadata": {},
     "output_type": "execute_result"
    }
   ],
   "source": [
    "si_no = catalogues.parse('Catálogo SI_NO')\n",
    "data = pd.merge(data,si_no,left_on='INDIGENA',right_on='CLAVE')\n",
    "data = data.rename(columns={'DESCRIPCIÓN':'INDIGENA_DESC'})\n",
    "data = data.drop(['CLAVE'],axis=1)\n",
    "len(data)"
   ]
  },
  {
   "cell_type": "code",
   "execution_count": 24,
   "metadata": {},
   "outputs": [
    {
     "data": {
      "text/plain": [
       "891550"
      ]
     },
     "execution_count": 24,
     "metadata": {},
     "output_type": "execute_result"
    }
   ],
   "source": [
    "si_no = catalogues.parse('Catálogo SI_NO')\n",
    "data = pd.merge(data,si_no,left_on='DIABETES',right_on='CLAVE')\n",
    "data = data.rename(columns={'DESCRIPCIÓN':'DIABETES_DESC'})\n",
    "data = data.drop(['CLAVE'],axis=1)\n",
    "len(data)"
   ]
  },
  {
   "cell_type": "code",
   "execution_count": 25,
   "metadata": {},
   "outputs": [
    {
     "data": {
      "text/plain": [
       "891550"
      ]
     },
     "execution_count": 25,
     "metadata": {},
     "output_type": "execute_result"
    }
   ],
   "source": [
    "si_no = catalogues.parse('Catálogo SI_NO')\n",
    "data = pd.merge(data,si_no,left_on='EPOC',right_on='CLAVE')\n",
    "data = data.rename(columns={'DESCRIPCIÓN':'EPOC_DESC'})\n",
    "data = data.drop(['CLAVE'],axis=1)\n",
    "len(data)"
   ]
  },
  {
   "cell_type": "code",
   "execution_count": 26,
   "metadata": {},
   "outputs": [
    {
     "data": {
      "text/plain": [
       "891550"
      ]
     },
     "execution_count": 26,
     "metadata": {},
     "output_type": "execute_result"
    }
   ],
   "source": [
    "si_no = catalogues.parse('Catálogo SI_NO')\n",
    "data = pd.merge(data,si_no,left_on='ASMA',right_on='CLAVE')\n",
    "data = data.rename(columns={'DESCRIPCIÓN':'ASMA_DESC'})\n",
    "data = data.drop(['CLAVE'],axis=1)\n",
    "len(data)"
   ]
  },
  {
   "cell_type": "code",
   "execution_count": 27,
   "metadata": {},
   "outputs": [
    {
     "data": {
      "text/plain": [
       "891550"
      ]
     },
     "execution_count": 27,
     "metadata": {},
     "output_type": "execute_result"
    }
   ],
   "source": [
    "si_no = catalogues.parse('Catálogo SI_NO')\n",
    "data = pd.merge(data,si_no,left_on='INMUSUPR',right_on='CLAVE')\n",
    "data = data.rename(columns={'DESCRIPCIÓN':'INMUSUPR_DESC'})\n",
    "data = data.drop(['CLAVE'],axis=1)\n",
    "len(data)"
   ]
  },
  {
   "cell_type": "code",
   "execution_count": 28,
   "metadata": {},
   "outputs": [
    {
     "data": {
      "text/plain": [
       "891550"
      ]
     },
     "execution_count": 28,
     "metadata": {},
     "output_type": "execute_result"
    }
   ],
   "source": [
    "si_no = catalogues.parse('Catálogo SI_NO')\n",
    "data = pd.merge(data,si_no,left_on='OTRA_COM',right_on='CLAVE')\n",
    "data = data.rename(columns={'DESCRIPCIÓN':'OTRA_COM_DESC'})\n",
    "data = data.drop(['CLAVE'],axis=1)\n",
    "len(data)"
   ]
  },
  {
   "cell_type": "code",
   "execution_count": 29,
   "metadata": {},
   "outputs": [
    {
     "data": {
      "text/plain": [
       "891550"
      ]
     },
     "execution_count": 29,
     "metadata": {},
     "output_type": "execute_result"
    }
   ],
   "source": [
    "si_no = catalogues.parse('Catálogo SI_NO')\n",
    "data = pd.merge(data,si_no,left_on='CARDIOVASCULAR',right_on='CLAVE')\n",
    "data = data.rename(columns={'DESCRIPCIÓN':'CARDIOVASCULAR_DESC'})\n",
    "data = data.drop(['CLAVE'],axis=1)\n",
    "len(data)"
   ]
  },
  {
   "cell_type": "code",
   "execution_count": 30,
   "metadata": {},
   "outputs": [
    {
     "data": {
      "text/plain": [
       "891550"
      ]
     },
     "execution_count": 30,
     "metadata": {},
     "output_type": "execute_result"
    }
   ],
   "source": [
    "si_no = catalogues.parse('Catálogo SI_NO')\n",
    "data = pd.merge(data,si_no,left_on='OBESIDAD',right_on='CLAVE')\n",
    "data = data.rename(columns={'DESCRIPCIÓN':'OBESIDAD_DESC'})\n",
    "data = data.drop(['CLAVE'],axis=1)\n",
    "len(data)"
   ]
  },
  {
   "cell_type": "code",
   "execution_count": 31,
   "metadata": {},
   "outputs": [
    {
     "data": {
      "text/plain": [
       "891550"
      ]
     },
     "execution_count": 31,
     "metadata": {},
     "output_type": "execute_result"
    }
   ],
   "source": [
    "si_no = catalogues.parse('Catálogo SI_NO')\n",
    "data = pd.merge(data,si_no,left_on='RENAL_CRONICA',right_on='CLAVE')\n",
    "data = data.rename(columns={'DESCRIPCIÓN':'RENAL_CRONICA_DESC'})\n",
    "data = data.drop(['CLAVE'],axis=1)\n",
    "len(data)"
   ]
  },
  {
   "cell_type": "code",
   "execution_count": 32,
   "metadata": {},
   "outputs": [
    {
     "data": {
      "text/plain": [
       "891550"
      ]
     },
     "execution_count": 32,
     "metadata": {},
     "output_type": "execute_result"
    }
   ],
   "source": [
    "si_no = catalogues.parse('Catálogo SI_NO')\n",
    "data = pd.merge(data,si_no,left_on='TABAQUISMO',right_on='CLAVE')\n",
    "data = data.rename(columns={'DESCRIPCIÓN':'TABAQUISMO_DESC'})\n",
    "data = data.drop(['CLAVE'],axis=1)\n",
    "len(data)"
   ]
  },
  {
   "cell_type": "code",
   "execution_count": 33,
   "metadata": {},
   "outputs": [
    {
     "data": {
      "text/plain": [
       "891550"
      ]
     },
     "execution_count": 33,
     "metadata": {},
     "output_type": "execute_result"
    }
   ],
   "source": [
    "si_no = catalogues.parse('Catálogo SI_NO')\n",
    "data = pd.merge(data,si_no,left_on='OTRO_CASO',right_on='CLAVE')\n",
    "data = data.rename(columns={'DESCRIPCIÓN':'OTRO_CASO_DESC'})\n",
    "data = data.drop(['CLAVE'],axis=1)\n",
    "len(data)"
   ]
  },
  {
   "cell_type": "code",
   "execution_count": 34,
   "metadata": {},
   "outputs": [
    {
     "data": {
      "text/plain": [
       "891550"
      ]
     },
     "execution_count": 34,
     "metadata": {},
     "output_type": "execute_result"
    }
   ],
   "source": [
    "si_no = catalogues.parse('Catálogo SI_NO')\n",
    "data = pd.merge(data,si_no,left_on='TOMA_MUESTRA',right_on='CLAVE')\n",
    "data = data.rename(columns={'DESCRIPCIÓN':'TOMA_MUESTRA_DESC'})\n",
    "data = data.drop(['CLAVE'],axis=1)\n",
    "len(data)"
   ]
  },
  {
   "cell_type": "code",
   "execution_count": 35,
   "metadata": {},
   "outputs": [
    {
     "data": {
      "text/plain": [
       "891550"
      ]
     },
     "execution_count": 35,
     "metadata": {},
     "output_type": "execute_result"
    }
   ],
   "source": [
    "si_no = catalogues.parse('Catálogo SI_NO')\n",
    "data = pd.merge(data,si_no,left_on='MIGRANTE',right_on='CLAVE')\n",
    "data = data.rename(columns={'DESCRIPCIÓN':'MIGRANTE_DESC'})\n",
    "data = data.drop(['CLAVE'],axis=1)\n",
    "len(data)"
   ]
  },
  {
   "cell_type": "code",
   "execution_count": 36,
   "metadata": {},
   "outputs": [
    {
     "data": {
      "text/plain": [
       "891550"
      ]
     },
     "execution_count": 36,
     "metadata": {},
     "output_type": "execute_result"
    }
   ],
   "source": [
    "si_no = catalogues.parse('Catálogo SI_NO')\n",
    "data = pd.merge(data,si_no,left_on='UCI',right_on='CLAVE')\n",
    "data = data.rename(columns={'DESCRIPCIÓN':'UCI_DESC'})\n",
    "data = data.drop(['CLAVE'],axis=1)\n",
    "len(data)"
   ]
  },
  {
   "cell_type": "code",
   "execution_count": 37,
   "metadata": {},
   "outputs": [
    {
     "data": {
      "text/plain": [
       "891550"
      ]
     },
     "execution_count": 37,
     "metadata": {},
     "output_type": "execute_result"
    }
   ],
   "source": [
    "si_no = catalogues.parse('Catálogo SI_NO')\n",
    "data = pd.merge(data,si_no,left_on='HIPERTENSION',right_on='CLAVE')\n",
    "data = data.rename(columns={'DESCRIPCIÓN':'HIPERTENSION_DESC'})\n",
    "data = data.drop(['CLAVE'],axis=1)\n",
    "len(data)"
   ]
  },
  {
   "cell_type": "code",
   "execution_count": 38,
   "metadata": {},
   "outputs": [
    {
     "data": {
      "text/plain": [
       "891545"
      ]
     },
     "execution_count": 38,
     "metadata": {},
     "output_type": "execute_result"
    }
   ],
   "source": [
    "municipios = catalogues.parse('Catálogo MUNICIPIOS')\n",
    "data = pd.merge(data,municipios,left_on=['MUNICIPIO_RES','ENTIDAD_RES'],right_on=['CLAVE_MUNICIPIO','CLAVE_ENTIDAD'])\n",
    "data = data.drop(['CLAVE_ENTIDAD','CLAVE_MUNICIPIO'],axis=1)\n",
    "data = data.rename(columns={'MUNICIPIO':'MUNICIPIO_RES_DESC'})\n",
    "len(data)"
   ]
  },
  {
   "cell_type": "markdown",
   "metadata": {},
   "source": [
    "**Display the table with all the description for the columns**"
   ]
  },
  {
   "cell_type": "code",
   "execution_count": 39,
   "metadata": {},
   "outputs": [
    {
     "data": {
      "text/html": [
       "<div>\n",
       "<style scoped>\n",
       "    .dataframe tbody tr th:only-of-type {\n",
       "        vertical-align: middle;\n",
       "    }\n",
       "\n",
       "    .dataframe tbody tr th {\n",
       "        vertical-align: top;\n",
       "    }\n",
       "\n",
       "    .dataframe thead th {\n",
       "        text-align: right;\n",
       "    }\n",
       "</style>\n",
       "<table border=\"1\" class=\"dataframe\">\n",
       "  <thead>\n",
       "    <tr style=\"text-align: right;\">\n",
       "      <th></th>\n",
       "      <th>FECHA_ACTUALIZACION</th>\n",
       "      <th>ID_REGISTRO</th>\n",
       "      <th>ORIGEN</th>\n",
       "      <th>SECTOR</th>\n",
       "      <th>ENTIDAD_UM</th>\n",
       "      <th>SEXO</th>\n",
       "      <th>ENTIDAD_NAC</th>\n",
       "      <th>ENTIDAD_RES</th>\n",
       "      <th>MUNICIPIO_RES</th>\n",
       "      <th>TIPO_PACIENTE</th>\n",
       "      <th>...</th>\n",
       "      <th>CARDIOVASCULAR_DESC</th>\n",
       "      <th>OBESIDAD_DESC</th>\n",
       "      <th>RENAL_CRONICA_DESC</th>\n",
       "      <th>TABAQUISMO_DESC</th>\n",
       "      <th>OTRO_CASO_DESC</th>\n",
       "      <th>TOMA_MUESTRA_DESC</th>\n",
       "      <th>MIGRANTE_DESC</th>\n",
       "      <th>UCI_DESC</th>\n",
       "      <th>HIPERTENSION_DESC</th>\n",
       "      <th>MUNICIPIO_RES_DESC</th>\n",
       "    </tr>\n",
       "  </thead>\n",
       "  <tbody>\n",
       "    <tr>\n",
       "      <th>0</th>\n",
       "      <td>2020-10-30</td>\n",
       "      <td>13adfc</td>\n",
       "      <td>1</td>\n",
       "      <td>4</td>\n",
       "      <td>30</td>\n",
       "      <td>1</td>\n",
       "      <td>15</td>\n",
       "      <td>30</td>\n",
       "      <td>131</td>\n",
       "      <td>2</td>\n",
       "      <td>...</td>\n",
       "      <td>NO</td>\n",
       "      <td>NO</td>\n",
       "      <td>NO</td>\n",
       "      <td>NO</td>\n",
       "      <td>NO ESPECIFICADO</td>\n",
       "      <td>SI</td>\n",
       "      <td>NO ESPECIFICADO</td>\n",
       "      <td>NO</td>\n",
       "      <td>SI</td>\n",
       "      <td>POZA RICA DE HIDALGO</td>\n",
       "    </tr>\n",
       "    <tr>\n",
       "      <th>1</th>\n",
       "      <td>2020-10-30</td>\n",
       "      <td>13af30</td>\n",
       "      <td>1</td>\n",
       "      <td>4</td>\n",
       "      <td>30</td>\n",
       "      <td>1</td>\n",
       "      <td>30</td>\n",
       "      <td>30</td>\n",
       "      <td>131</td>\n",
       "      <td>2</td>\n",
       "      <td>...</td>\n",
       "      <td>NO</td>\n",
       "      <td>NO</td>\n",
       "      <td>NO</td>\n",
       "      <td>NO</td>\n",
       "      <td>NO ESPECIFICADO</td>\n",
       "      <td>SI</td>\n",
       "      <td>NO ESPECIFICADO</td>\n",
       "      <td>NO</td>\n",
       "      <td>SI</td>\n",
       "      <td>POZA RICA DE HIDALGO</td>\n",
       "    </tr>\n",
       "    <tr>\n",
       "      <th>2</th>\n",
       "      <td>2020-10-30</td>\n",
       "      <td>0b8c21</td>\n",
       "      <td>1</td>\n",
       "      <td>4</td>\n",
       "      <td>30</td>\n",
       "      <td>2</td>\n",
       "      <td>30</td>\n",
       "      <td>30</td>\n",
       "      <td>131</td>\n",
       "      <td>2</td>\n",
       "      <td>...</td>\n",
       "      <td>NO</td>\n",
       "      <td>NO</td>\n",
       "      <td>NO</td>\n",
       "      <td>NO</td>\n",
       "      <td>NO ESPECIFICADO</td>\n",
       "      <td>SI</td>\n",
       "      <td>NO ESPECIFICADO</td>\n",
       "      <td>NO</td>\n",
       "      <td>SI</td>\n",
       "      <td>POZA RICA DE HIDALGO</td>\n",
       "    </tr>\n",
       "    <tr>\n",
       "      <th>3</th>\n",
       "      <td>2020-10-30</td>\n",
       "      <td>09313b</td>\n",
       "      <td>2</td>\n",
       "      <td>4</td>\n",
       "      <td>30</td>\n",
       "      <td>1</td>\n",
       "      <td>30</td>\n",
       "      <td>30</td>\n",
       "      <td>131</td>\n",
       "      <td>2</td>\n",
       "      <td>...</td>\n",
       "      <td>NO</td>\n",
       "      <td>NO</td>\n",
       "      <td>NO</td>\n",
       "      <td>NO</td>\n",
       "      <td>NO ESPECIFICADO</td>\n",
       "      <td>SI</td>\n",
       "      <td>NO ESPECIFICADO</td>\n",
       "      <td>NO</td>\n",
       "      <td>SI</td>\n",
       "      <td>POZA RICA DE HIDALGO</td>\n",
       "    </tr>\n",
       "    <tr>\n",
       "      <th>4</th>\n",
       "      <td>2020-10-30</td>\n",
       "      <td>0d9b51</td>\n",
       "      <td>1</td>\n",
       "      <td>4</td>\n",
       "      <td>30</td>\n",
       "      <td>1</td>\n",
       "      <td>30</td>\n",
       "      <td>30</td>\n",
       "      <td>131</td>\n",
       "      <td>2</td>\n",
       "      <td>...</td>\n",
       "      <td>NO</td>\n",
       "      <td>NO</td>\n",
       "      <td>NO</td>\n",
       "      <td>NO</td>\n",
       "      <td>NO ESPECIFICADO</td>\n",
       "      <td>SI</td>\n",
       "      <td>NO ESPECIFICADO</td>\n",
       "      <td>NO</td>\n",
       "      <td>SI</td>\n",
       "      <td>POZA RICA DE HIDALGO</td>\n",
       "    </tr>\n",
       "  </tbody>\n",
       "</table>\n",
       "<p>5 rows × 71 columns</p>\n",
       "</div>"
      ],
      "text/plain": [
       "  FECHA_ACTUALIZACION ID_REGISTRO  ORIGEN  SECTOR  ENTIDAD_UM  SEXO  \\\n",
       "0          2020-10-30      13adfc       1       4          30     1   \n",
       "1          2020-10-30      13af30       1       4          30     1   \n",
       "2          2020-10-30      0b8c21       1       4          30     2   \n",
       "3          2020-10-30      09313b       2       4          30     1   \n",
       "4          2020-10-30      0d9b51       1       4          30     1   \n",
       "\n",
       "   ENTIDAD_NAC  ENTIDAD_RES  MUNICIPIO_RES  TIPO_PACIENTE  ...  \\\n",
       "0           15           30            131              2  ...   \n",
       "1           30           30            131              2  ...   \n",
       "2           30           30            131              2  ...   \n",
       "3           30           30            131              2  ...   \n",
       "4           30           30            131              2  ...   \n",
       "\n",
       "  CARDIOVASCULAR_DESC OBESIDAD_DESC RENAL_CRONICA_DESC  TABAQUISMO_DESC  \\\n",
       "0                 NO            NO                 NO               NO    \n",
       "1                 NO            NO                 NO               NO    \n",
       "2                 NO            NO                 NO               NO    \n",
       "3                 NO            NO                 NO               NO    \n",
       "4                 NO            NO                 NO               NO    \n",
       "\n",
       "    OTRO_CASO_DESC  TOMA_MUESTRA_DESC    MIGRANTE_DESC  UCI_DESC  \\\n",
       "0  NO ESPECIFICADO                SI   NO ESPECIFICADO       NO    \n",
       "1  NO ESPECIFICADO                SI   NO ESPECIFICADO       NO    \n",
       "2  NO ESPECIFICADO                SI   NO ESPECIFICADO       NO    \n",
       "3  NO ESPECIFICADO                SI   NO ESPECIFICADO       NO    \n",
       "4  NO ESPECIFICADO                SI   NO ESPECIFICADO       NO    \n",
       "\n",
       "   HIPERTENSION_DESC    MUNICIPIO_RES_DESC  \n",
       "0                SI   POZA RICA DE HIDALGO  \n",
       "1                SI   POZA RICA DE HIDALGO  \n",
       "2                SI   POZA RICA DE HIDALGO  \n",
       "3                SI   POZA RICA DE HIDALGO  \n",
       "4                SI   POZA RICA DE HIDALGO  \n",
       "\n",
       "[5 rows x 71 columns]"
      ]
     },
     "execution_count": 39,
     "metadata": {},
     "output_type": "execute_result"
    }
   ],
   "source": [
    "data.head()"
   ]
  },
  {
   "cell_type": "markdown",
   "metadata": {},
   "source": [
    "**Change the date 9999-99-99 to Alive**"
   ]
  },
  {
   "cell_type": "code",
   "execution_count": 40,
   "metadata": {},
   "outputs": [],
   "source": [
    "import datetime\n",
    "\n",
    "data['FECHA_INGRESO'] = pd.to_datetime(data['FECHA_INGRESO'])\n",
    "data.loc[(data['FECHA_DEF'].isin(['9999-99-99'])),'Status'] = 'Alive'\n",
    "data.loc[(~data['FECHA_DEF'].isin(['9999-99-99'])),'Status'] = 'Dead'\n",
    "\n",
    "today = datetime.datetime.now()\n",
    "delta_time = datetime.timedelta(days = 15)\n",
    "newDate = today - delta_time\n",
    "data.loc[(data['FECHA_DEF'].isin(['9999-99-99'])) & (data['FECHA_INGRESO']>pd.to_datetime(newDate.date())) & (data['TIPO_PACIENTE_DESC'].isin(['AMBULATORIO'])),'Status']='Active'\n",
    "\n",
    "today = datetime.datetime.now()\n",
    "delta_time = datetime.timedelta(days = 25)\n",
    "newDate = today - delta_time\n",
    "data.loc[(data['FECHA_DEF'].isin(['9999-99-99'])) & (data['FECHA_INGRESO']>pd.to_datetime(newDate.date())) & (data['TIPO_PACIENTE_DESC'].isin(['HOSPITALIZADO'])),'Status']='Active'"
   ]
  },
  {
   "cell_type": "markdown",
   "metadata": {},
   "source": [
    "**Change the column to datetime format**"
   ]
  },
  {
   "cell_type": "code",
   "execution_count": 41,
   "metadata": {},
   "outputs": [],
   "source": [
    "data['FECHA_INGRESO'] = pd.to_datetime(data['FECHA_INGRESO'])\n",
    "data['FECHA_SINTOMAS'] = pd.to_datetime(data['FECHA_SINTOMAS'])"
   ]
  },
  {
   "cell_type": "markdown",
   "metadata": {},
   "source": [
    "**Extract the month from the datetime analysis**"
   ]
  },
  {
   "cell_type": "code",
   "execution_count": 42,
   "metadata": {},
   "outputs": [],
   "source": [
    "data['MES_ING'] = data['FECHA_INGRESO'].dt.month\n",
    "data['MES_SINTOMAS'] = data['FECHA_SINTOMAS'].dt.month\n",
    "data['MES_DEF'] = data['FECHA_DEF'].str.split('-',expand=True)[1].astype(int)"
   ]
  },
  {
   "cell_type": "markdown",
   "metadata": {},
   "source": [
    "**Saving the result into a csv file**"
   ]
  },
  {
   "cell_type": "code",
   "execution_count": 43,
   "metadata": {},
   "outputs": [],
   "source": [
    "data.loc[(data['EDAD']<5),'EDAD_CLASS'] = 'Baby'\n",
    "data.loc[(data['EDAD'].between(5,8)),'EDAD_CLASS'] = 'Child'\n",
    "data.loc[(data['EDAD'].between(9,17)),'EDAD_CLASS'] = 'Teenage'\n",
    "data.loc[(data['EDAD'].between(18,30)),'EDAD_CLASS'] = 'Young Adult'\n",
    "data.loc[(data['EDAD'].between(31,60)),'EDAD_CLASS'] = 'Adult'\n",
    "data.loc[(data['EDAD']>60),'EDAD_CLASS'] = 'Senior Adult'"
   ]
  },
  {
   "cell_type": "code",
   "execution_count": 44,
   "metadata": {},
   "outputs": [],
   "source": [
    "path = '../Files'\n",
    "os.system('rm -r ../Databases/*')\n",
    "data.to_csv(os.path.join(path,'mex_covid_daily.csv'),index=False,encoding='utf-8')\n",
    "#data.to_excel(os.path.join(path,'mex_covid_daily.xlsx'),'DB',index=False)"
   ]
  },
  {
   "cell_type": "code",
   "execution_count": 45,
   "metadata": {},
   "outputs": [
    {
     "data": {
      "text/plain": [
       "0"
      ]
     },
     "execution_count": 45,
     "metadata": {},
     "output_type": "execute_result"
    }
   ],
   "source": [
    "os.system('zip ../Files/db.zip ../Files/mex_covid_daily.csv')\n",
    "os.system('rm -r ../Files/*.csv')"
   ]
  },
  {
   "cell_type": "markdown",
   "metadata": {},
   "source": [
    "**End of File**"
   ]
  },
  {
   "cell_type": "code",
   "execution_count": 46,
   "metadata": {},
   "outputs": [
    {
     "data": {
      "text/plain": [
       "891545"
      ]
     },
     "execution_count": 46,
     "metadata": {},
     "output_type": "execute_result"
    }
   ],
   "source": [
    "len(data)"
   ]
  },
  {
   "cell_type": "code",
   "execution_count": 47,
   "metadata": {},
   "outputs": [
    {
     "data": {
      "text/html": [
       "<div>\n",
       "<style scoped>\n",
       "    .dataframe tbody tr th:only-of-type {\n",
       "        vertical-align: middle;\n",
       "    }\n",
       "\n",
       "    .dataframe tbody tr th {\n",
       "        vertical-align: top;\n",
       "    }\n",
       "\n",
       "    .dataframe thead th {\n",
       "        text-align: right;\n",
       "    }\n",
       "</style>\n",
       "<table border=\"1\" class=\"dataframe\">\n",
       "  <thead>\n",
       "    <tr style=\"text-align: right;\">\n",
       "      <th></th>\n",
       "      <th>Status</th>\n",
       "      <th>ID_REGISTRO</th>\n",
       "    </tr>\n",
       "  </thead>\n",
       "  <tbody>\n",
       "    <tr>\n",
       "      <th>0</th>\n",
       "      <td>Active</td>\n",
       "      <td>51313</td>\n",
       "    </tr>\n",
       "    <tr>\n",
       "      <th>1</th>\n",
       "      <td>Alive</td>\n",
       "      <td>751820</td>\n",
       "    </tr>\n",
       "    <tr>\n",
       "      <th>2</th>\n",
       "      <td>Dead</td>\n",
       "      <td>88412</td>\n",
       "    </tr>\n",
       "  </tbody>\n",
       "</table>\n",
       "</div>"
      ],
      "text/plain": [
       "   Status  ID_REGISTRO\n",
       "0  Active        51313\n",
       "1   Alive       751820\n",
       "2    Dead        88412"
      ]
     },
     "execution_count": 47,
     "metadata": {},
     "output_type": "execute_result"
    }
   ],
   "source": [
    "data.groupby(['Status'],as_index=False)['ID_REGISTRO'].count()"
   ]
  },
  {
   "cell_type": "code",
   "execution_count": 48,
   "metadata": {},
   "outputs": [
    {
     "name": "stdout",
     "output_type": "stream",
     "text": [
      "Total confirmed people: 891,545\n"
     ]
    }
   ],
   "source": [
    "alive = data.loc[(data['Status'].isin(['Alive'])),'ID_REGISTRO'].count()\n",
    "dead = data.loc[(data['Status'].isin(['Dead'])),'ID_REGISTRO'].count()\n",
    "active = data.loc[(data['Status'].isin(['Active'])),'ID_REGISTRO'].count()\n",
    "print('Total confirmed people: {0:,.0f}'.format(alive+dead+active))"
   ]
  },
  {
   "cell_type": "code",
   "execution_count": 49,
   "metadata": {},
   "outputs": [
    {
     "data": {
      "text/html": [
       "<div>\n",
       "<style scoped>\n",
       "    .dataframe tbody tr th:only-of-type {\n",
       "        vertical-align: middle;\n",
       "    }\n",
       "\n",
       "    .dataframe tbody tr th {\n",
       "        vertical-align: top;\n",
       "    }\n",
       "\n",
       "    .dataframe thead th {\n",
       "        text-align: right;\n",
       "    }\n",
       "</style>\n",
       "<table border=\"1\" class=\"dataframe\">\n",
       "  <thead>\n",
       "    <tr style=\"text-align: right;\">\n",
       "      <th></th>\n",
       "      <th>MES_DEF</th>\n",
       "      <th>Status</th>\n",
       "      <th>ID_REGISTRO</th>\n",
       "    </tr>\n",
       "  </thead>\n",
       "  <tbody>\n",
       "    <tr>\n",
       "      <th>0</th>\n",
       "      <td>3</td>\n",
       "      <td>Dead</td>\n",
       "      <td>80</td>\n",
       "    </tr>\n",
       "    <tr>\n",
       "      <th>1</th>\n",
       "      <td>4</td>\n",
       "      <td>Dead</td>\n",
       "      <td>3550</td>\n",
       "    </tr>\n",
       "    <tr>\n",
       "      <th>2</th>\n",
       "      <td>5</td>\n",
       "      <td>Dead</td>\n",
       "      <td>12490</td>\n",
       "    </tr>\n",
       "    <tr>\n",
       "      <th>3</th>\n",
       "      <td>6</td>\n",
       "      <td>Dead</td>\n",
       "      <td>17604</td>\n",
       "    </tr>\n",
       "    <tr>\n",
       "      <th>4</th>\n",
       "      <td>7</td>\n",
       "      <td>Dead</td>\n",
       "      <td>20099</td>\n",
       "    </tr>\n",
       "    <tr>\n",
       "      <th>5</th>\n",
       "      <td>8</td>\n",
       "      <td>Dead</td>\n",
       "      <td>15860</td>\n",
       "    </tr>\n",
       "    <tr>\n",
       "      <th>6</th>\n",
       "      <td>9</td>\n",
       "      <td>Dead</td>\n",
       "      <td>10527</td>\n",
       "    </tr>\n",
       "    <tr>\n",
       "      <th>7</th>\n",
       "      <td>10</td>\n",
       "      <td>Dead</td>\n",
       "      <td>8202</td>\n",
       "    </tr>\n",
       "    <tr>\n",
       "      <th>8</th>\n",
       "      <td>99</td>\n",
       "      <td>Active</td>\n",
       "      <td>51313</td>\n",
       "    </tr>\n",
       "    <tr>\n",
       "      <th>9</th>\n",
       "      <td>99</td>\n",
       "      <td>Alive</td>\n",
       "      <td>751820</td>\n",
       "    </tr>\n",
       "  </tbody>\n",
       "</table>\n",
       "</div>"
      ],
      "text/plain": [
       "   MES_DEF  Status  ID_REGISTRO\n",
       "0        3    Dead           80\n",
       "1        4    Dead         3550\n",
       "2        5    Dead        12490\n",
       "3        6    Dead        17604\n",
       "4        7    Dead        20099\n",
       "5        8    Dead        15860\n",
       "6        9    Dead        10527\n",
       "7       10    Dead         8202\n",
       "8       99  Active        51313\n",
       "9       99   Alive       751820"
      ]
     },
     "execution_count": 49,
     "metadata": {},
     "output_type": "execute_result"
    }
   ],
   "source": [
    "data.groupby(['MES_DEF','Status'],as_index=False)['ID_REGISTRO'].count()"
   ]
  },
  {
   "cell_type": "code",
   "execution_count": 50,
   "metadata": {},
   "outputs": [
    {
     "data": {
      "text/plain": [
       "['FECHA_ACTUALIZACION',\n",
       " 'ID_REGISTRO',\n",
       " 'ORIGEN',\n",
       " 'SECTOR',\n",
       " 'ENTIDAD_UM',\n",
       " 'SEXO',\n",
       " 'ENTIDAD_NAC',\n",
       " 'ENTIDAD_RES',\n",
       " 'MUNICIPIO_RES',\n",
       " 'TIPO_PACIENTE',\n",
       " 'FECHA_INGRESO',\n",
       " 'FECHA_SINTOMAS',\n",
       " 'FECHA_DEF',\n",
       " 'INTUBADO',\n",
       " 'NEUMONIA',\n",
       " 'EDAD',\n",
       " 'NACIONALIDAD',\n",
       " 'EMBARAZO',\n",
       " 'HABLA_LENGUA_INDIG',\n",
       " 'INDIGENA',\n",
       " 'DIABETES',\n",
       " 'EPOC',\n",
       " 'ASMA',\n",
       " 'INMUSUPR',\n",
       " 'HIPERTENSION',\n",
       " 'OTRA_COM',\n",
       " 'CARDIOVASCULAR',\n",
       " 'OBESIDAD',\n",
       " 'RENAL_CRONICA',\n",
       " 'TABAQUISMO',\n",
       " 'OTRO_CASO',\n",
       " 'TOMA_MUESTRA',\n",
       " 'RESULTADO_LAB',\n",
       " 'CLASIFICACION_FINAL',\n",
       " 'MIGRANTE',\n",
       " 'PAIS_NACIONALIDAD',\n",
       " 'PAIS_ORIGEN',\n",
       " 'UCI',\n",
       " 'ORIGEN_DESC',\n",
       " 'SECTOR_DESC',\n",
       " 'SEXO_DESC',\n",
       " 'TIPO_PACIENTE_DESC',\n",
       " 'NACIONALIDAD_DESC',\n",
       " 'RESULTADO_LAB_DESC',\n",
       " 'CLASIFICACIÓN',\n",
       " 'CLAS_DESC',\n",
       " 'ENTIDAD_FEDERATIVA_NAC',\n",
       " 'ABREVIATURA_NAC',\n",
       " 'ENTIDAD_FEDERATIVA_RES',\n",
       " 'ABREVIATURA_RES',\n",
       " 'ENTIDAD_FEDERATIVA_UM',\n",
       " 'ABREVIATURA_UM',\n",
       " 'INTUBADO_DESC',\n",
       " 'NEUMONIA_DESC',\n",
       " 'HABLA_LENGUA_INDIG_DESC',\n",
       " 'INDIGENA_DESC',\n",
       " 'DIABETES_DESC',\n",
       " 'EPOC_DESC',\n",
       " 'ASMA_DESC',\n",
       " 'INMUSUPR_DESC',\n",
       " 'OTRA_COM_DESC',\n",
       " 'CARDIOVASCULAR_DESC',\n",
       " 'OBESIDAD_DESC',\n",
       " 'RENAL_CRONICA_DESC',\n",
       " 'TABAQUISMO_DESC',\n",
       " 'OTRO_CASO_DESC',\n",
       " 'TOMA_MUESTRA_DESC',\n",
       " 'MIGRANTE_DESC',\n",
       " 'UCI_DESC',\n",
       " 'HIPERTENSION_DESC',\n",
       " 'MUNICIPIO_RES_DESC',\n",
       " 'Status',\n",
       " 'MES_ING',\n",
       " 'MES_SINTOMAS',\n",
       " 'MES_DEF',\n",
       " 'EDAD_CLASS']"
      ]
     },
     "execution_count": 50,
     "metadata": {},
     "output_type": "execute_result"
    }
   ],
   "source": [
    "data.columns.tolist()"
   ]
  },
  {
   "cell_type": "code",
   "execution_count": 51,
   "metadata": {},
   "outputs": [
    {
     "data": {
      "text/plain": [
       "array([ 65,  74,  54,  58,  71,  49,  80,  68,  63,  85,  37,  93,  78,\n",
       "        64,  79,  53,  81,  70,  73,  76,  48,  47,  59,  83,  50,  40,\n",
       "        66,  69,  51,  75,  38,  55,  67,  57,  35,  61,  82,  72,  46,\n",
       "        36,  88,  42,  62,  84,  77,  52,  45,  96,  41,  56,  92,  44,\n",
       "        60,  39,  87,  29,  43,  34,  27,  28,  32,  86,  30,  23,  24,\n",
       "        25,  31,  12,  20,  33,  89,  18,  19,  26,  22,  13,  10,  21,\n",
       "        11,  15,  16,   4,   9,   3,  95,  90, 100,  91,   0,  94,   2,\n",
       "        17,   5,   1, 108,  14,   7,   8,  98, 101, 103, 102,   6,  97,\n",
       "       104,  99, 109, 107, 105, 114, 116, 106, 118, 110, 112, 115, 120])"
      ]
     },
     "execution_count": 51,
     "metadata": {},
     "output_type": "execute_result"
    }
   ],
   "source": [
    "data['EDAD'].unique()"
   ]
  },
  {
   "cell_type": "code",
   "execution_count": 52,
   "metadata": {},
   "outputs": [
    {
     "data": {
      "text/html": [
       "<div>\n",
       "<style scoped>\n",
       "    .dataframe tbody tr th:only-of-type {\n",
       "        vertical-align: middle;\n",
       "    }\n",
       "\n",
       "    .dataframe tbody tr th {\n",
       "        vertical-align: top;\n",
       "    }\n",
       "\n",
       "    .dataframe thead th {\n",
       "        text-align: right;\n",
       "    }\n",
       "</style>\n",
       "<table border=\"1\" class=\"dataframe\">\n",
       "  <thead>\n",
       "    <tr style=\"text-align: right;\">\n",
       "      <th></th>\n",
       "      <th>EDAD</th>\n",
       "      <th>ID_REGISTRO</th>\n",
       "    </tr>\n",
       "  </thead>\n",
       "  <tbody>\n",
       "    <tr>\n",
       "      <th>0</th>\n",
       "      <td>0</td>\n",
       "      <td>1756</td>\n",
       "    </tr>\n",
       "    <tr>\n",
       "      <th>1</th>\n",
       "      <td>1</td>\n",
       "      <td>1154</td>\n",
       "    </tr>\n",
       "    <tr>\n",
       "      <th>2</th>\n",
       "      <td>2</td>\n",
       "      <td>804</td>\n",
       "    </tr>\n",
       "    <tr>\n",
       "      <th>3</th>\n",
       "      <td>3</td>\n",
       "      <td>737</td>\n",
       "    </tr>\n",
       "    <tr>\n",
       "      <th>4</th>\n",
       "      <td>4</td>\n",
       "      <td>757</td>\n",
       "    </tr>\n",
       "    <tr>\n",
       "      <th>...</th>\n",
       "      <td>...</td>\n",
       "      <td>...</td>\n",
       "    </tr>\n",
       "    <tr>\n",
       "      <th>112</th>\n",
       "      <td>114</td>\n",
       "      <td>2</td>\n",
       "    </tr>\n",
       "    <tr>\n",
       "      <th>113</th>\n",
       "      <td>115</td>\n",
       "      <td>1</td>\n",
       "    </tr>\n",
       "    <tr>\n",
       "      <th>114</th>\n",
       "      <td>116</td>\n",
       "      <td>2</td>\n",
       "    </tr>\n",
       "    <tr>\n",
       "      <th>115</th>\n",
       "      <td>118</td>\n",
       "      <td>2</td>\n",
       "    </tr>\n",
       "    <tr>\n",
       "      <th>116</th>\n",
       "      <td>120</td>\n",
       "      <td>1</td>\n",
       "    </tr>\n",
       "  </tbody>\n",
       "</table>\n",
       "<p>117 rows × 2 columns</p>\n",
       "</div>"
      ],
      "text/plain": [
       "     EDAD  ID_REGISTRO\n",
       "0       0         1756\n",
       "1       1         1154\n",
       "2       2          804\n",
       "3       3          737\n",
       "4       4          757\n",
       "..    ...          ...\n",
       "112   114            2\n",
       "113   115            1\n",
       "114   116            2\n",
       "115   118            2\n",
       "116   120            1\n",
       "\n",
       "[117 rows x 2 columns]"
      ]
     },
     "execution_count": 52,
     "metadata": {},
     "output_type": "execute_result"
    }
   ],
   "source": [
    "data.groupby(['EDAD'],as_index=False)['ID_REGISTRO'].count()"
   ]
  },
  {
   "cell_type": "code",
   "execution_count": 53,
   "metadata": {},
   "outputs": [
    {
     "data": {
      "text/plain": [
       "Index(['FECHA_ACTUALIZACION', 'ID_REGISTRO', 'ORIGEN', 'SECTOR', 'ENTIDAD_UM',\n",
       "       'SEXO', 'ENTIDAD_NAC', 'ENTIDAD_RES', 'MUNICIPIO_RES', 'TIPO_PACIENTE',\n",
       "       'FECHA_INGRESO', 'FECHA_SINTOMAS', 'FECHA_DEF', 'INTUBADO', 'NEUMONIA',\n",
       "       'EDAD', 'NACIONALIDAD', 'EMBARAZO', 'HABLA_LENGUA_INDIG', 'INDIGENA',\n",
       "       'DIABETES', 'EPOC', 'ASMA', 'INMUSUPR', 'HIPERTENSION', 'OTRA_COM',\n",
       "       'CARDIOVASCULAR', 'OBESIDAD', 'RENAL_CRONICA', 'TABAQUISMO',\n",
       "       'OTRO_CASO', 'TOMA_MUESTRA', 'RESULTADO_LAB', 'CLASIFICACION_FINAL',\n",
       "       'MIGRANTE', 'PAIS_NACIONALIDAD', 'PAIS_ORIGEN', 'UCI', 'ORIGEN_DESC',\n",
       "       'SECTOR_DESC', 'SEXO_DESC', 'TIPO_PACIENTE_DESC', 'NACIONALIDAD_DESC',\n",
       "       'RESULTADO_LAB_DESC', 'CLASIFICACIÓN', 'CLAS_DESC',\n",
       "       'ENTIDAD_FEDERATIVA_NAC', 'ABREVIATURA_NAC', 'ENTIDAD_FEDERATIVA_RES',\n",
       "       'ABREVIATURA_RES', 'ENTIDAD_FEDERATIVA_UM', 'ABREVIATURA_UM',\n",
       "       'INTUBADO_DESC', 'NEUMONIA_DESC', 'HABLA_LENGUA_INDIG_DESC',\n",
       "       'INDIGENA_DESC', 'DIABETES_DESC', 'EPOC_DESC', 'ASMA_DESC',\n",
       "       'INMUSUPR_DESC', 'OTRA_COM_DESC', 'CARDIOVASCULAR_DESC',\n",
       "       'OBESIDAD_DESC', 'RENAL_CRONICA_DESC', 'TABAQUISMO_DESC',\n",
       "       'OTRO_CASO_DESC', 'TOMA_MUESTRA_DESC', 'MIGRANTE_DESC', 'UCI_DESC',\n",
       "       'HIPERTENSION_DESC', 'MUNICIPIO_RES_DESC', 'Status', 'MES_ING',\n",
       "       'MES_SINTOMAS', 'MES_DEF', 'EDAD_CLASS'],\n",
       "      dtype='object')"
      ]
     },
     "execution_count": 53,
     "metadata": {},
     "output_type": "execute_result"
    }
   ],
   "source": [
    "data.columns"
   ]
  },
  {
   "cell_type": "code",
   "execution_count": 54,
   "metadata": {},
   "outputs": [
    {
     "data": {
      "text/plain": [
       "EDAD_CLASS\n",
       "Adult           534471\n",
       "Baby              5208\n",
       "Child             3623\n",
       "Senior Adult    156894\n",
       "Teenage          18095\n",
       "Young Adult     173254\n",
       "Name: ID_REGISTRO, dtype: int64"
      ]
     },
     "execution_count": 54,
     "metadata": {},
     "output_type": "execute_result"
    }
   ],
   "source": [
    "data.groupby('EDAD_CLASS')['ID_REGISTRO'].count()"
   ]
  },
  {
   "cell_type": "code",
   "execution_count": 55,
   "metadata": {},
   "outputs": [
    {
     "data": {
      "text/plain": [
       "FECHA_ACTUALIZACION    object\n",
       "ID_REGISTRO            object\n",
       "ORIGEN                  int64\n",
       "SECTOR                  int64\n",
       "ENTIDAD_UM              int64\n",
       "                        ...  \n",
       "Status                 object\n",
       "MES_ING                 int64\n",
       "MES_SINTOMAS            int64\n",
       "MES_DEF                 int64\n",
       "EDAD_CLASS             object\n",
       "Length: 76, dtype: object"
      ]
     },
     "execution_count": 55,
     "metadata": {},
     "output_type": "execute_result"
    }
   ],
   "source": [
    "data.dtypes"
   ]
  },
  {
   "cell_type": "code",
   "execution_count": 56,
   "metadata": {},
   "outputs": [
    {
     "data": {
      "text/plain": [
       "891545"
      ]
     },
     "execution_count": 56,
     "metadata": {},
     "output_type": "execute_result"
    }
   ],
   "source": [
    "data['Status'].count()"
   ]
  },
  {
   "cell_type": "code",
   "execution_count": 57,
   "metadata": {},
   "outputs": [
    {
     "data": {
      "text/plain": [
       "2386284"
      ]
     },
     "execution_count": 57,
     "metadata": {},
     "output_type": "execute_result"
    }
   ],
   "source": [
    "db['ID_REGISTRO'].count()"
   ]
  },
  {
   "cell_type": "code",
   "execution_count": 58,
   "metadata": {},
   "outputs": [
    {
     "data": {
      "text/html": [
       "<div>\n",
       "<style scoped>\n",
       "    .dataframe tbody tr th:only-of-type {\n",
       "        vertical-align: middle;\n",
       "    }\n",
       "\n",
       "    .dataframe tbody tr th {\n",
       "        vertical-align: top;\n",
       "    }\n",
       "\n",
       "    .dataframe thead th {\n",
       "        text-align: right;\n",
       "    }\n",
       "</style>\n",
       "<table border=\"1\" class=\"dataframe\">\n",
       "  <thead>\n",
       "    <tr style=\"text-align: right;\">\n",
       "      <th></th>\n",
       "      <th>RESULTADO_LAB</th>\n",
       "      <th>ID_REGISTRO</th>\n",
       "    </tr>\n",
       "  </thead>\n",
       "  <tbody>\n",
       "    <tr>\n",
       "      <th>0</th>\n",
       "      <td>1</td>\n",
       "      <td>891550</td>\n",
       "    </tr>\n",
       "    <tr>\n",
       "      <th>1</th>\n",
       "      <td>2</td>\n",
       "      <td>1110937</td>\n",
       "    </tr>\n",
       "    <tr>\n",
       "      <th>2</th>\n",
       "      <td>3</td>\n",
       "      <td>72715</td>\n",
       "    </tr>\n",
       "    <tr>\n",
       "      <th>3</th>\n",
       "      <td>4</td>\n",
       "      <td>104346</td>\n",
       "    </tr>\n",
       "    <tr>\n",
       "      <th>4</th>\n",
       "      <td>97</td>\n",
       "      <td>206736</td>\n",
       "    </tr>\n",
       "  </tbody>\n",
       "</table>\n",
       "</div>"
      ],
      "text/plain": [
       "   RESULTADO_LAB  ID_REGISTRO\n",
       "0              1       891550\n",
       "1              2      1110937\n",
       "2              3        72715\n",
       "3              4       104346\n",
       "4             97       206736"
      ]
     },
     "execution_count": 58,
     "metadata": {},
     "output_type": "execute_result"
    }
   ],
   "source": [
    "db.groupby(['RESULTADO_LAB'],as_index=False)['ID_REGISTRO'].count()"
   ]
  }
 ],
 "metadata": {
  "kernelspec": {
   "display_name": "Python 3",
   "language": "python",
   "name": "python3"
  },
  "language_info": {
   "codemirror_mode": {
    "name": "ipython",
    "version": 3
   },
   "file_extension": ".py",
   "mimetype": "text/x-python",
   "name": "python",
   "nbconvert_exporter": "python",
   "pygments_lexer": "ipython3",
   "version": "3.8.0"
  }
 },
 "nbformat": 4,
 "nbformat_minor": 4
}
