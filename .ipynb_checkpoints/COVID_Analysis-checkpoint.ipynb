{
 "cells": [
  {
   "cell_type": "code",
   "execution_count": 52,
   "metadata": {},
   "outputs": [],
   "source": [
    "import pandas as pd\n",
    "import numpy as np\n",
    "import os\n",
    "import glob\n",
    "\n",
    "from requests import request\n",
    "import urllib.request\n",
    "import json\n",
    "from pandas.io.json import json_normalize\n",
    "\n",
    "import numpy as np\n",
    "import pandas as pd\n",
    "import pandas_profiling\n",
    "from pandas.plotting import register_matplotlib_converters\n",
    "import seaborn as sns\n",
    "import matplotlib.pyplot as plt\n",
    "import folium \n",
    "import plotly\n",
    "import plotly.graph_objects as go\n",
    "import plotly.express as px\n",
    "from plotly.subplots import make_subplots\n",
    "\n",
    "# color pallette\n",
    "cnf, dth, rec, act = '#f7d619', '#d43d56', '#48cf46', '#6b9be8' \n",
    "\n",
    "# hide warnings\n",
    "import warnings\n",
    "warnings.filterwarnings('ignore')\n",
    "\n",
    "from IPython.display import Markdown\n",
    "\n",
    "%matplotlib inline"
   ]
  },
  {
   "cell_type": "code",
   "execution_count": 2,
   "metadata": {},
   "outputs": [
    {
     "data": {
      "text/plain": [
       "256"
      ]
     },
     "execution_count": 2,
     "metadata": {},
     "output_type": "execute_result"
    }
   ],
   "source": [
    "os.system('unzip Files/db.zip')"
   ]
  },
  {
   "cell_type": "code",
   "execution_count": 16,
   "metadata": {},
   "outputs": [
    {
     "data": {
      "text/plain": [
       "848380"
      ]
     },
     "execution_count": 16,
     "metadata": {},
     "output_type": "execute_result"
    }
   ],
   "source": [
    "data = pd.read_csv('Files/mex_covid_daily.csv',engine='python')\n",
    "len(data)"
   ]
  },
  {
   "cell_type": "code",
   "execution_count": 17,
   "metadata": {},
   "outputs": [
    {
     "data": {
      "text/html": [
       "<div>\n",
       "<style scoped>\n",
       "    .dataframe tbody tr th:only-of-type {\n",
       "        vertical-align: middle;\n",
       "    }\n",
       "\n",
       "    .dataframe tbody tr th {\n",
       "        vertical-align: top;\n",
       "    }\n",
       "\n",
       "    .dataframe thead th {\n",
       "        text-align: right;\n",
       "    }\n",
       "</style>\n",
       "<table border=\"1\" class=\"dataframe\">\n",
       "  <thead>\n",
       "    <tr style=\"text-align: right;\">\n",
       "      <th></th>\n",
       "      <th>FECHA_ACTUALIZACION</th>\n",
       "      <th>ID_REGISTRO</th>\n",
       "      <th>ORIGEN</th>\n",
       "      <th>SECTOR</th>\n",
       "      <th>ENTIDAD_UM</th>\n",
       "      <th>SEXO</th>\n",
       "      <th>ENTIDAD_NAC</th>\n",
       "      <th>ENTIDAD_RES</th>\n",
       "      <th>MUNICIPIO_RES</th>\n",
       "      <th>TIPO_PACIENTE</th>\n",
       "      <th>...</th>\n",
       "      <th>TOMA_MUESTRA_DESC</th>\n",
       "      <th>MIGRANTE_DESC</th>\n",
       "      <th>UCI_DESC</th>\n",
       "      <th>HIPERTENSION_DESC</th>\n",
       "      <th>MUNICIPIO_RES_DESC</th>\n",
       "      <th>Status</th>\n",
       "      <th>MES_ING</th>\n",
       "      <th>MES_SINTOMAS</th>\n",
       "      <th>MES_DEF</th>\n",
       "      <th>EDAD_CLASS</th>\n",
       "    </tr>\n",
       "  </thead>\n",
       "  <tbody>\n",
       "    <tr>\n",
       "      <th>0</th>\n",
       "      <td>2020-10-22</td>\n",
       "      <td>1c4583</td>\n",
       "      <td>2</td>\n",
       "      <td>12</td>\n",
       "      <td>9</td>\n",
       "      <td>2</td>\n",
       "      <td>9</td>\n",
       "      <td>9</td>\n",
       "      <td>4</td>\n",
       "      <td>1</td>\n",
       "      <td>...</td>\n",
       "      <td>SI</td>\n",
       "      <td>NO ESPECIFICADO</td>\n",
       "      <td>NO APLICA</td>\n",
       "      <td>NO</td>\n",
       "      <td>CUAJIMALPA DE MORELOS</td>\n",
       "      <td>Alive</td>\n",
       "      <td>3</td>\n",
       "      <td>3</td>\n",
       "      <td>99</td>\n",
       "      <td>Young Adult</td>\n",
       "    </tr>\n",
       "    <tr>\n",
       "      <th>1</th>\n",
       "      <td>2020-10-22</td>\n",
       "      <td>01e96e</td>\n",
       "      <td>2</td>\n",
       "      <td>12</td>\n",
       "      <td>9</td>\n",
       "      <td>2</td>\n",
       "      <td>9</td>\n",
       "      <td>9</td>\n",
       "      <td>4</td>\n",
       "      <td>1</td>\n",
       "      <td>...</td>\n",
       "      <td>SI</td>\n",
       "      <td>NO ESPECIFICADO</td>\n",
       "      <td>NO APLICA</td>\n",
       "      <td>NO</td>\n",
       "      <td>CUAJIMALPA DE MORELOS</td>\n",
       "      <td>Alive</td>\n",
       "      <td>6</td>\n",
       "      <td>6</td>\n",
       "      <td>99</td>\n",
       "      <td>Adult</td>\n",
       "    </tr>\n",
       "    <tr>\n",
       "      <th>2</th>\n",
       "      <td>2020-10-22</td>\n",
       "      <td>13a8f5</td>\n",
       "      <td>2</td>\n",
       "      <td>12</td>\n",
       "      <td>9</td>\n",
       "      <td>2</td>\n",
       "      <td>9</td>\n",
       "      <td>9</td>\n",
       "      <td>4</td>\n",
       "      <td>1</td>\n",
       "      <td>...</td>\n",
       "      <td>SI</td>\n",
       "      <td>NO ESPECIFICADO</td>\n",
       "      <td>NO APLICA</td>\n",
       "      <td>NO</td>\n",
       "      <td>CUAJIMALPA DE MORELOS</td>\n",
       "      <td>Alive</td>\n",
       "      <td>6</td>\n",
       "      <td>6</td>\n",
       "      <td>99</td>\n",
       "      <td>Teenage</td>\n",
       "    </tr>\n",
       "    <tr>\n",
       "      <th>3</th>\n",
       "      <td>2020-10-22</td>\n",
       "      <td>034fbd</td>\n",
       "      <td>2</td>\n",
       "      <td>12</td>\n",
       "      <td>9</td>\n",
       "      <td>2</td>\n",
       "      <td>9</td>\n",
       "      <td>9</td>\n",
       "      <td>4</td>\n",
       "      <td>1</td>\n",
       "      <td>...</td>\n",
       "      <td>SI</td>\n",
       "      <td>NO ESPECIFICADO</td>\n",
       "      <td>NO APLICA</td>\n",
       "      <td>NO</td>\n",
       "      <td>CUAJIMALPA DE MORELOS</td>\n",
       "      <td>Alive</td>\n",
       "      <td>6</td>\n",
       "      <td>6</td>\n",
       "      <td>99</td>\n",
       "      <td>Young Adult</td>\n",
       "    </tr>\n",
       "    <tr>\n",
       "      <th>4</th>\n",
       "      <td>2020-10-22</td>\n",
       "      <td>0705c5</td>\n",
       "      <td>2</td>\n",
       "      <td>12</td>\n",
       "      <td>9</td>\n",
       "      <td>2</td>\n",
       "      <td>9</td>\n",
       "      <td>9</td>\n",
       "      <td>4</td>\n",
       "      <td>1</td>\n",
       "      <td>...</td>\n",
       "      <td>SI</td>\n",
       "      <td>NO ESPECIFICADO</td>\n",
       "      <td>NO APLICA</td>\n",
       "      <td>NO</td>\n",
       "      <td>CUAJIMALPA DE MORELOS</td>\n",
       "      <td>Alive</td>\n",
       "      <td>4</td>\n",
       "      <td>4</td>\n",
       "      <td>99</td>\n",
       "      <td>Adult</td>\n",
       "    </tr>\n",
       "  </tbody>\n",
       "</table>\n",
       "<p>5 rows × 76 columns</p>\n",
       "</div>"
      ],
      "text/plain": [
       "  FECHA_ACTUALIZACION ID_REGISTRO  ORIGEN  SECTOR  ENTIDAD_UM  SEXO  \\\n",
       "0          2020-10-22      1c4583       2      12           9     2   \n",
       "1          2020-10-22      01e96e       2      12           9     2   \n",
       "2          2020-10-22      13a8f5       2      12           9     2   \n",
       "3          2020-10-22      034fbd       2      12           9     2   \n",
       "4          2020-10-22      0705c5       2      12           9     2   \n",
       "\n",
       "   ENTIDAD_NAC  ENTIDAD_RES  MUNICIPIO_RES  TIPO_PACIENTE  ...  \\\n",
       "0            9            9              4              1  ...   \n",
       "1            9            9              4              1  ...   \n",
       "2            9            9              4              1  ...   \n",
       "3            9            9              4              1  ...   \n",
       "4            9            9              4              1  ...   \n",
       "\n",
       "  TOMA_MUESTRA_DESC    MIGRANTE_DESC   UCI_DESC  HIPERTENSION_DESC  \\\n",
       "0               SI   NO ESPECIFICADO  NO APLICA                NO    \n",
       "1               SI   NO ESPECIFICADO  NO APLICA                NO    \n",
       "2               SI   NO ESPECIFICADO  NO APLICA                NO    \n",
       "3               SI   NO ESPECIFICADO  NO APLICA                NO    \n",
       "4               SI   NO ESPECIFICADO  NO APLICA                NO    \n",
       "\n",
       "      MUNICIPIO_RES_DESC  Status  MES_ING  MES_SINTOMAS  MES_DEF   EDAD_CLASS  \n",
       "0  CUAJIMALPA DE MORELOS   Alive        3             3       99  Young Adult  \n",
       "1  CUAJIMALPA DE MORELOS   Alive        6             6       99        Adult  \n",
       "2  CUAJIMALPA DE MORELOS   Alive        6             6       99      Teenage  \n",
       "3  CUAJIMALPA DE MORELOS   Alive        6             6       99  Young Adult  \n",
       "4  CUAJIMALPA DE MORELOS   Alive        4             4       99        Adult  \n",
       "\n",
       "[5 rows x 76 columns]"
      ]
     },
     "execution_count": 17,
     "metadata": {},
     "output_type": "execute_result"
    }
   ],
   "source": [
    "data.head()"
   ]
  },
  {
   "cell_type": "code",
   "execution_count": 18,
   "metadata": {},
   "outputs": [],
   "source": [
    "data['FECHA_ACTUALIZACION'] = pd.to_datetime(data['FECHA_ACTUALIZACION'])\n",
    "data['FECHA_INGRESO'] = pd.to_datetime(data['FECHA_INGRESO'])\n",
    "data['FECHA_SINTOMAS'] = pd.to_datetime(data['FECHA_SINTOMAS'])\n",
    "data.loc[(data['FECHA_DEF'].isin(['9999-99-99'])),'FECHA_DEF'] = ''\n",
    "data.loc[(data['FECHA_DEF'].isnull()),'FECHA_DEF']='0'\n",
    "data['FECHA_DEF']=pd.to_datetime(data['FECHA_DEF'])"
   ]
  },
  {
   "cell_type": "code",
   "execution_count": 19,
   "metadata": {},
   "outputs": [
    {
     "data": {
      "text/plain": [
       "85216"
      ]
     },
     "execution_count": 19,
     "metadata": {},
     "output_type": "execute_result"
    }
   ],
   "source": [
    "data.loc[(data['Status'].isin(['Dead'])),'ID_REGISTRO'].count()"
   ]
  },
  {
   "cell_type": "code",
   "execution_count": 20,
   "metadata": {},
   "outputs": [
    {
     "data": {
      "text/plain": [
       "848380"
      ]
     },
     "execution_count": 20,
     "metadata": {},
     "output_type": "execute_result"
    }
   ],
   "source": [
    "data = data[['ID_REGISTRO','FECHA_INGRESO','FECHA_DEF',\n",
    " 'SECTOR_DESC','SEXO_DESC','TIPO_PACIENTE_DESC','ENTIDAD_FEDERATIVA_RES',\n",
    " 'ABREVIATURA_RES','INTUBADO_DESC', 'NEUMONIA_DESC','DIABETES_DESC','EPOC_DESC',\n",
    " 'ASMA_DESC','INMUSUPR_DESC','OTRA_COM_DESC','CARDIOVASCULAR_DESC','OBESIDAD_DESC',\n",
    " 'RENAL_CRONICA_DESC','TABAQUISMO_DESC','OTRO_CASO_DESC',\n",
    " 'HIPERTENSION_DESC','MUNICIPIO_RES_DESC',\n",
    " 'EDAD_CLASS','Status']]\n",
    "len(data)"
   ]
  },
  {
   "cell_type": "code",
   "execution_count": 22,
   "metadata": {},
   "outputs": [
    {
     "data": {
      "text/html": [
       "<div>\n",
       "<style scoped>\n",
       "    .dataframe tbody tr th:only-of-type {\n",
       "        vertical-align: middle;\n",
       "    }\n",
       "\n",
       "    .dataframe tbody tr th {\n",
       "        vertical-align: top;\n",
       "    }\n",
       "\n",
       "    .dataframe thead th {\n",
       "        text-align: right;\n",
       "    }\n",
       "</style>\n",
       "<table border=\"1\" class=\"dataframe\">\n",
       "  <thead>\n",
       "    <tr style=\"text-align: right;\">\n",
       "      <th></th>\n",
       "      <th>Status</th>\n",
       "      <th>ID_REGISTRO</th>\n",
       "    </tr>\n",
       "  </thead>\n",
       "  <tbody>\n",
       "    <tr>\n",
       "      <th>0</th>\n",
       "      <td>Active</td>\n",
       "      <td>50353</td>\n",
       "    </tr>\n",
       "    <tr>\n",
       "      <th>1</th>\n",
       "      <td>Alive</td>\n",
       "      <td>712811</td>\n",
       "    </tr>\n",
       "    <tr>\n",
       "      <th>2</th>\n",
       "      <td>Dead</td>\n",
       "      <td>85216</td>\n",
       "    </tr>\n",
       "  </tbody>\n",
       "</table>\n",
       "</div>"
      ],
      "text/plain": [
       "   Status  ID_REGISTRO\n",
       "0  Active        50353\n",
       "1   Alive       712811\n",
       "2    Dead        85216"
      ]
     },
     "execution_count": 22,
     "metadata": {},
     "output_type": "execute_result"
    }
   ],
   "source": [
    "data.groupby(['Status'],as_index=False)['ID_REGISTRO'].count()"
   ]
  },
  {
   "cell_type": "code",
   "execution_count": 44,
   "metadata": {},
   "outputs": [
    {
     "data": {
      "text/plain": [
       "848380"
      ]
     },
     "execution_count": 44,
     "metadata": {},
     "output_type": "execute_result"
    }
   ],
   "source": [
    "confirm = data.groupby(['ENTIDAD_FEDERATIVA_RES'],as_index=False)['ID_REGISTRO'].count()\n",
    "confirm = confirm.rename(columns={'ID_REGISTRO':'Confirmed'})\n",
    "confirm['Confirmed'].sum()"
   ]
  },
  {
   "cell_type": "code",
   "execution_count": 40,
   "metadata": {},
   "outputs": [
    {
     "data": {
      "text/html": [
       "<div>\n",
       "<style scoped>\n",
       "    .dataframe tbody tr th:only-of-type {\n",
       "        vertical-align: middle;\n",
       "    }\n",
       "\n",
       "    .dataframe tbody tr th {\n",
       "        vertical-align: top;\n",
       "    }\n",
       "\n",
       "    .dataframe thead th {\n",
       "        text-align: right;\n",
       "    }\n",
       "</style>\n",
       "<table border=\"1\" class=\"dataframe\">\n",
       "  <thead>\n",
       "    <tr style=\"text-align: right;\">\n",
       "      <th></th>\n",
       "      <th>ENTIDAD_FEDERATIVA_RES</th>\n",
       "      <th>Deceased</th>\n",
       "    </tr>\n",
       "  </thead>\n",
       "  <tbody>\n",
       "    <tr>\n",
       "      <th>0</th>\n",
       "      <td>AGUASCALIENTES</td>\n",
       "      <td>751</td>\n",
       "    </tr>\n",
       "    <tr>\n",
       "      <th>1</th>\n",
       "      <td>BAJA CALIFORNIA</td>\n",
       "      <td>3784</td>\n",
       "    </tr>\n",
       "    <tr>\n",
       "      <th>2</th>\n",
       "      <td>BAJA CALIFORNIA SUR</td>\n",
       "      <td>579</td>\n",
       "    </tr>\n",
       "    <tr>\n",
       "      <th>3</th>\n",
       "      <td>CAMPECHE</td>\n",
       "      <td>837</td>\n",
       "    </tr>\n",
       "    <tr>\n",
       "      <th>4</th>\n",
       "      <td>CHIAPAS</td>\n",
       "      <td>1106</td>\n",
       "    </tr>\n",
       "  </tbody>\n",
       "</table>\n",
       "</div>"
      ],
      "text/plain": [
       "  ENTIDAD_FEDERATIVA_RES  Deceased\n",
       "0         AGUASCALIENTES       751\n",
       "1        BAJA CALIFORNIA      3784\n",
       "2    BAJA CALIFORNIA SUR       579\n",
       "3               CAMPECHE       837\n",
       "4                CHIAPAS      1106"
      ]
     },
     "execution_count": 40,
     "metadata": {},
     "output_type": "execute_result"
    }
   ],
   "source": [
    "muertos = data.loc[(data['Status'].isin(['Dead']))]\n",
    "deceased = muertos.groupby(['ENTIDAD_FEDERATIVA_RES'],as_index=False)['ID_REGISTRO'].count()\n",
    "deceased = deceased.rename(columns={'ID_REGISTRO':'Deceased'})\n",
    "deceased.head()"
   ]
  },
  {
   "cell_type": "code",
   "execution_count": 41,
   "metadata": {},
   "outputs": [
    {
     "data": {
      "text/html": [
       "<div>\n",
       "<style scoped>\n",
       "    .dataframe tbody tr th:only-of-type {\n",
       "        vertical-align: middle;\n",
       "    }\n",
       "\n",
       "    .dataframe tbody tr th {\n",
       "        vertical-align: top;\n",
       "    }\n",
       "\n",
       "    .dataframe thead th {\n",
       "        text-align: right;\n",
       "    }\n",
       "</style>\n",
       "<table border=\"1\" class=\"dataframe\">\n",
       "  <thead>\n",
       "    <tr style=\"text-align: right;\">\n",
       "      <th></th>\n",
       "      <th>ENTIDAD_FEDERATIVA_RES</th>\n",
       "      <th>Recovered</th>\n",
       "    </tr>\n",
       "  </thead>\n",
       "  <tbody>\n",
       "    <tr>\n",
       "      <th>0</th>\n",
       "      <td>AGUASCALIENTES</td>\n",
       "      <td>7232</td>\n",
       "    </tr>\n",
       "    <tr>\n",
       "      <th>1</th>\n",
       "      <td>BAJA CALIFORNIA</td>\n",
       "      <td>16844</td>\n",
       "    </tr>\n",
       "    <tr>\n",
       "      <th>2</th>\n",
       "      <td>BAJA CALIFORNIA SUR</td>\n",
       "      <td>10401</td>\n",
       "    </tr>\n",
       "    <tr>\n",
       "      <th>3</th>\n",
       "      <td>CAMPECHE</td>\n",
       "      <td>5271</td>\n",
       "    </tr>\n",
       "    <tr>\n",
       "      <th>4</th>\n",
       "      <td>CHIAPAS</td>\n",
       "      <td>5522</td>\n",
       "    </tr>\n",
       "  </tbody>\n",
       "</table>\n",
       "</div>"
      ],
      "text/plain": [
       "  ENTIDAD_FEDERATIVA_RES  Recovered\n",
       "0         AGUASCALIENTES       7232\n",
       "1        BAJA CALIFORNIA      16844\n",
       "2    BAJA CALIFORNIA SUR      10401\n",
       "3               CAMPECHE       5271\n",
       "4                CHIAPAS       5522"
      ]
     },
     "execution_count": 41,
     "metadata": {},
     "output_type": "execute_result"
    }
   ],
   "source": [
    "recuperados = data.loc[(data['Status'].isin(['Alive']))]\n",
    "recovered = recuperados.groupby(['ENTIDAD_FEDERATIVA_RES'],as_index=False)['ID_REGISTRO'].count()\n",
    "recovered = recovered.rename(columns={'ID_REGISTRO':'Recovered'})\n",
    "recovered.head()"
   ]
  },
  {
   "cell_type": "code",
   "execution_count": 42,
   "metadata": {},
   "outputs": [
    {
     "data": {
      "text/html": [
       "<div>\n",
       "<style scoped>\n",
       "    .dataframe tbody tr th:only-of-type {\n",
       "        vertical-align: middle;\n",
       "    }\n",
       "\n",
       "    .dataframe tbody tr th {\n",
       "        vertical-align: top;\n",
       "    }\n",
       "\n",
       "    .dataframe thead th {\n",
       "        text-align: right;\n",
       "    }\n",
       "</style>\n",
       "<table border=\"1\" class=\"dataframe\">\n",
       "  <thead>\n",
       "    <tr style=\"text-align: right;\">\n",
       "      <th></th>\n",
       "      <th>ENTIDAD_FEDERATIVA_RES</th>\n",
       "      <th>Active</th>\n",
       "    </tr>\n",
       "  </thead>\n",
       "  <tbody>\n",
       "    <tr>\n",
       "      <th>0</th>\n",
       "      <td>AGUASCALIENTES</td>\n",
       "      <td>734</td>\n",
       "    </tr>\n",
       "    <tr>\n",
       "      <th>1</th>\n",
       "      <td>BAJA CALIFORNIA</td>\n",
       "      <td>675</td>\n",
       "    </tr>\n",
       "    <tr>\n",
       "      <th>2</th>\n",
       "      <td>BAJA CALIFORNIA SUR</td>\n",
       "      <td>899</td>\n",
       "    </tr>\n",
       "    <tr>\n",
       "      <th>3</th>\n",
       "      <td>CAMPECHE</td>\n",
       "      <td>95</td>\n",
       "    </tr>\n",
       "    <tr>\n",
       "      <th>4</th>\n",
       "      <td>CHIAPAS</td>\n",
       "      <td>85</td>\n",
       "    </tr>\n",
       "  </tbody>\n",
       "</table>\n",
       "</div>"
      ],
      "text/plain": [
       "  ENTIDAD_FEDERATIVA_RES  Active\n",
       "0         AGUASCALIENTES     734\n",
       "1        BAJA CALIFORNIA     675\n",
       "2    BAJA CALIFORNIA SUR     899\n",
       "3               CAMPECHE      95\n",
       "4                CHIAPAS      85"
      ]
     },
     "execution_count": 42,
     "metadata": {},
     "output_type": "execute_result"
    }
   ],
   "source": [
    "activos = data.loc[(data['Status'].isin(['Active']))]\n",
    "active = activos.groupby(['ENTIDAD_FEDERATIVA_RES'],as_index=False)['ID_REGISTRO'].count()\n",
    "active = active.rename(columns={'ID_REGISTRO':'Active'})\n",
    "active.head()"
   ]
  },
  {
   "cell_type": "code",
   "execution_count": 45,
   "metadata": {},
   "outputs": [
    {
     "data": {
      "text/html": [
       "<div>\n",
       "<style scoped>\n",
       "    .dataframe tbody tr th:only-of-type {\n",
       "        vertical-align: middle;\n",
       "    }\n",
       "\n",
       "    .dataframe tbody tr th {\n",
       "        vertical-align: top;\n",
       "    }\n",
       "\n",
       "    .dataframe thead th {\n",
       "        text-align: right;\n",
       "    }\n",
       "</style>\n",
       "<table border=\"1\" class=\"dataframe\">\n",
       "  <thead>\n",
       "    <tr style=\"text-align: right;\">\n",
       "      <th></th>\n",
       "      <th>ENTIDAD_FEDERATIVA_RES</th>\n",
       "      <th>Confirmed</th>\n",
       "      <th>Deceased</th>\n",
       "      <th>Recovered</th>\n",
       "      <th>Active</th>\n",
       "    </tr>\n",
       "  </thead>\n",
       "  <tbody>\n",
       "    <tr>\n",
       "      <th>0</th>\n",
       "      <td>AGUASCALIENTES</td>\n",
       "      <td>8717</td>\n",
       "      <td>751</td>\n",
       "      <td>7232</td>\n",
       "      <td>734</td>\n",
       "    </tr>\n",
       "    <tr>\n",
       "      <th>1</th>\n",
       "      <td>BAJA CALIFORNIA</td>\n",
       "      <td>21303</td>\n",
       "      <td>3784</td>\n",
       "      <td>16844</td>\n",
       "      <td>675</td>\n",
       "    </tr>\n",
       "    <tr>\n",
       "      <th>2</th>\n",
       "      <td>BAJA CALIFORNIA SUR</td>\n",
       "      <td>11879</td>\n",
       "      <td>579</td>\n",
       "      <td>10401</td>\n",
       "      <td>899</td>\n",
       "    </tr>\n",
       "    <tr>\n",
       "      <th>3</th>\n",
       "      <td>CAMPECHE</td>\n",
       "      <td>6203</td>\n",
       "      <td>837</td>\n",
       "      <td>5271</td>\n",
       "      <td>95</td>\n",
       "    </tr>\n",
       "    <tr>\n",
       "      <th>4</th>\n",
       "      <td>CHIAPAS</td>\n",
       "      <td>6713</td>\n",
       "      <td>1106</td>\n",
       "      <td>5522</td>\n",
       "      <td>85</td>\n",
       "    </tr>\n",
       "    <tr>\n",
       "      <th>5</th>\n",
       "      <td>CHIHUAHUA</td>\n",
       "      <td>15172</td>\n",
       "      <td>1703</td>\n",
       "      <td>12031</td>\n",
       "      <td>1438</td>\n",
       "    </tr>\n",
       "    <tr>\n",
       "      <th>6</th>\n",
       "      <td>CIUDAD DE MÉXICO</td>\n",
       "      <td>148117</td>\n",
       "      <td>10457</td>\n",
       "      <td>127890</td>\n",
       "      <td>9770</td>\n",
       "    </tr>\n",
       "    <tr>\n",
       "      <th>7</th>\n",
       "      <td>COAHUILA DE ZARAGOZA</td>\n",
       "      <td>30971</td>\n",
       "      <td>2156</td>\n",
       "      <td>26437</td>\n",
       "      <td>2378</td>\n",
       "    </tr>\n",
       "    <tr>\n",
       "      <th>8</th>\n",
       "      <td>COLIMA</td>\n",
       "      <td>6007</td>\n",
       "      <td>652</td>\n",
       "      <td>4832</td>\n",
       "      <td>523</td>\n",
       "    </tr>\n",
       "    <tr>\n",
       "      <th>9</th>\n",
       "      <td>DURANGO</td>\n",
       "      <td>11844</td>\n",
       "      <td>743</td>\n",
       "      <td>9409</td>\n",
       "      <td>1692</td>\n",
       "    </tr>\n",
       "    <tr>\n",
       "      <th>10</th>\n",
       "      <td>GUANAJUATO</td>\n",
       "      <td>45745</td>\n",
       "      <td>3263</td>\n",
       "      <td>39914</td>\n",
       "      <td>2568</td>\n",
       "    </tr>\n",
       "    <tr>\n",
       "      <th>11</th>\n",
       "      <td>GUERRERO</td>\n",
       "      <td>21473</td>\n",
       "      <td>2144</td>\n",
       "      <td>18300</td>\n",
       "      <td>1029</td>\n",
       "    </tr>\n",
       "    <tr>\n",
       "      <th>12</th>\n",
       "      <td>HIDALGO</td>\n",
       "      <td>14534</td>\n",
       "      <td>2175</td>\n",
       "      <td>11293</td>\n",
       "      <td>1066</td>\n",
       "    </tr>\n",
       "    <tr>\n",
       "      <th>13</th>\n",
       "      <td>JALISCO</td>\n",
       "      <td>32164</td>\n",
       "      <td>3800</td>\n",
       "      <td>25620</td>\n",
       "      <td>2744</td>\n",
       "    </tr>\n",
       "    <tr>\n",
       "      <th>14</th>\n",
       "      <td>MICHOACÁN DE OCAMPO</td>\n",
       "      <td>23848</td>\n",
       "      <td>1944</td>\n",
       "      <td>20667</td>\n",
       "      <td>1237</td>\n",
       "    </tr>\n",
       "    <tr>\n",
       "      <th>15</th>\n",
       "      <td>MORELOS</td>\n",
       "      <td>6561</td>\n",
       "      <td>1159</td>\n",
       "      <td>5078</td>\n",
       "      <td>324</td>\n",
       "    </tr>\n",
       "    <tr>\n",
       "      <th>16</th>\n",
       "      <td>MÉXICO</td>\n",
       "      <td>90278</td>\n",
       "      <td>12575</td>\n",
       "      <td>74167</td>\n",
       "      <td>3536</td>\n",
       "    </tr>\n",
       "    <tr>\n",
       "      <th>17</th>\n",
       "      <td>NAYARIT</td>\n",
       "      <td>6481</td>\n",
       "      <td>831</td>\n",
       "      <td>5347</td>\n",
       "      <td>303</td>\n",
       "    </tr>\n",
       "    <tr>\n",
       "      <th>18</th>\n",
       "      <td>NUEVO LEÓN</td>\n",
       "      <td>49218</td>\n",
       "      <td>3629</td>\n",
       "      <td>40660</td>\n",
       "      <td>4929</td>\n",
       "    </tr>\n",
       "    <tr>\n",
       "      <th>19</th>\n",
       "      <td>OAXACA</td>\n",
       "      <td>19668</td>\n",
       "      <td>1595</td>\n",
       "      <td>16941</td>\n",
       "      <td>1132</td>\n",
       "    </tr>\n",
       "    <tr>\n",
       "      <th>20</th>\n",
       "      <td>PUEBLA</td>\n",
       "      <td>33709</td>\n",
       "      <td>4312</td>\n",
       "      <td>28029</td>\n",
       "      <td>1368</td>\n",
       "    </tr>\n",
       "    <tr>\n",
       "      <th>21</th>\n",
       "      <td>QUERÉTARO</td>\n",
       "      <td>12121</td>\n",
       "      <td>1082</td>\n",
       "      <td>8995</td>\n",
       "      <td>2044</td>\n",
       "    </tr>\n",
       "    <tr>\n",
       "      <th>22</th>\n",
       "      <td>QUINTANA ROO</td>\n",
       "      <td>12846</td>\n",
       "      <td>1765</td>\n",
       "      <td>10623</td>\n",
       "      <td>458</td>\n",
       "    </tr>\n",
       "    <tr>\n",
       "      <th>23</th>\n",
       "      <td>SAN LUIS POTOSÍ</td>\n",
       "      <td>26843</td>\n",
       "      <td>1906</td>\n",
       "      <td>23265</td>\n",
       "      <td>1672</td>\n",
       "    </tr>\n",
       "    <tr>\n",
       "      <th>24</th>\n",
       "      <td>SINALOA</td>\n",
       "      <td>20677</td>\n",
       "      <td>3448</td>\n",
       "      <td>16350</td>\n",
       "      <td>879</td>\n",
       "    </tr>\n",
       "    <tr>\n",
       "      <th>25</th>\n",
       "      <td>SONORA</td>\n",
       "      <td>26354</td>\n",
       "      <td>3028</td>\n",
       "      <td>22598</td>\n",
       "      <td>728</td>\n",
       "    </tr>\n",
       "    <tr>\n",
       "      <th>26</th>\n",
       "      <td>TABASCO</td>\n",
       "      <td>33633</td>\n",
       "      <td>2852</td>\n",
       "      <td>29838</td>\n",
       "      <td>943</td>\n",
       "    </tr>\n",
       "    <tr>\n",
       "      <th>27</th>\n",
       "      <td>TAMAULIPAS</td>\n",
       "      <td>31016</td>\n",
       "      <td>2488</td>\n",
       "      <td>27642</td>\n",
       "      <td>886</td>\n",
       "    </tr>\n",
       "    <tr>\n",
       "      <th>28</th>\n",
       "      <td>TLAXCALA</td>\n",
       "      <td>8164</td>\n",
       "      <td>1165</td>\n",
       "      <td>6735</td>\n",
       "      <td>264</td>\n",
       "    </tr>\n",
       "    <tr>\n",
       "      <th>29</th>\n",
       "      <td>VERACRUZ DE IGNACIO DE LA LLAVE</td>\n",
       "      <td>35930</td>\n",
       "      <td>4701</td>\n",
       "      <td>30101</td>\n",
       "      <td>1128</td>\n",
       "    </tr>\n",
       "    <tr>\n",
       "      <th>30</th>\n",
       "      <td>YUCATÁN</td>\n",
       "      <td>20470</td>\n",
       "      <td>1719</td>\n",
       "      <td>17454</td>\n",
       "      <td>1297</td>\n",
       "    </tr>\n",
       "    <tr>\n",
       "      <th>31</th>\n",
       "      <td>ZACATECAS</td>\n",
       "      <td>9721</td>\n",
       "      <td>867</td>\n",
       "      <td>7325</td>\n",
       "      <td>1529</td>\n",
       "    </tr>\n",
       "  </tbody>\n",
       "</table>\n",
       "</div>"
      ],
      "text/plain": [
       "             ENTIDAD_FEDERATIVA_RES  Confirmed  Deceased  Recovered  Active\n",
       "0                    AGUASCALIENTES       8717       751       7232     734\n",
       "1                   BAJA CALIFORNIA      21303      3784      16844     675\n",
       "2               BAJA CALIFORNIA SUR      11879       579      10401     899\n",
       "3                          CAMPECHE       6203       837       5271      95\n",
       "4                           CHIAPAS       6713      1106       5522      85\n",
       "5                         CHIHUAHUA      15172      1703      12031    1438\n",
       "6                  CIUDAD DE MÉXICO     148117     10457     127890    9770\n",
       "7              COAHUILA DE ZARAGOZA      30971      2156      26437    2378\n",
       "8                            COLIMA       6007       652       4832     523\n",
       "9                           DURANGO      11844       743       9409    1692\n",
       "10                       GUANAJUATO      45745      3263      39914    2568\n",
       "11                         GUERRERO      21473      2144      18300    1029\n",
       "12                          HIDALGO      14534      2175      11293    1066\n",
       "13                          JALISCO      32164      3800      25620    2744\n",
       "14              MICHOACÁN DE OCAMPO      23848      1944      20667    1237\n",
       "15                          MORELOS       6561      1159       5078     324\n",
       "16                           MÉXICO      90278     12575      74167    3536\n",
       "17                          NAYARIT       6481       831       5347     303\n",
       "18                       NUEVO LEÓN      49218      3629      40660    4929\n",
       "19                           OAXACA      19668      1595      16941    1132\n",
       "20                           PUEBLA      33709      4312      28029    1368\n",
       "21                        QUERÉTARO      12121      1082       8995    2044\n",
       "22                     QUINTANA ROO      12846      1765      10623     458\n",
       "23                  SAN LUIS POTOSÍ      26843      1906      23265    1672\n",
       "24                          SINALOA      20677      3448      16350     879\n",
       "25                           SONORA      26354      3028      22598     728\n",
       "26                          TABASCO      33633      2852      29838     943\n",
       "27                       TAMAULIPAS      31016      2488      27642     886\n",
       "28                         TLAXCALA       8164      1165       6735     264\n",
       "29  VERACRUZ DE IGNACIO DE LA LLAVE      35930      4701      30101    1128\n",
       "30                          YUCATÁN      20470      1719      17454    1297\n",
       "31                        ZACATECAS       9721       867       7325    1529"
      ]
     },
     "execution_count": 45,
     "metadata": {},
     "output_type": "execute_result"
    }
   ],
   "source": [
    "newData=pd.merge(confirm,deceased)\n",
    "newData=pd.merge(newData,recovered)\n",
    "newData=pd.merge(newData,active)\n",
    "newData.head(32)"
   ]
  },
  {
   "cell_type": "code",
   "execution_count": 47,
   "metadata": {},
   "outputs": [
    {
     "data": {
      "text/html": [
       "<div>\n",
       "<style scoped>\n",
       "    .dataframe tbody tr th:only-of-type {\n",
       "        vertical-align: middle;\n",
       "    }\n",
       "\n",
       "    .dataframe tbody tr th {\n",
       "        vertical-align: top;\n",
       "    }\n",
       "\n",
       "    .dataframe thead th {\n",
       "        text-align: right;\n",
       "    }\n",
       "</style>\n",
       "<table border=\"1\" class=\"dataframe\">\n",
       "  <thead>\n",
       "    <tr style=\"text-align: right;\">\n",
       "      <th></th>\n",
       "      <th>ENTIDAD_FEDERATIVA_RES</th>\n",
       "      <th>Confirmed</th>\n",
       "      <th>Deceased</th>\n",
       "      <th>Recovered</th>\n",
       "      <th>Active</th>\n",
       "      <th>Mortality_Rate</th>\n",
       "      <th>Recovery_Rate</th>\n",
       "    </tr>\n",
       "  </thead>\n",
       "  <tbody>\n",
       "    <tr>\n",
       "      <th>0</th>\n",
       "      <td>AGUASCALIENTES</td>\n",
       "      <td>8717</td>\n",
       "      <td>751</td>\n",
       "      <td>7232</td>\n",
       "      <td>734</td>\n",
       "      <td>8.615349</td>\n",
       "      <td>82.964323</td>\n",
       "    </tr>\n",
       "    <tr>\n",
       "      <th>1</th>\n",
       "      <td>BAJA CALIFORNIA</td>\n",
       "      <td>21303</td>\n",
       "      <td>3784</td>\n",
       "      <td>16844</td>\n",
       "      <td>675</td>\n",
       "      <td>17.762756</td>\n",
       "      <td>79.068676</td>\n",
       "    </tr>\n",
       "    <tr>\n",
       "      <th>2</th>\n",
       "      <td>BAJA CALIFORNIA SUR</td>\n",
       "      <td>11879</td>\n",
       "      <td>579</td>\n",
       "      <td>10401</td>\n",
       "      <td>899</td>\n",
       "      <td>4.874148</td>\n",
       "      <td>87.557875</td>\n",
       "    </tr>\n",
       "    <tr>\n",
       "      <th>3</th>\n",
       "      <td>CAMPECHE</td>\n",
       "      <td>6203</td>\n",
       "      <td>837</td>\n",
       "      <td>5271</td>\n",
       "      <td>95</td>\n",
       "      <td>13.493471</td>\n",
       "      <td>84.975012</td>\n",
       "    </tr>\n",
       "    <tr>\n",
       "      <th>4</th>\n",
       "      <td>CHIAPAS</td>\n",
       "      <td>6713</td>\n",
       "      <td>1106</td>\n",
       "      <td>5522</td>\n",
       "      <td>85</td>\n",
       "      <td>16.475495</td>\n",
       "      <td>82.258305</td>\n",
       "    </tr>\n",
       "    <tr>\n",
       "      <th>5</th>\n",
       "      <td>CHIHUAHUA</td>\n",
       "      <td>15172</td>\n",
       "      <td>1703</td>\n",
       "      <td>12031</td>\n",
       "      <td>1438</td>\n",
       "      <td>11.224624</td>\n",
       "      <td>79.297390</td>\n",
       "    </tr>\n",
       "    <tr>\n",
       "      <th>6</th>\n",
       "      <td>CIUDAD DE MÉXICO</td>\n",
       "      <td>148117</td>\n",
       "      <td>10457</td>\n",
       "      <td>127890</td>\n",
       "      <td>9770</td>\n",
       "      <td>7.059959</td>\n",
       "      <td>86.343904</td>\n",
       "    </tr>\n",
       "    <tr>\n",
       "      <th>7</th>\n",
       "      <td>COAHUILA DE ZARAGOZA</td>\n",
       "      <td>30971</td>\n",
       "      <td>2156</td>\n",
       "      <td>26437</td>\n",
       "      <td>2378</td>\n",
       "      <td>6.961351</td>\n",
       "      <td>85.360499</td>\n",
       "    </tr>\n",
       "    <tr>\n",
       "      <th>8</th>\n",
       "      <td>COLIMA</td>\n",
       "      <td>6007</td>\n",
       "      <td>652</td>\n",
       "      <td>4832</td>\n",
       "      <td>523</td>\n",
       "      <td>10.854004</td>\n",
       "      <td>80.439487</td>\n",
       "    </tr>\n",
       "    <tr>\n",
       "      <th>9</th>\n",
       "      <td>DURANGO</td>\n",
       "      <td>11844</td>\n",
       "      <td>743</td>\n",
       "      <td>9409</td>\n",
       "      <td>1692</td>\n",
       "      <td>6.273219</td>\n",
       "      <td>79.441067</td>\n",
       "    </tr>\n",
       "    <tr>\n",
       "      <th>10</th>\n",
       "      <td>GUANAJUATO</td>\n",
       "      <td>45745</td>\n",
       "      <td>3263</td>\n",
       "      <td>39914</td>\n",
       "      <td>2568</td>\n",
       "      <td>7.133020</td>\n",
       "      <td>87.253252</td>\n",
       "    </tr>\n",
       "    <tr>\n",
       "      <th>11</th>\n",
       "      <td>GUERRERO</td>\n",
       "      <td>21473</td>\n",
       "      <td>2144</td>\n",
       "      <td>18300</td>\n",
       "      <td>1029</td>\n",
       "      <td>9.984632</td>\n",
       "      <td>85.223304</td>\n",
       "    </tr>\n",
       "    <tr>\n",
       "      <th>12</th>\n",
       "      <td>HIDALGO</td>\n",
       "      <td>14534</td>\n",
       "      <td>2175</td>\n",
       "      <td>11293</td>\n",
       "      <td>1066</td>\n",
       "      <td>14.964910</td>\n",
       "      <td>77.700564</td>\n",
       "    </tr>\n",
       "    <tr>\n",
       "      <th>13</th>\n",
       "      <td>JALISCO</td>\n",
       "      <td>32164</td>\n",
       "      <td>3800</td>\n",
       "      <td>25620</td>\n",
       "      <td>2744</td>\n",
       "      <td>11.814451</td>\n",
       "      <td>79.654272</td>\n",
       "    </tr>\n",
       "    <tr>\n",
       "      <th>14</th>\n",
       "      <td>MICHOACÁN DE OCAMPO</td>\n",
       "      <td>23848</td>\n",
       "      <td>1944</td>\n",
       "      <td>20667</td>\n",
       "      <td>1237</td>\n",
       "      <td>8.151627</td>\n",
       "      <td>86.661355</td>\n",
       "    </tr>\n",
       "    <tr>\n",
       "      <th>15</th>\n",
       "      <td>MORELOS</td>\n",
       "      <td>6561</td>\n",
       "      <td>1159</td>\n",
       "      <td>5078</td>\n",
       "      <td>324</td>\n",
       "      <td>17.664990</td>\n",
       "      <td>77.396738</td>\n",
       "    </tr>\n",
       "    <tr>\n",
       "      <th>16</th>\n",
       "      <td>MÉXICO</td>\n",
       "      <td>90278</td>\n",
       "      <td>12575</td>\n",
       "      <td>74167</td>\n",
       "      <td>3536</td>\n",
       "      <td>13.929196</td>\n",
       "      <td>82.154013</td>\n",
       "    </tr>\n",
       "    <tr>\n",
       "      <th>17</th>\n",
       "      <td>NAYARIT</td>\n",
       "      <td>6481</td>\n",
       "      <td>831</td>\n",
       "      <td>5347</td>\n",
       "      <td>303</td>\n",
       "      <td>12.822095</td>\n",
       "      <td>82.502700</td>\n",
       "    </tr>\n",
       "    <tr>\n",
       "      <th>18</th>\n",
       "      <td>NUEVO LEÓN</td>\n",
       "      <td>49218</td>\n",
       "      <td>3629</td>\n",
       "      <td>40660</td>\n",
       "      <td>4929</td>\n",
       "      <td>7.373319</td>\n",
       "      <td>82.612053</td>\n",
       "    </tr>\n",
       "    <tr>\n",
       "      <th>19</th>\n",
       "      <td>OAXACA</td>\n",
       "      <td>19668</td>\n",
       "      <td>1595</td>\n",
       "      <td>16941</td>\n",
       "      <td>1132</td>\n",
       "      <td>8.109620</td>\n",
       "      <td>86.134838</td>\n",
       "    </tr>\n",
       "    <tr>\n",
       "      <th>20</th>\n",
       "      <td>PUEBLA</td>\n",
       "      <td>33709</td>\n",
       "      <td>4312</td>\n",
       "      <td>28029</td>\n",
       "      <td>1368</td>\n",
       "      <td>12.791836</td>\n",
       "      <td>83.149901</td>\n",
       "    </tr>\n",
       "    <tr>\n",
       "      <th>21</th>\n",
       "      <td>QUERÉTARO</td>\n",
       "      <td>12121</td>\n",
       "      <td>1082</td>\n",
       "      <td>8995</td>\n",
       "      <td>2044</td>\n",
       "      <td>8.926656</td>\n",
       "      <td>74.210049</td>\n",
       "    </tr>\n",
       "    <tr>\n",
       "      <th>22</th>\n",
       "      <td>QUINTANA ROO</td>\n",
       "      <td>12846</td>\n",
       "      <td>1765</td>\n",
       "      <td>10623</td>\n",
       "      <td>458</td>\n",
       "      <td>13.739686</td>\n",
       "      <td>82.695002</td>\n",
       "    </tr>\n",
       "    <tr>\n",
       "      <th>23</th>\n",
       "      <td>SAN LUIS POTOSÍ</td>\n",
       "      <td>26843</td>\n",
       "      <td>1906</td>\n",
       "      <td>23265</td>\n",
       "      <td>1672</td>\n",
       "      <td>7.100548</td>\n",
       "      <td>86.670640</td>\n",
       "    </tr>\n",
       "    <tr>\n",
       "      <th>24</th>\n",
       "      <td>SINALOA</td>\n",
       "      <td>20677</td>\n",
       "      <td>3448</td>\n",
       "      <td>16350</td>\n",
       "      <td>879</td>\n",
       "      <td>16.675533</td>\n",
       "      <td>79.073367</td>\n",
       "    </tr>\n",
       "    <tr>\n",
       "      <th>25</th>\n",
       "      <td>SONORA</td>\n",
       "      <td>26354</td>\n",
       "      <td>3028</td>\n",
       "      <td>22598</td>\n",
       "      <td>728</td>\n",
       "      <td>11.489717</td>\n",
       "      <td>85.747894</td>\n",
       "    </tr>\n",
       "    <tr>\n",
       "      <th>26</th>\n",
       "      <td>TABASCO</td>\n",
       "      <td>33633</td>\n",
       "      <td>2852</td>\n",
       "      <td>29838</td>\n",
       "      <td>943</td>\n",
       "      <td>8.479767</td>\n",
       "      <td>88.716439</td>\n",
       "    </tr>\n",
       "    <tr>\n",
       "      <th>27</th>\n",
       "      <td>TAMAULIPAS</td>\n",
       "      <td>31016</td>\n",
       "      <td>2488</td>\n",
       "      <td>27642</td>\n",
       "      <td>886</td>\n",
       "      <td>8.021666</td>\n",
       "      <td>89.121744</td>\n",
       "    </tr>\n",
       "    <tr>\n",
       "      <th>28</th>\n",
       "      <td>TLAXCALA</td>\n",
       "      <td>8164</td>\n",
       "      <td>1165</td>\n",
       "      <td>6735</td>\n",
       "      <td>264</td>\n",
       "      <td>14.269966</td>\n",
       "      <td>82.496325</td>\n",
       "    </tr>\n",
       "    <tr>\n",
       "      <th>29</th>\n",
       "      <td>VERACRUZ DE IGNACIO DE LA LLAVE</td>\n",
       "      <td>35930</td>\n",
       "      <td>4701</td>\n",
       "      <td>30101</td>\n",
       "      <td>1128</td>\n",
       "      <td>13.083774</td>\n",
       "      <td>83.776788</td>\n",
       "    </tr>\n",
       "    <tr>\n",
       "      <th>30</th>\n",
       "      <td>YUCATÁN</td>\n",
       "      <td>20470</td>\n",
       "      <td>1719</td>\n",
       "      <td>17454</td>\n",
       "      <td>1297</td>\n",
       "      <td>8.397655</td>\n",
       "      <td>85.266243</td>\n",
       "    </tr>\n",
       "    <tr>\n",
       "      <th>31</th>\n",
       "      <td>ZACATECAS</td>\n",
       "      <td>9721</td>\n",
       "      <td>867</td>\n",
       "      <td>7325</td>\n",
       "      <td>1529</td>\n",
       "      <td>8.918836</td>\n",
       "      <td>75.352330</td>\n",
       "    </tr>\n",
       "  </tbody>\n",
       "</table>\n",
       "</div>"
      ],
      "text/plain": [
       "             ENTIDAD_FEDERATIVA_RES  Confirmed  Deceased  Recovered  Active  \\\n",
       "0                    AGUASCALIENTES       8717       751       7232     734   \n",
       "1                   BAJA CALIFORNIA      21303      3784      16844     675   \n",
       "2               BAJA CALIFORNIA SUR      11879       579      10401     899   \n",
       "3                          CAMPECHE       6203       837       5271      95   \n",
       "4                           CHIAPAS       6713      1106       5522      85   \n",
       "5                         CHIHUAHUA      15172      1703      12031    1438   \n",
       "6                  CIUDAD DE MÉXICO     148117     10457     127890    9770   \n",
       "7              COAHUILA DE ZARAGOZA      30971      2156      26437    2378   \n",
       "8                            COLIMA       6007       652       4832     523   \n",
       "9                           DURANGO      11844       743       9409    1692   \n",
       "10                       GUANAJUATO      45745      3263      39914    2568   \n",
       "11                         GUERRERO      21473      2144      18300    1029   \n",
       "12                          HIDALGO      14534      2175      11293    1066   \n",
       "13                          JALISCO      32164      3800      25620    2744   \n",
       "14              MICHOACÁN DE OCAMPO      23848      1944      20667    1237   \n",
       "15                          MORELOS       6561      1159       5078     324   \n",
       "16                           MÉXICO      90278     12575      74167    3536   \n",
       "17                          NAYARIT       6481       831       5347     303   \n",
       "18                       NUEVO LEÓN      49218      3629      40660    4929   \n",
       "19                           OAXACA      19668      1595      16941    1132   \n",
       "20                           PUEBLA      33709      4312      28029    1368   \n",
       "21                        QUERÉTARO      12121      1082       8995    2044   \n",
       "22                     QUINTANA ROO      12846      1765      10623     458   \n",
       "23                  SAN LUIS POTOSÍ      26843      1906      23265    1672   \n",
       "24                          SINALOA      20677      3448      16350     879   \n",
       "25                           SONORA      26354      3028      22598     728   \n",
       "26                          TABASCO      33633      2852      29838     943   \n",
       "27                       TAMAULIPAS      31016      2488      27642     886   \n",
       "28                         TLAXCALA       8164      1165       6735     264   \n",
       "29  VERACRUZ DE IGNACIO DE LA LLAVE      35930      4701      30101    1128   \n",
       "30                          YUCATÁN      20470      1719      17454    1297   \n",
       "31                        ZACATECAS       9721       867       7325    1529   \n",
       "\n",
       "    Mortality_Rate  Recovery_Rate  \n",
       "0         8.615349      82.964323  \n",
       "1        17.762756      79.068676  \n",
       "2         4.874148      87.557875  \n",
       "3        13.493471      84.975012  \n",
       "4        16.475495      82.258305  \n",
       "5        11.224624      79.297390  \n",
       "6         7.059959      86.343904  \n",
       "7         6.961351      85.360499  \n",
       "8        10.854004      80.439487  \n",
       "9         6.273219      79.441067  \n",
       "10        7.133020      87.253252  \n",
       "11        9.984632      85.223304  \n",
       "12       14.964910      77.700564  \n",
       "13       11.814451      79.654272  \n",
       "14        8.151627      86.661355  \n",
       "15       17.664990      77.396738  \n",
       "16       13.929196      82.154013  \n",
       "17       12.822095      82.502700  \n",
       "18        7.373319      82.612053  \n",
       "19        8.109620      86.134838  \n",
       "20       12.791836      83.149901  \n",
       "21        8.926656      74.210049  \n",
       "22       13.739686      82.695002  \n",
       "23        7.100548      86.670640  \n",
       "24       16.675533      79.073367  \n",
       "25       11.489717      85.747894  \n",
       "26        8.479767      88.716439  \n",
       "27        8.021666      89.121744  \n",
       "28       14.269966      82.496325  \n",
       "29       13.083774      83.776788  \n",
       "30        8.397655      85.266243  \n",
       "31        8.918836      75.352330  "
      ]
     },
     "execution_count": 47,
     "metadata": {},
     "output_type": "execute_result"
    }
   ],
   "source": [
    "newData['Mortality_Rate']=newData['Deceased']/newData['Confirmed'] * 100\n",
    "newData['Recovery_Rate']=newData['Recovered']/newData['Confirmed'] * 100\n",
    "newData.head(32)"
   ]
  },
  {
   "cell_type": "code",
   "execution_count": 48,
   "metadata": {},
   "outputs": [
    {
     "data": {
      "text/plain": [
       "ENTIDAD_FEDERATIVA_RES    AGUASCALIENTESBAJA CALIFORNIABAJA CALIFORNIA S...\n",
       "Confirmed                                                            848380\n",
       "Deceased                                                              85216\n",
       "Recovered                                                            712811\n",
       "Active                                                                50353\n",
       "Mortality_Rate                                                      347.438\n",
       "Recovery_Rate                                                       2651.28\n",
       "dtype: object"
      ]
     },
     "execution_count": 48,
     "metadata": {},
     "output_type": "execute_result"
    }
   ],
   "source": [
    "newData.sum()"
   ]
  },
  {
   "cell_type": "code",
   "execution_count": null,
   "metadata": {},
   "outputs": [],
   "source": [
    "newData=newData.sort_values(by=['CONFIRMED'],ascending=False)"
   ]
  },
  {
   "cell_type": "code",
   "execution_count": 53,
   "metadata": {},
   "outputs": [
    {
     "data": {
      "application/vnd.plotly.v1+json": {
       "config": {
        "plotlyServerURL": "https://plot.ly"
       },
       "data": [
        {
         "branchvalues": "total",
         "domain": {
          "x": [
           0,
           1
          ],
          "y": [
           0,
           1
          ]
         },
         "hovertemplate": "labels=%{label}<br>value=%{value}<br>parent=%{parent}<br>id=%{id}<extra></extra>",
         "ids": [
          "Active",
          "Deceased",
          "Recovered"
         ],
         "labels": [
          "Active",
          "Deceased",
          "Recovered"
         ],
         "name": "",
         "parents": [
          "",
          "",
          ""
         ],
         "textinfo": "label+text+value",
         "type": "treemap",
         "values": [
          50353,
          85216,
          712811
         ]
        }
       ],
       "layout": {
        "height": 250,
        "legend": {
         "tracegroupgap": 0
        },
        "template": {
         "data": {
          "bar": [
           {
            "error_x": {
             "color": "#2a3f5f"
            },
            "error_y": {
             "color": "#2a3f5f"
            },
            "marker": {
             "line": {
              "color": "#E5ECF6",
              "width": 0.5
             }
            },
            "type": "bar"
           }
          ],
          "barpolar": [
           {
            "marker": {
             "line": {
              "color": "#E5ECF6",
              "width": 0.5
             }
            },
            "type": "barpolar"
           }
          ],
          "carpet": [
           {
            "aaxis": {
             "endlinecolor": "#2a3f5f",
             "gridcolor": "white",
             "linecolor": "white",
             "minorgridcolor": "white",
             "startlinecolor": "#2a3f5f"
            },
            "baxis": {
             "endlinecolor": "#2a3f5f",
             "gridcolor": "white",
             "linecolor": "white",
             "minorgridcolor": "white",
             "startlinecolor": "#2a3f5f"
            },
            "type": "carpet"
           }
          ],
          "choropleth": [
           {
            "colorbar": {
             "outlinewidth": 0,
             "ticks": ""
            },
            "type": "choropleth"
           }
          ],
          "contour": [
           {
            "colorbar": {
             "outlinewidth": 0,
             "ticks": ""
            },
            "colorscale": [
             [
              0,
              "#0d0887"
             ],
             [
              0.1111111111111111,
              "#46039f"
             ],
             [
              0.2222222222222222,
              "#7201a8"
             ],
             [
              0.3333333333333333,
              "#9c179e"
             ],
             [
              0.4444444444444444,
              "#bd3786"
             ],
             [
              0.5555555555555556,
              "#d8576b"
             ],
             [
              0.6666666666666666,
              "#ed7953"
             ],
             [
              0.7777777777777778,
              "#fb9f3a"
             ],
             [
              0.8888888888888888,
              "#fdca26"
             ],
             [
              1,
              "#f0f921"
             ]
            ],
            "type": "contour"
           }
          ],
          "contourcarpet": [
           {
            "colorbar": {
             "outlinewidth": 0,
             "ticks": ""
            },
            "type": "contourcarpet"
           }
          ],
          "heatmap": [
           {
            "colorbar": {
             "outlinewidth": 0,
             "ticks": ""
            },
            "colorscale": [
             [
              0,
              "#0d0887"
             ],
             [
              0.1111111111111111,
              "#46039f"
             ],
             [
              0.2222222222222222,
              "#7201a8"
             ],
             [
              0.3333333333333333,
              "#9c179e"
             ],
             [
              0.4444444444444444,
              "#bd3786"
             ],
             [
              0.5555555555555556,
              "#d8576b"
             ],
             [
              0.6666666666666666,
              "#ed7953"
             ],
             [
              0.7777777777777778,
              "#fb9f3a"
             ],
             [
              0.8888888888888888,
              "#fdca26"
             ],
             [
              1,
              "#f0f921"
             ]
            ],
            "type": "heatmap"
           }
          ],
          "heatmapgl": [
           {
            "colorbar": {
             "outlinewidth": 0,
             "ticks": ""
            },
            "colorscale": [
             [
              0,
              "#0d0887"
             ],
             [
              0.1111111111111111,
              "#46039f"
             ],
             [
              0.2222222222222222,
              "#7201a8"
             ],
             [
              0.3333333333333333,
              "#9c179e"
             ],
             [
              0.4444444444444444,
              "#bd3786"
             ],
             [
              0.5555555555555556,
              "#d8576b"
             ],
             [
              0.6666666666666666,
              "#ed7953"
             ],
             [
              0.7777777777777778,
              "#fb9f3a"
             ],
             [
              0.8888888888888888,
              "#fdca26"
             ],
             [
              1,
              "#f0f921"
             ]
            ],
            "type": "heatmapgl"
           }
          ],
          "histogram": [
           {
            "marker": {
             "colorbar": {
              "outlinewidth": 0,
              "ticks": ""
             }
            },
            "type": "histogram"
           }
          ],
          "histogram2d": [
           {
            "colorbar": {
             "outlinewidth": 0,
             "ticks": ""
            },
            "colorscale": [
             [
              0,
              "#0d0887"
             ],
             [
              0.1111111111111111,
              "#46039f"
             ],
             [
              0.2222222222222222,
              "#7201a8"
             ],
             [
              0.3333333333333333,
              "#9c179e"
             ],
             [
              0.4444444444444444,
              "#bd3786"
             ],
             [
              0.5555555555555556,
              "#d8576b"
             ],
             [
              0.6666666666666666,
              "#ed7953"
             ],
             [
              0.7777777777777778,
              "#fb9f3a"
             ],
             [
              0.8888888888888888,
              "#fdca26"
             ],
             [
              1,
              "#f0f921"
             ]
            ],
            "type": "histogram2d"
           }
          ],
          "histogram2dcontour": [
           {
            "colorbar": {
             "outlinewidth": 0,
             "ticks": ""
            },
            "colorscale": [
             [
              0,
              "#0d0887"
             ],
             [
              0.1111111111111111,
              "#46039f"
             ],
             [
              0.2222222222222222,
              "#7201a8"
             ],
             [
              0.3333333333333333,
              "#9c179e"
             ],
             [
              0.4444444444444444,
              "#bd3786"
             ],
             [
              0.5555555555555556,
              "#d8576b"
             ],
             [
              0.6666666666666666,
              "#ed7953"
             ],
             [
              0.7777777777777778,
              "#fb9f3a"
             ],
             [
              0.8888888888888888,
              "#fdca26"
             ],
             [
              1,
              "#f0f921"
             ]
            ],
            "type": "histogram2dcontour"
           }
          ],
          "mesh3d": [
           {
            "colorbar": {
             "outlinewidth": 0,
             "ticks": ""
            },
            "type": "mesh3d"
           }
          ],
          "parcoords": [
           {
            "line": {
             "colorbar": {
              "outlinewidth": 0,
              "ticks": ""
             }
            },
            "type": "parcoords"
           }
          ],
          "pie": [
           {
            "automargin": true,
            "type": "pie"
           }
          ],
          "scatter": [
           {
            "marker": {
             "colorbar": {
              "outlinewidth": 0,
              "ticks": ""
             }
            },
            "type": "scatter"
           }
          ],
          "scatter3d": [
           {
            "line": {
             "colorbar": {
              "outlinewidth": 0,
              "ticks": ""
             }
            },
            "marker": {
             "colorbar": {
              "outlinewidth": 0,
              "ticks": ""
             }
            },
            "type": "scatter3d"
           }
          ],
          "scattercarpet": [
           {
            "marker": {
             "colorbar": {
              "outlinewidth": 0,
              "ticks": ""
             }
            },
            "type": "scattercarpet"
           }
          ],
          "scattergeo": [
           {
            "marker": {
             "colorbar": {
              "outlinewidth": 0,
              "ticks": ""
             }
            },
            "type": "scattergeo"
           }
          ],
          "scattergl": [
           {
            "marker": {
             "colorbar": {
              "outlinewidth": 0,
              "ticks": ""
             }
            },
            "type": "scattergl"
           }
          ],
          "scattermapbox": [
           {
            "marker": {
             "colorbar": {
              "outlinewidth": 0,
              "ticks": ""
             }
            },
            "type": "scattermapbox"
           }
          ],
          "scatterpolar": [
           {
            "marker": {
             "colorbar": {
              "outlinewidth": 0,
              "ticks": ""
             }
            },
            "type": "scatterpolar"
           }
          ],
          "scatterpolargl": [
           {
            "marker": {
             "colorbar": {
              "outlinewidth": 0,
              "ticks": ""
             }
            },
            "type": "scatterpolargl"
           }
          ],
          "scatterternary": [
           {
            "marker": {
             "colorbar": {
              "outlinewidth": 0,
              "ticks": ""
             }
            },
            "type": "scatterternary"
           }
          ],
          "surface": [
           {
            "colorbar": {
             "outlinewidth": 0,
             "ticks": ""
            },
            "colorscale": [
             [
              0,
              "#0d0887"
             ],
             [
              0.1111111111111111,
              "#46039f"
             ],
             [
              0.2222222222222222,
              "#7201a8"
             ],
             [
              0.3333333333333333,
              "#9c179e"
             ],
             [
              0.4444444444444444,
              "#bd3786"
             ],
             [
              0.5555555555555556,
              "#d8576b"
             ],
             [
              0.6666666666666666,
              "#ed7953"
             ],
             [
              0.7777777777777778,
              "#fb9f3a"
             ],
             [
              0.8888888888888888,
              "#fdca26"
             ],
             [
              1,
              "#f0f921"
             ]
            ],
            "type": "surface"
           }
          ],
          "table": [
           {
            "cells": {
             "fill": {
              "color": "#EBF0F8"
             },
             "line": {
              "color": "white"
             }
            },
            "header": {
             "fill": {
              "color": "#C8D4E3"
             },
             "line": {
              "color": "white"
             }
            },
            "type": "table"
           }
          ]
         },
         "layout": {
          "annotationdefaults": {
           "arrowcolor": "#2a3f5f",
           "arrowhead": 0,
           "arrowwidth": 1
          },
          "coloraxis": {
           "colorbar": {
            "outlinewidth": 0,
            "ticks": ""
           }
          },
          "colorscale": {
           "diverging": [
            [
             0,
             "#8e0152"
            ],
            [
             0.1,
             "#c51b7d"
            ],
            [
             0.2,
             "#de77ae"
            ],
            [
             0.3,
             "#f1b6da"
            ],
            [
             0.4,
             "#fde0ef"
            ],
            [
             0.5,
             "#f7f7f7"
            ],
            [
             0.6,
             "#e6f5d0"
            ],
            [
             0.7,
             "#b8e186"
            ],
            [
             0.8,
             "#7fbc41"
            ],
            [
             0.9,
             "#4d9221"
            ],
            [
             1,
             "#276419"
            ]
           ],
           "sequential": [
            [
             0,
             "#0d0887"
            ],
            [
             0.1111111111111111,
             "#46039f"
            ],
            [
             0.2222222222222222,
             "#7201a8"
            ],
            [
             0.3333333333333333,
             "#9c179e"
            ],
            [
             0.4444444444444444,
             "#bd3786"
            ],
            [
             0.5555555555555556,
             "#d8576b"
            ],
            [
             0.6666666666666666,
             "#ed7953"
            ],
            [
             0.7777777777777778,
             "#fb9f3a"
            ],
            [
             0.8888888888888888,
             "#fdca26"
            ],
            [
             1,
             "#f0f921"
            ]
           ],
           "sequentialminus": [
            [
             0,
             "#0d0887"
            ],
            [
             0.1111111111111111,
             "#46039f"
            ],
            [
             0.2222222222222222,
             "#7201a8"
            ],
            [
             0.3333333333333333,
             "#9c179e"
            ],
            [
             0.4444444444444444,
             "#bd3786"
            ],
            [
             0.5555555555555556,
             "#d8576b"
            ],
            [
             0.6666666666666666,
             "#ed7953"
            ],
            [
             0.7777777777777778,
             "#fb9f3a"
            ],
            [
             0.8888888888888888,
             "#fdca26"
            ],
            [
             1,
             "#f0f921"
            ]
           ]
          },
          "colorway": [
           "#636efa",
           "#EF553B",
           "#00cc96",
           "#ab63fa",
           "#FFA15A",
           "#19d3f3",
           "#FF6692",
           "#B6E880",
           "#FF97FF",
           "#FECB52"
          ],
          "font": {
           "color": "#2a3f5f"
          },
          "geo": {
           "bgcolor": "white",
           "lakecolor": "white",
           "landcolor": "#E5ECF6",
           "showlakes": true,
           "showland": true,
           "subunitcolor": "white"
          },
          "hoverlabel": {
           "align": "left"
          },
          "hovermode": "closest",
          "mapbox": {
           "style": "light"
          },
          "paper_bgcolor": "white",
          "plot_bgcolor": "#E5ECF6",
          "polar": {
           "angularaxis": {
            "gridcolor": "white",
            "linecolor": "white",
            "ticks": ""
           },
           "bgcolor": "#E5ECF6",
           "radialaxis": {
            "gridcolor": "white",
            "linecolor": "white",
            "ticks": ""
           }
          },
          "scene": {
           "xaxis": {
            "backgroundcolor": "#E5ECF6",
            "gridcolor": "white",
            "gridwidth": 2,
            "linecolor": "white",
            "showbackground": true,
            "ticks": "",
            "zerolinecolor": "white"
           },
           "yaxis": {
            "backgroundcolor": "#E5ECF6",
            "gridcolor": "white",
            "gridwidth": 2,
            "linecolor": "white",
            "showbackground": true,
            "ticks": "",
            "zerolinecolor": "white"
           },
           "zaxis": {
            "backgroundcolor": "#E5ECF6",
            "gridcolor": "white",
            "gridwidth": 2,
            "linecolor": "white",
            "showbackground": true,
            "ticks": "",
            "zerolinecolor": "white"
           }
          },
          "shapedefaults": {
           "line": {
            "color": "#2a3f5f"
           }
          },
          "ternary": {
           "aaxis": {
            "gridcolor": "white",
            "linecolor": "white",
            "ticks": ""
           },
           "baxis": {
            "gridcolor": "white",
            "linecolor": "white",
            "ticks": ""
           },
           "bgcolor": "#E5ECF6",
           "caxis": {
            "gridcolor": "white",
            "linecolor": "white",
            "ticks": ""
           }
          },
          "title": {
           "x": 0.05
          },
          "xaxis": {
           "automargin": true,
           "gridcolor": "white",
           "linecolor": "white",
           "ticks": "",
           "title": {
            "standoff": 15
           },
           "zerolinecolor": "white",
           "zerolinewidth": 2
          },
          "yaxis": {
           "automargin": true,
           "gridcolor": "white",
           "linecolor": "white",
           "ticks": "",
           "title": {
            "standoff": 15
           },
           "zerolinecolor": "white",
           "zerolinewidth": 2
          }
         }
        },
        "title": {
         "text": "Latest stats"
        },
        "treemapcolorway": [
         "#48c246",
         "#d43f56",
         "#6b9be8"
        ]
       }
      },
      "text/html": [
       "<div>                            <div id=\"4f12a972-d5a0-4c09-abbb-ad7fef9928f4\" class=\"plotly-graph-div\" style=\"height:250px; width:100%;\"></div>            <script type=\"text/javascript\">                require([\"plotly\"], function(Plotly) {                    window.PLOTLYENV=window.PLOTLYENV || {};                                    if (document.getElementById(\"4f12a972-d5a0-4c09-abbb-ad7fef9928f4\")) {                    Plotly.newPlot(                        \"4f12a972-d5a0-4c09-abbb-ad7fef9928f4\",                        [{\"branchvalues\": \"total\", \"domain\": {\"x\": [0.0, 1.0], \"y\": [0.0, 1.0]}, \"hovertemplate\": \"labels=%{label}<br>value=%{value}<br>parent=%{parent}<br>id=%{id}<extra></extra>\", \"ids\": [\"Active\", \"Deceased\", \"Recovered\"], \"labels\": [\"Active\", \"Deceased\", \"Recovered\"], \"name\": \"\", \"parents\": [\"\", \"\", \"\"], \"textinfo\": \"label+text+value\", \"type\": \"treemap\", \"values\": [50353, 85216, 712811]}],                        {\"height\": 250, \"legend\": {\"tracegroupgap\": 0}, \"template\": {\"data\": {\"bar\": [{\"error_x\": {\"color\": \"#2a3f5f\"}, \"error_y\": {\"color\": \"#2a3f5f\"}, \"marker\": {\"line\": {\"color\": \"#E5ECF6\", \"width\": 0.5}}, \"type\": \"bar\"}], \"barpolar\": [{\"marker\": {\"line\": {\"color\": \"#E5ECF6\", \"width\": 0.5}}, \"type\": \"barpolar\"}], \"carpet\": [{\"aaxis\": {\"endlinecolor\": \"#2a3f5f\", \"gridcolor\": \"white\", \"linecolor\": \"white\", \"minorgridcolor\": \"white\", \"startlinecolor\": \"#2a3f5f\"}, \"baxis\": {\"endlinecolor\": \"#2a3f5f\", \"gridcolor\": \"white\", \"linecolor\": \"white\", \"minorgridcolor\": \"white\", \"startlinecolor\": \"#2a3f5f\"}, \"type\": \"carpet\"}], \"choropleth\": [{\"colorbar\": {\"outlinewidth\": 0, \"ticks\": \"\"}, \"type\": \"choropleth\"}], \"contour\": [{\"colorbar\": {\"outlinewidth\": 0, \"ticks\": \"\"}, \"colorscale\": [[0.0, \"#0d0887\"], [0.1111111111111111, \"#46039f\"], [0.2222222222222222, \"#7201a8\"], [0.3333333333333333, \"#9c179e\"], [0.4444444444444444, \"#bd3786\"], [0.5555555555555556, \"#d8576b\"], [0.6666666666666666, \"#ed7953\"], [0.7777777777777778, \"#fb9f3a\"], [0.8888888888888888, \"#fdca26\"], [1.0, \"#f0f921\"]], \"type\": \"contour\"}], \"contourcarpet\": [{\"colorbar\": {\"outlinewidth\": 0, \"ticks\": \"\"}, \"type\": \"contourcarpet\"}], \"heatmap\": [{\"colorbar\": {\"outlinewidth\": 0, \"ticks\": \"\"}, \"colorscale\": [[0.0, \"#0d0887\"], [0.1111111111111111, \"#46039f\"], [0.2222222222222222, \"#7201a8\"], [0.3333333333333333, \"#9c179e\"], [0.4444444444444444, \"#bd3786\"], [0.5555555555555556, \"#d8576b\"], [0.6666666666666666, \"#ed7953\"], [0.7777777777777778, \"#fb9f3a\"], [0.8888888888888888, \"#fdca26\"], [1.0, \"#f0f921\"]], \"type\": \"heatmap\"}], \"heatmapgl\": [{\"colorbar\": {\"outlinewidth\": 0, \"ticks\": \"\"}, \"colorscale\": [[0.0, \"#0d0887\"], [0.1111111111111111, \"#46039f\"], [0.2222222222222222, \"#7201a8\"], [0.3333333333333333, \"#9c179e\"], [0.4444444444444444, \"#bd3786\"], [0.5555555555555556, \"#d8576b\"], [0.6666666666666666, \"#ed7953\"], [0.7777777777777778, \"#fb9f3a\"], [0.8888888888888888, \"#fdca26\"], [1.0, \"#f0f921\"]], \"type\": \"heatmapgl\"}], \"histogram\": [{\"marker\": {\"colorbar\": {\"outlinewidth\": 0, \"ticks\": \"\"}}, \"type\": \"histogram\"}], \"histogram2d\": [{\"colorbar\": {\"outlinewidth\": 0, \"ticks\": \"\"}, \"colorscale\": [[0.0, \"#0d0887\"], [0.1111111111111111, \"#46039f\"], [0.2222222222222222, \"#7201a8\"], [0.3333333333333333, \"#9c179e\"], [0.4444444444444444, \"#bd3786\"], [0.5555555555555556, \"#d8576b\"], [0.6666666666666666, \"#ed7953\"], [0.7777777777777778, \"#fb9f3a\"], [0.8888888888888888, \"#fdca26\"], [1.0, \"#f0f921\"]], \"type\": \"histogram2d\"}], \"histogram2dcontour\": [{\"colorbar\": {\"outlinewidth\": 0, \"ticks\": \"\"}, \"colorscale\": [[0.0, \"#0d0887\"], [0.1111111111111111, \"#46039f\"], [0.2222222222222222, \"#7201a8\"], [0.3333333333333333, \"#9c179e\"], [0.4444444444444444, \"#bd3786\"], [0.5555555555555556, \"#d8576b\"], [0.6666666666666666, \"#ed7953\"], [0.7777777777777778, \"#fb9f3a\"], [0.8888888888888888, \"#fdca26\"], [1.0, \"#f0f921\"]], \"type\": \"histogram2dcontour\"}], \"mesh3d\": [{\"colorbar\": {\"outlinewidth\": 0, \"ticks\": \"\"}, \"type\": \"mesh3d\"}], \"parcoords\": [{\"line\": {\"colorbar\": {\"outlinewidth\": 0, \"ticks\": \"\"}}, \"type\": \"parcoords\"}], \"pie\": [{\"automargin\": true, \"type\": \"pie\"}], \"scatter\": [{\"marker\": {\"colorbar\": {\"outlinewidth\": 0, \"ticks\": \"\"}}, \"type\": \"scatter\"}], \"scatter3d\": [{\"line\": {\"colorbar\": {\"outlinewidth\": 0, \"ticks\": \"\"}}, \"marker\": {\"colorbar\": {\"outlinewidth\": 0, \"ticks\": \"\"}}, \"type\": \"scatter3d\"}], \"scattercarpet\": [{\"marker\": {\"colorbar\": {\"outlinewidth\": 0, \"ticks\": \"\"}}, \"type\": \"scattercarpet\"}], \"scattergeo\": [{\"marker\": {\"colorbar\": {\"outlinewidth\": 0, \"ticks\": \"\"}}, \"type\": \"scattergeo\"}], \"scattergl\": [{\"marker\": {\"colorbar\": {\"outlinewidth\": 0, \"ticks\": \"\"}}, \"type\": \"scattergl\"}], \"scattermapbox\": [{\"marker\": {\"colorbar\": {\"outlinewidth\": 0, \"ticks\": \"\"}}, \"type\": \"scattermapbox\"}], \"scatterpolar\": [{\"marker\": {\"colorbar\": {\"outlinewidth\": 0, \"ticks\": \"\"}}, \"type\": \"scatterpolar\"}], \"scatterpolargl\": [{\"marker\": {\"colorbar\": {\"outlinewidth\": 0, \"ticks\": \"\"}}, \"type\": \"scatterpolargl\"}], \"scatterternary\": [{\"marker\": {\"colorbar\": {\"outlinewidth\": 0, \"ticks\": \"\"}}, \"type\": \"scatterternary\"}], \"surface\": [{\"colorbar\": {\"outlinewidth\": 0, \"ticks\": \"\"}, \"colorscale\": [[0.0, \"#0d0887\"], [0.1111111111111111, \"#46039f\"], [0.2222222222222222, \"#7201a8\"], [0.3333333333333333, \"#9c179e\"], [0.4444444444444444, \"#bd3786\"], [0.5555555555555556, \"#d8576b\"], [0.6666666666666666, \"#ed7953\"], [0.7777777777777778, \"#fb9f3a\"], [0.8888888888888888, \"#fdca26\"], [1.0, \"#f0f921\"]], \"type\": \"surface\"}], \"table\": [{\"cells\": {\"fill\": {\"color\": \"#EBF0F8\"}, \"line\": {\"color\": \"white\"}}, \"header\": {\"fill\": {\"color\": \"#C8D4E3\"}, \"line\": {\"color\": \"white\"}}, \"type\": \"table\"}]}, \"layout\": {\"annotationdefaults\": {\"arrowcolor\": \"#2a3f5f\", \"arrowhead\": 0, \"arrowwidth\": 1}, \"coloraxis\": {\"colorbar\": {\"outlinewidth\": 0, \"ticks\": \"\"}}, \"colorscale\": {\"diverging\": [[0, \"#8e0152\"], [0.1, \"#c51b7d\"], [0.2, \"#de77ae\"], [0.3, \"#f1b6da\"], [0.4, \"#fde0ef\"], [0.5, \"#f7f7f7\"], [0.6, \"#e6f5d0\"], [0.7, \"#b8e186\"], [0.8, \"#7fbc41\"], [0.9, \"#4d9221\"], [1, \"#276419\"]], \"sequential\": [[0.0, \"#0d0887\"], [0.1111111111111111, \"#46039f\"], [0.2222222222222222, \"#7201a8\"], [0.3333333333333333, \"#9c179e\"], [0.4444444444444444, \"#bd3786\"], [0.5555555555555556, \"#d8576b\"], [0.6666666666666666, \"#ed7953\"], [0.7777777777777778, \"#fb9f3a\"], [0.8888888888888888, \"#fdca26\"], [1.0, \"#f0f921\"]], \"sequentialminus\": [[0.0, \"#0d0887\"], [0.1111111111111111, \"#46039f\"], [0.2222222222222222, \"#7201a8\"], [0.3333333333333333, \"#9c179e\"], [0.4444444444444444, \"#bd3786\"], [0.5555555555555556, \"#d8576b\"], [0.6666666666666666, \"#ed7953\"], [0.7777777777777778, \"#fb9f3a\"], [0.8888888888888888, \"#fdca26\"], [1.0, \"#f0f921\"]]}, \"colorway\": [\"#636efa\", \"#EF553B\", \"#00cc96\", \"#ab63fa\", \"#FFA15A\", \"#19d3f3\", \"#FF6692\", \"#B6E880\", \"#FF97FF\", \"#FECB52\"], \"font\": {\"color\": \"#2a3f5f\"}, \"geo\": {\"bgcolor\": \"white\", \"lakecolor\": \"white\", \"landcolor\": \"#E5ECF6\", \"showlakes\": true, \"showland\": true, \"subunitcolor\": \"white\"}, \"hoverlabel\": {\"align\": \"left\"}, \"hovermode\": \"closest\", \"mapbox\": {\"style\": \"light\"}, \"paper_bgcolor\": \"white\", \"plot_bgcolor\": \"#E5ECF6\", \"polar\": {\"angularaxis\": {\"gridcolor\": \"white\", \"linecolor\": \"white\", \"ticks\": \"\"}, \"bgcolor\": \"#E5ECF6\", \"radialaxis\": {\"gridcolor\": \"white\", \"linecolor\": \"white\", \"ticks\": \"\"}}, \"scene\": {\"xaxis\": {\"backgroundcolor\": \"#E5ECF6\", \"gridcolor\": \"white\", \"gridwidth\": 2, \"linecolor\": \"white\", \"showbackground\": true, \"ticks\": \"\", \"zerolinecolor\": \"white\"}, \"yaxis\": {\"backgroundcolor\": \"#E5ECF6\", \"gridcolor\": \"white\", \"gridwidth\": 2, \"linecolor\": \"white\", \"showbackground\": true, \"ticks\": \"\", \"zerolinecolor\": \"white\"}, \"zaxis\": {\"backgroundcolor\": \"#E5ECF6\", \"gridcolor\": \"white\", \"gridwidth\": 2, \"linecolor\": \"white\", \"showbackground\": true, \"ticks\": \"\", \"zerolinecolor\": \"white\"}}, \"shapedefaults\": {\"line\": {\"color\": \"#2a3f5f\"}}, \"ternary\": {\"aaxis\": {\"gridcolor\": \"white\", \"linecolor\": \"white\", \"ticks\": \"\"}, \"baxis\": {\"gridcolor\": \"white\", \"linecolor\": \"white\", \"ticks\": \"\"}, \"bgcolor\": \"#E5ECF6\", \"caxis\": {\"gridcolor\": \"white\", \"linecolor\": \"white\", \"ticks\": \"\"}}, \"title\": {\"x\": 0.05}, \"xaxis\": {\"automargin\": true, \"gridcolor\": \"white\", \"linecolor\": \"white\", \"ticks\": \"\", \"title\": {\"standoff\": 15}, \"zerolinecolor\": \"white\", \"zerolinewidth\": 2}, \"yaxis\": {\"automargin\": true, \"gridcolor\": \"white\", \"linecolor\": \"white\", \"ticks\": \"\", \"title\": {\"standoff\": 15}, \"zerolinecolor\": \"white\", \"zerolinewidth\": 2}}}, \"title\": {\"text\": \"Latest stats\"}, \"treemapcolorway\": [\"#48c246\", \"#d43f56\", \"#6b9be8\"]},                        {\"responsive\": true}                    ).then(function(){\n",
       "                            \n",
       "var gd = document.getElementById('4f12a972-d5a0-4c09-abbb-ad7fef9928f4');\n",
       "var x = new MutationObserver(function (mutations, observer) {{\n",
       "        var display = window.getComputedStyle(gd).display;\n",
       "        if (!display || display === 'none') {{\n",
       "            console.log([gd, 'removed!']);\n",
       "            Plotly.purge(gd);\n",
       "            observer.disconnect();\n",
       "        }}\n",
       "}});\n",
       "\n",
       "// Listen for the removal of the full notebook cells\n",
       "var notebookContainer = gd.closest('#notebook-container');\n",
       "if (notebookContainer) {{\n",
       "    x.observe(notebookContainer, {childList: true});\n",
       "}}\n",
       "\n",
       "// Listen for the clearing of the current output cell\n",
       "var outputEl = gd.closest('.output');\n",
       "if (outputEl) {{\n",
       "    x.observe(outputEl, {childList: true});\n",
       "}}\n",
       "\n",
       "                        })                };                });            </script>        </div>"
      ]
     },
     "metadata": {},
     "output_type": "display_data"
    }
   ],
   "source": [
    "import plotly.express as px\n",
    "#  subset columns\n",
    "temp = newData[['Active', 'Deceased', 'Recovered']]\n",
    "temp = temp.iloc[:,:]\n",
    "\n",
    "# rename columns\n",
    "temp.columns = ['Active', 'Deceased', 'Recovered']\n",
    "\n",
    "# melt into longer format\n",
    "tm = temp.melt(value_vars=['Active', 'Deceased', 'Recovered'])\n",
    "\n",
    "# plot\n",
    "fig_1 = px.treemap(tm, path=[\"variable\"], values=\"value\", height=250, color_discrete_sequence=[rec, dth, act], title='Latest stats')\n",
    "fig_1.data[0].textinfo = 'label+text+value'\n",
    "fig_1.show()"
   ]
  },
  {
   "cell_type": "code",
   "execution_count": null,
   "metadata": {},
   "outputs": [],
   "source": []
  }
 ],
 "metadata": {
  "kernelspec": {
   "display_name": "Python 3",
   "language": "python",
   "name": "python3"
  },
  "language_info": {
   "codemirror_mode": {
    "name": "ipython",
    "version": 3
   },
   "file_extension": ".py",
   "mimetype": "text/x-python",
   "name": "python",
   "nbconvert_exporter": "python",
   "pygments_lexer": "ipython3",
   "version": "3.7.7"
  }
 },
 "nbformat": 4,
 "nbformat_minor": 4
}
